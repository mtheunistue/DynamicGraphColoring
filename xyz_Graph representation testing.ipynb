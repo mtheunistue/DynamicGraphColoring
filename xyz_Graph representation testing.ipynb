{
 "cells": [
  {
   "cell_type": "code",
   "execution_count": 1,
   "metadata": {
    "colab": {
     "base_uri": "https://localhost:8080/"
    },
    "executionInfo": {
     "elapsed": 2233,
     "status": "ok",
     "timestamp": 1645615048010,
     "user": {
      "displayName": "Menno T",
      "photoUrl": "https://lh3.googleusercontent.com/a/default-user=s64",
      "userId": "16243563737177359804"
     },
     "user_tz": -60
    },
    "id": "AJOPpQL8OAZd",
    "outputId": "b716060c-4f28-4519-9f2f-4f1072ca14a8"
   },
   "outputs": [],
   "source": [
    "import pandas as pd\n",
    "import numpy as np\n",
    "import csv\n",
    "import matplotlib\n",
    "import scipy\n",
    "import datetime\n",
    "import networkx as nx"
   ]
  },
  {
   "cell_type": "code",
   "execution_count": 2,
   "metadata": {
    "executionInfo": {
     "elapsed": 2,
     "status": "ok",
     "timestamp": 1645615049802,
     "user": {
      "displayName": "Menno T",
      "photoUrl": "https://lh3.googleusercontent.com/a/default-user=s64",
      "userId": "16243563737177359804"
     },
     "user_tz": -60
    },
    "id": "vnUDf1FkOHl4"
   },
   "outputs": [],
   "source": [
    "G = nx.Graph()"
   ]
  },
  {
   "cell_type": "code",
   "execution_count": 3,
   "metadata": {
    "colab": {
     "base_uri": "https://localhost:8080/",
     "height": 319
    },
    "executionInfo": {
     "elapsed": 726,
     "status": "ok",
     "timestamp": 1645615052003,
     "user": {
      "displayName": "Menno T",
      "photoUrl": "https://lh3.googleusercontent.com/a/default-user=s64",
      "userId": "16243563737177359804"
     },
     "user_tz": -60
    },
    "id": "giHGVnKjOHof",
    "outputId": "85dd1ce6-ced3-4faf-ce35-2a263731e055"
   },
   "outputs": [
    {
     "data": {
      "image/png": "[encoded data removed]",
      "text/plain": [
       "<Figure size 432x288 with 1 Axes>"
      ]
     },
     "metadata": {},
     "output_type": "display_data"
    }
   ],
   "source": [
    "G.add_node('politics')\n",
    "G.add_node('gaming')\n",
    "G.add_node('news')\n",
    "\n",
    "G.nodes['gaming']['subscribed'] = True\n",
    "\n",
    "G.add_edge('politics', 'news')\n",
    "\n",
    "nx.draw(G, with_labels=True)"
   ]
  },
  {
   "cell_type": "code",
   "execution_count": 4,
   "metadata": {
    "colab": {
     "base_uri": "https://localhost:8080/"
    },
    "executionInfo": {
     "elapsed": 333,
     "status": "ok",
     "timestamp": 1645615340496,
     "user": {
      "displayName": "Menno T",
      "photoUrl": "https://lh3.googleusercontent.com/a/default-user=s64",
      "userId": "16243563737177359804"
     },
     "user_tz": -60
    },
    "id": "-KJ86M4mOHrB",
    "outputId": "0630e170-6228-4757-897d-cc27775e069a"
   },
   "outputs": [
    {
     "data": {
      "text/plain": [
       "[0, 0, 1]"
      ]
     },
     "execution_count": 4,
     "metadata": {},
     "output_type": "execute_result"
    }
   ],
   "source": [
    "\n",
    "coloring = nx.coloring.greedy_color(G, strategy=nx.coloring.strategy_largest_first)\n",
    "color_list = []\n",
    "for node in G.nodes:\n",
    "  color_list.append(coloring.get(node))\n",
    "coloring\n",
    "color_list"
   ]
  },
  {
   "cell_type": "code",
   "execution_count": 5,
   "metadata": {
    "colab": {
     "base_uri": "https://localhost:8080/",
     "height": 319
    },
    "executionInfo": {
     "elapsed": 499,
     "status": "ok",
     "timestamp": 1645615344956,
     "user": {
      "displayName": "Menno T",
      "photoUrl": "https://lh3.googleusercontent.com/a/default-user=s64",
      "userId": "16243563737177359804"
     },
     "user_tz": -60
    },
    "id": "GalwFd_0OHtn",
    "outputId": "2c35fdad-e711-4a42-c6cf-992f9b3609f2"
   },
   "outputs": [
    {
     "data": {
      "image/png": "[encoded data removed]",
      "text/plain": [
       "<Figure size 432x288 with 1 Axes>"
      ]
     },
     "metadata": {},
     "output_type": "display_data"
    }
   ],
   "source": [
    "nx.draw(G, node_color=color_list, with_labels=True)"
   ]
  },
  {
   "cell_type": "code",
   "execution_count": null,
   "metadata": {
    "id": "MnjxQ3CJOHwI"
   },
   "outputs": [],
   "source": []
  },
  {
   "cell_type": "code",
   "execution_count": null,
   "metadata": {
    "id": "UZ_J8vTEOHyQ"
   },
   "outputs": [],
   "source": []
  },
  {
   "cell_type": "code",
   "execution_count": null,
   "metadata": {
    "id": "_yZEDjxwOH04"
   },
   "outputs": [],
   "source": []
  }
 ],
 "metadata": {
  "colab": {
   "authorship_tag": "ABX9TyOrbhWqZnfybO6vvrKzhZR1",
   "name": "Graph representation testing.ipynb",
   "provenance": []
  },
  "kernelspec": {
   "display_name": "Python 3 (ipykernel)",
   "language": "python",
   "name": "python3"
  },
  "language_info": {
   "codemirror_mode": {
    "name": "ipython",
    "version": 3
   },
   "file_extension": ".py",
   "mimetype": "text/x-python",
   "name": "python",
   "nbconvert_exporter": "python",
   "pygments_lexer": "ipython3",
   "version": "3.9.5"
  }
 },
 "nbformat": 4,
 "nbformat_minor": 4
}
