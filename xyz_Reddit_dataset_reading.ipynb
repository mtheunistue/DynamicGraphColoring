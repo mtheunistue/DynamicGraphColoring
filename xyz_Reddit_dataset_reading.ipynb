{
 "cells": [
  {
   "cell_type": "markdown",
   "metadata": {
    "id": "o6_EMkvSbSGa",
    "tags": []
   },
   "source": [
    "# Imports and Mounting"
   ]
  },
  {
   "cell_type": "code",
   "execution_count": 1,
   "metadata": {
    "colab": {
     "base_uri": "https://localhost:8080/"
    },
    "id": "gzM_bv5DWn2k",
    "outputId": "f952dd0d-cf11-486c-fb06-2bc8b3f37539"
   },
   "outputs": [],
   "source": [
    "#Imports\n",
    "%matplotlib widget\n",
    "import pandas as pd\n",
    "import numpy as np\n",
    "import csv\n",
    "import matplotlib\n",
    "import matplotlib.pyplot as plt\n",
    "import scipy\n",
    "import datetime\n",
    "import networkx as nx"
   ]
  },
  {
   "cell_type": "markdown",
   "metadata": {
    "id": "0KlvgBiZeXYl"
   },
   "source": [
    "# Misc Methods"
   ]
  },
  {
   "cell_type": "code",
   "execution_count": 2,
   "metadata": {
    "id": "bM9M_P6Dea8C"
   },
   "outputs": [],
   "source": [
    "def head(a: dict, i: int) -> dict:\n",
    "  return dict(list(a.items())[0:i])"
   ]
  },
  {
   "cell_type": "code",
   "execution_count": 3,
   "metadata": {
    "id": "wXYxroDcfeIb"
   },
   "outputs": [],
   "source": [
    "def drawColored(G: nx.Graph, coloring: dict):\n",
    "  #Create drawable color_list from coloring in the right order\n",
    "  color_list = []\n",
    "  for node in G.nodes:\n",
    "    color_list.append(coloring.get(node))\n",
    "\n",
    "  #Draw colored graph with color_list\n",
    "  plt.figure()\n",
    "  nx.draw(G, node_color=color_list, with_labels=True)\n",
    "  plt.show()"
   ]
  },
  {
   "cell_type": "code",
   "execution_count": 4,
   "metadata": {
    "id": "F18umdmrxFCd"
   },
   "outputs": [],
   "source": [
    "def numberOfColors(coloring: dict) -> int:\n",
    "  #Create drawable color_list from coloring in the right order\n",
    "  color_list = []\n",
    "  for key in coloring.keys():\n",
    "    color_list.append(coloring.get(key))\n",
    "  return len(set(color_list))"
   ]
  },
  {
   "cell_type": "code",
   "execution_count": 5,
   "metadata": {},
   "outputs": [],
   "source": [
    "#Read reddit text file data\n",
    "def readRedditData():\n",
    "    file = open('data/reddit_edges.txt', 'r')\n",
    "    edges = []\n",
    "    for line in file.readlines():\n",
    "        edges.append((line.split()[0], line.split()[1]))\n",
    "    file.close()\n",
    "    file = open('data/reddit_vertices.txt', 'r')\n",
    "    vertices = []\n",
    "    for line in file.readlines():\n",
    "        vertices.append(line)\n",
    "    file.close()"
   ]
  },
  {
   "cell_type": "markdown",
   "metadata": {
    "id": "lMm8t-7ubRCM"
   },
   "source": [
    "# Data acquisition"
   ]
  },
  {
   "cell_type": "code",
   "execution_count": 6,
   "metadata": {
    "id": "fB06Ev8uWp-b"
   },
   "outputs": [],
   "source": [
    "# Read the file from drive\n",
    "# File can be downloaded here: https://snap.stanford.edu/data/#temporal\n",
    "df = pd.read_csv('bigdata/soc-redditHyperlinks-body.tsv', delimiter=\"\\t\")"
   ]
  },
  {
   "cell_type": "code",
   "execution_count": 7,
   "metadata": {
    "id": "JP-IkF1Q9Zze"
   },
   "outputs": [],
   "source": [
    "#Some pandas filtering of the data\n",
    "dfBasic = df.drop(['POST_ID', 'TIMESTAMP', 'LINK_SENTIMENT', 'PROPERTIES'], axis=1)\n",
    "dfEdges = dfBasic.drop_duplicates()\n",
    "\n",
    "#Extract pandas data to simple lists\n",
    "sources = dfEdges['SOURCE_SUBREDDIT'].tolist()\n",
    "targets = dfEdges['TARGET_SUBREDDIT'].tolist()"
   ]
  },
  {
   "cell_type": "code",
   "execution_count": 8,
   "metadata": {
    "colab": {
     "base_uri": "https://localhost:8080/"
    },
    "id": "9Bn_faLHbIS1",
    "outputId": "98783d9d-1445-4d7e-84a2-7e213121e675"
   },
   "outputs": [
    {
     "data": {
      "text/plain": [
       "35776"
      ]
     },
     "execution_count": 8,
     "metadata": {},
     "output_type": "execute_result"
    }
   ],
   "source": [
    "#Get all vertices\n",
    "vertices = list(set.union(set(sources), set(targets)))\n",
    "len(vertices)"
   ]
  },
  {
   "cell_type": "code",
   "execution_count": 9,
   "metadata": {
    "colab": {
     "base_uri": "https://localhost:8080/"
    },
    "id": "7OshOAaDCmjI",
    "outputId": "47158579-784e-4e70-f4a5-5b9e70e9f199"
   },
   "outputs": [
    {
     "name": "stdout",
     "output_type": "stream",
     "text": [
      "35776\n"
     ]
    },
    {
     "data": {
      "text/plain": [
       "['glitch_art',\n",
       " 'tuscaloosa',\n",
       " 'manwhorepodcast',\n",
       " 'simplebanking',\n",
       " 'ryan',\n",
       " 'stunfisk',\n",
       " 'trillek',\n",
       " 'nsfw_korea',\n",
       " 'dubaiclassifieds',\n",
       " 'basingstoke',\n",
       " 'gtd',\n",
       " 'ideasfortifu',\n",
       " 'nmsportals',\n",
       " 'trump',\n",
       " 'destionationtest',\n",
       " 'littlepersonals',\n",
       " 'wisconsingo',\n",
       " 'redditpersonality',\n",
       " 'vapewild',\n",
       " 'letsencrypt']"
      ]
     },
     "execution_count": 9,
     "metadata": {},
     "output_type": "execute_result"
    }
   ],
   "source": [
    "print(len(vertices))\n",
    "vertices[0:20]"
   ]
  },
  {
   "cell_type": "code",
   "execution_count": 10,
   "metadata": {
    "id": "1Bj7nytpa9mG"
   },
   "outputs": [],
   "source": [
    "#Get all edges\n",
    "edges = []\n",
    "for i in range (0, len(sources)):\n",
    "  tuple = (sources[i], targets[i])\n",
    "  edges.append(tuple)"
   ]
  },
  {
   "cell_type": "code",
   "execution_count": 11,
   "metadata": {
    "id": "5L3ZoB7Hal-6"
   },
   "outputs": [],
   "source": [
    "#Remove inversed tuples \n",
    "#since our graph will not be directional, networkx would just ignore these tuples\n",
    "from more_itertools import unique_everseen\n",
    "edges = list(unique_everseen(edges, key=frozenset))"
   ]
  },
  {
   "cell_type": "code",
   "execution_count": 12,
   "metadata": {
    "colab": {
     "base_uri": "https://localhost:8080/"
    },
    "id": "5joG7KjUaKK2",
    "outputId": "5402f3bf-48e5-4851-9848-6d2fc7988670"
   },
   "outputs": [
    {
     "name": "stdout",
     "output_type": "stream",
     "text": [
      "124330\n"
     ]
    },
    {
     "data": {
      "text/plain": [
       "[('leagueoflegends', 'teamredditteams'),\n",
       " ('theredlion', 'soccer'),\n",
       " ('inlandempire', 'bikela'),\n",
       " ('nfl', 'cfb'),\n",
       " ('playmygame', 'gamedev'),\n",
       " ('dogemarket', 'dogecoin'),\n",
       " ('locationbot', 'legaladvice'),\n",
       " ('indiefied', 'aww'),\n",
       " ('posthardcore', 'bestof2013'),\n",
       " ('posthardcore', 'corejerk'),\n",
       " ('gfycat', 'india'),\n",
       " ('metalcore', 'bestof2013'),\n",
       " ('metalcore', 'corejerk'),\n",
       " ('suicidewatch', 'offmychest'),\n",
       " ('dogecoin', 'novacoin'),\n",
       " ('gaming4gamers', 'fallout'),\n",
       " ('kpop', 'dota2'),\n",
       " ('airsoft', 'airsoftmarket'),\n",
       " ('circlebroke', 'childfree'),\n",
       " ('tribes', 'games')]"
      ]
     },
     "execution_count": 12,
     "metadata": {},
     "output_type": "execute_result"
    }
   ],
   "source": [
    "print(len(edges))\n",
    "edges[0:20]"
   ]
  },
  {
   "cell_type": "code",
   "execution_count": 13,
   "metadata": {},
   "outputs": [],
   "source": []
  },
  {
   "cell_type": "code",
   "execution_count": 14,
   "metadata": {},
   "outputs": [
    {
     "ename": "NameError",
     "evalue": "name 'test' is not defined",
     "output_type": "error",
     "traceback": [
      "\u001b[1;31m---------------------------------------------------------------------------\u001b[0m",
      "\u001b[1;31mNameError\u001b[0m                                 Traceback (most recent call last)",
      "Input \u001b[1;32mIn [14]\u001b[0m, in \u001b[0;36m<module>\u001b[1;34m\u001b[0m\n\u001b[1;32m----> 1\u001b[0m \u001b[43mtest\u001b[49m\n",
      "\u001b[1;31mNameError\u001b[0m: name 'test' is not defined"
     ]
    }
   ],
   "source": []
  },
  {
   "cell_type": "code",
   "execution_count": null,
   "metadata": {},
   "outputs": [],
   "source": []
  },
  {
   "cell_type": "markdown",
   "metadata": {
    "id": "HW1EdXEmUliR"
   },
   "source": [
    "# Networkx greedy coloring and drawing"
   ]
  },
  {
   "cell_type": "code",
   "execution_count": null,
   "metadata": {
    "id": "KN1DVfwPV2Tg"
   },
   "outputs": [],
   "source": [
    "#Create empty graph\n",
    "G = nx.Graph()"
   ]
  },
  {
   "cell_type": "code",
   "execution_count": null,
   "metadata": {
    "colab": {
     "base_uri": "https://localhost:8080/"
    },
    "id": "lpAknUN3UxMB",
    "outputId": "0631c77c-c01a-401f-e570-156e09f5dc38"
   },
   "outputs": [],
   "source": [
    "#Add vertices and edges\n",
    "#Note that adding edges between vertices not yet in the graph will add those vertices\n",
    "\n",
    "#G.add_nodes_from(vertices)\n",
    "G.add_edges_from(edges[0:40])\n",
    "\n",
    "print(len(G.nodes))\n",
    "print(len(G.edges))"
   ]
  },
  {
   "cell_type": "code",
   "execution_count": null,
   "metadata": {
    "colab": {
     "base_uri": "https://localhost:8080/"
    },
    "id": "9ydEhWJwbpCq",
    "outputId": "7dd14c2d-6dad-4632-d583-c327683226ad"
   },
   "outputs": [],
   "source": [
    "#Compute coloring\n",
    "coloring = nx.coloring.greedy_color(G, strategy=nx.coloring.strategy_largest_first)\n",
    "head(coloring, 20)"
   ]
  },
  {
   "cell_type": "code",
   "execution_count": null,
   "metadata": {
    "colab": {
     "base_uri": "https://localhost:8080/"
    },
    "id": "2NdcPZQexVi1",
    "outputId": "cffe5307-b707-44a6-dc24-eacc52ed6068"
   },
   "outputs": [],
   "source": [
    "numberOfColors(coloring)"
   ]
  },
  {
   "cell_type": "code",
   "execution_count": null,
   "metadata": {
    "colab": {
     "base_uri": "https://localhost:8080/",
     "height": 319
    },
    "id": "pkIdszpBVL4y",
    "outputId": "bbbc9528-e15b-4946-da98-9101304d9f0a"
   },
   "outputs": [],
   "source": [
    "#Draw graph with colors\n",
    "drawColored(G, coloring)"
   ]
  },
  {
   "cell_type": "code",
   "execution_count": null,
   "metadata": {
    "id": "hRa6HuNN0V8t"
   },
   "outputs": [],
   "source": []
  },
  {
   "cell_type": "code",
   "execution_count": null,
   "metadata": {
    "id": "3mocIwI64yI_"
   },
   "outputs": [],
   "source": []
  },
  {
   "cell_type": "code",
   "execution_count": null,
   "metadata": {
    "id": "nU0M2OV97ywm"
   },
   "outputs": [],
   "source": []
  },
  {
   "cell_type": "code",
   "execution_count": null,
   "metadata": {
    "id": "GQ18Kd5F3uKe"
   },
   "outputs": [],
   "source": []
  }
 ],
 "metadata": {
  "colab": {
   "collapsed_sections": [
    "lMm8t-7ubRCM"
   ],
   "name": "Reddit dataset reading.ipynb",
   "provenance": []
  },
  "kernelspec": {
   "display_name": "Python 3 (ipykernel)",
   "language": "python",
   "name": "python3"
  },
  "language_info": {
   "codemirror_mode": {
    "name": "ipython",
    "version": 3
   },
   "file_extension": ".py",
   "mimetype": "text/x-python",
   "name": "python",
   "nbconvert_exporter": "python",
   "pygments_lexer": "ipython3",
   "version": "3.9.5"
  }
 },
 "nbformat": 4,
 "nbformat_minor": 4
}
