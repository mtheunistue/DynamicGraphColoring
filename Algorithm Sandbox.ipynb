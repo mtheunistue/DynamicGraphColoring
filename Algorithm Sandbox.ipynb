{
 "cells": [
  {
   "cell_type": "markdown",
   "id": "21b60a7a",
   "metadata": {},
   "source": [
    "# Imports"
   ]
  },
  {
   "cell_type": "code",
   "execution_count": 1,
   "id": "16646cac-517a-442e-b70e-353abe179b32",
   "metadata": {},
   "outputs": [],
   "source": [
    "#Imports\n",
    "%matplotlib widget\n",
    "import pandas as pd\n",
    "import numpy as np\n",
    "import csv\n",
    "import matplotlib\n",
    "import matplotlib.pyplot as plt\n",
    "import scipy\n",
    "import datetime\n",
    "import networkx as nx\n",
    "import misc\n",
    "import math\n",
    "import random\n",
    "import SmallBucket\n",
    "import BigBucket"
   ]
  },
  {
   "cell_type": "markdown",
   "id": "1f5c8374",
   "metadata": {},
   "source": [
    "# Data Generation"
   ]
  },
  {
   "cell_type": "code",
   "execution_count": 64,
   "id": "5196740d-36d2-4960-9fde-222208141229",
   "metadata": {},
   "outputs": [],
   "source": [
    "#Create empty graph\n",
    "G = nx.Graph()"
   ]
  },
  {
   "cell_type": "code",
   "execution_count": 65,
   "id": "240d5997",
   "metadata": {},
   "outputs": [],
   "source": [
    "G.add_nodes_from([0, 1, 2, 3, 4, 5, 6, 7, 8, 9])\n",
    "\n",
    "G.add_edges_from([\n",
    "    (0,1),\n",
    "    (1,2),\n",
    "    (2,3),\n",
    "    (3,4),\n",
    "    (4,5),\n",
    "    (5,6),\n",
    "    (6,7),\n",
    "    (7,8),\n",
    "    (8,9),\n",
    "    (9,0),\n",
    "\n",
    "    (0,2),\n",
    "    (0,3),\n",
    "    (0,4),\n",
    "    (1,3)\n",
    "])"
   ]
  },
  {
   "cell_type": "code",
   "execution_count": null,
   "id": "4becf55d",
   "metadata": {},
   "outputs": [],
   "source": []
  },
  {
   "cell_type": "code",
   "execution_count": null,
   "id": "3b4d138f",
   "metadata": {},
   "outputs": [],
   "source": []
  },
  {
   "cell_type": "markdown",
   "id": "c8846182",
   "metadata": {},
   "source": [
    "# Common items"
   ]
  },
  {
   "cell_type": "code",
   "execution_count": 66,
   "id": "37fdf86c",
   "metadata": {},
   "outputs": [],
   "source": [
    "G = nx.Graph()  # The complete graph\n",
    "d = 3   # Amount of levels\n",
    "staticColoring = {}   # Coloring at any moment\n",
    "bucketLevels = []"
   ]
  },
  {
   "cell_type": "code",
   "execution_count": 220,
   "id": "7c469f8d-51cc-4278-b75f-42004394d703",
   "metadata": {},
   "outputs": [],
   "source": [
    "class Bucket:\n",
    "\n",
    "  vertices: set = set({})\n",
    "  coloring: dict = {}\n",
    "\n",
    "  def __init__(self, size, level):\n",
    "      self.size = size\n",
    "      self.level = level\n",
    "\n",
    "  def addVertices(self, newVertices):\n",
    "    self.vertices = self.vertices.union(newVertices)\n",
    "    for vertex in newVertices:\n",
    "        G.nodes[vertex]['bucket'] = self\n",
    "\n",
    "  def removeVertices(self, removeVertices):\n",
    "    self.vertices = self.vertices.difference(removeVertices)\n",
    "    for vertex in removeVertices:\n",
    "        G.nodes[vertex]['bucket'] = None\n",
    "        self.coloring.pop(vertex, None)\n"
   ]
  },
  {
   "cell_type": "code",
   "execution_count": 68,
   "id": "b57cf762",
   "metadata": {},
   "outputs": [],
   "source": [
    "# Returns whether there is still an empty bucket on the requested level\n",
    "# Also returns the index of this bucket, if applicable\n",
    "def isEmptyBucketOnLevel(level: int) -> tuple[bool, int]:\n",
    "    for j in range(0, len(bucketLevels[level])):\n",
    "        bucket = bucketLevels[level][j]\n",
    "        if len(bucket.vertices) == 0:\n",
    "                return (True, j)\n",
    "    return (False, -1)"
   ]
  },
  {
   "cell_type": "code",
   "execution_count": 212,
   "id": "9b8c3809",
   "metadata": {},
   "outputs": [],
   "source": [
    "# Empties all buckets on a level and returns the union of all vertices\n",
    "# Also ensures the colorings and vertex lists in the emptied buckets are reset\n",
    "def emptyLevel(level: int):\n",
    "    vertices: set = set({})\n",
    "    for bucket in bucketLevels[level]:\n",
    "        vertices = vertices.union(bucket.vertices)\n",
    "        bucket.removeVertices(bucket.vertices)\n",
    "    return vertices"
   ]
  },
  {
   "cell_type": "code",
   "execution_count": null,
   "id": "7a8b57bb",
   "metadata": {},
   "outputs": [],
   "source": []
  },
  {
   "cell_type": "code",
   "execution_count": null,
   "id": "6d2dc1b2",
   "metadata": {},
   "outputs": [],
   "source": []
  },
  {
   "cell_type": "markdown",
   "id": "b7c3f190",
   "metadata": {},
   "source": [
    "# Algorithm Specific Methods"
   ]
  },
  {
   "cell_type": "code",
   "execution_count": null,
   "id": "09cfbf8d",
   "metadata": {},
   "outputs": [],
   "source": []
  },
  {
   "cell_type": "code",
   "execution_count": 194,
   "id": "fac93115-a3b3-44e5-8d0f-540e048cc496",
   "metadata": {},
   "outputs": [],
   "source": [
    "# Creates brand new buckets with the correct sizes\n",
    "def resetBuckets(G: nx.Graph):\n",
    "    nx.set_node_attributes(G, None, 'bucket')   # Reset all bucket references in G to None\n",
    "    nr = G.number_of_nodes()    # Number of vertices in G\n",
    "    s = math.ceil(pow(nr, 1/d)) # Amount of buckets per level\n",
    "    s = max(1, s)               # To allow the algorithm to work with empty graphs as well\n",
    "\n",
    "    # Create d levels of s buckets each, with capacity s^i per bucket, where i the level of the bucket\n",
    "    global bucketLevels\n",
    "    bucketLevels = []\n",
    "    for level in range(0, d):\n",
    "        bucketLevel = []\n",
    "        for b in range(0, s):\n",
    "            bucketLevel.append(Bucket(pow(s, level), level))\n",
    "        bucketLevels.append(bucketLevel)\n",
    "    bucketLevels.append([Bucket(nr, d)])\n",
    "    \n",
    "    global staticColoring\n",
    "    staticColoring = nx.coloring.greedy_color(G)\n",
    "    "
   ]
  },
  {
   "cell_type": "code",
   "execution_count": null,
   "id": "a21e437a",
   "metadata": {},
   "outputs": [],
   "source": []
  },
  {
   "cell_type": "code",
   "execution_count": null,
   "id": "fdaa21e1",
   "metadata": {},
   "outputs": [],
   "source": []
  },
  {
   "cell_type": "code",
   "execution_count": 86,
   "id": "73bd4730",
   "metadata": {},
   "outputs": [],
   "source": [
    "# Update bucket contents and recolor subgraphs\n",
    "def updateBuckets(b: Bucket):\n",
    "    b = b\n",
    "    i = 0\n",
    "    while i < d:\n",
    "        # If there is still an empty bucket on a level, this level does not need updating\n",
    "        # Simply recompute the coloring of the most recent bucket and return\n",
    "        if isEmptyBucketOnLevel(i)[0]:\n",
    "            b.coloring = nx.coloring.greedy_color(G.subgraph(b.vertices))\n",
    "            return\n",
    "        else:\n",
    "            # Else, empty all level i buckets into a single level i+1 bucket, update b to point at new bucket\n",
    "            vertices = emptyLevel(i)\n",
    "            b = bucketLevels[i+1][isEmptyBucketOnLevel(i+1)[1]]\n",
    "            b.addVertices(vertices)\n",
    "            i += 1\n",
    "    resetBuckets(G)\n",
    "    return"
   ]
  },
  {
   "cell_type": "code",
   "execution_count": 244,
   "id": "ed1c4a83",
   "metadata": {},
   "outputs": [],
   "source": [
    "def removeEdge(s, t):\n",
    "    if not G.has_edge(s, t):    # Potentially redundant\n",
    "        print(\"Edge not present in graph\")\n",
    "        return\n",
    "    G.remove_edge(s, t)\n",
    "\n",
    "def removeVertex(v):\n",
    "\n",
    "    if not G.has_node(v):   # Potentially redundant\n",
    "        print(\"Node not present in graph\")\n",
    "        return\n",
    "\n",
    "    b = G.nodes[v]['bucket']\n",
    "    if b != None:\n",
    "        b.removeVertices([v])\n",
    "    G.remove_node(v)\n",
    "\n",
    "def addEdge(s, t):\n",
    "\n",
    "    if G.has_edge(s, t):    # Potentially redundant, but could be extended to also check if the vertices are present yet\n",
    "        print(\"Edge already in the graph\")\n",
    "        return\n",
    "    if (not G.has_node(s) or not G.has_node(t)):\n",
    "        print(\"Not all nodes present in graph yet\")\n",
    "        return\n",
    "\n",
    "\n",
    "    G.add_edge(s, t)\n",
    "    # Select one of the endpoints at random, remove it from a bucket and add it as usual\n",
    "    if bool(random.getrandbits(1)):\n",
    "        v = s\n",
    "    else:\n",
    "        v = t\n",
    "        \n",
    "    b = G.nodes[v]['bucket']\n",
    "    if b != None:\n",
    "        b.removeVertices([v])\n",
    "    \n",
    "    # Add vertex to an empty bucket\n",
    "    bucket = bucketLevels[0][isEmptyBucketOnLevel(0)[1]]\n",
    "    bucket.addVertices([v])\n",
    "    updateBuckets(bucket)\n",
    "\n",
    "def addVertex(v):\n",
    "    if G.has_node(v):   # Potentially redundant, depending on the input used during the experiments\n",
    "        print(\"Node already present in graph\")\n",
    "        return\n",
    "    G.add_node(v)\n",
    "    bucket = bucketLevels[0][isEmptyBucketOnLevel(0)[1]]\n",
    "    bucket.addVertices([v])\n",
    "    updateBuckets(bucket)"
   ]
  },
  {
   "cell_type": "code",
   "execution_count": 236,
   "id": "6e0d14d7",
   "metadata": {},
   "outputs": [],
   "source": [
    "def getColoring():\n",
    "    bucketColorings = [staticColoring]\n",
    "    for bucketLevel in bucketLevels:\n",
    "        for bucket in bucketLevel:\n",
    "            bucketColorings.append(bucket.coloring)\n",
    "    combinedColoring = misc.combineColorings(bucketColorings)   \n",
    "    return combinedColoring      "
   ]
  },
  {
   "cell_type": "code",
   "execution_count": 74,
   "id": "6b674062",
   "metadata": {},
   "outputs": [],
   "source": [
    "def printBucketLevels(bls):\n",
    "    for bl in bls:\n",
    "        for b in bl:\n",
    "            print(\"|  \" + str(b.vertices) + \"  |\")\n",
    "        print(\"-----------------------------------------------\")\n"
   ]
  },
  {
   "cell_type": "code",
   "execution_count": 223,
   "id": "f8230da4",
   "metadata": {},
   "outputs": [],
   "source": [
    "G = nx.Graph()"
   ]
  },
  {
   "cell_type": "code",
   "execution_count": 224,
   "id": "611df655",
   "metadata": {},
   "outputs": [],
   "source": [
    "resetBuckets(G)"
   ]
  },
  {
   "cell_type": "code",
   "execution_count": 257,
   "id": "1ea0f55a",
   "metadata": {},
   "outputs": [
    {
     "name": "stdout",
     "output_type": "stream",
     "text": [
      "|  {700}  |\n",
      "|  set()  |\n",
      "-----------------------------------------------\n",
      "|  set()  |\n",
      "|  set()  |\n",
      "-----------------------------------------------\n",
      "|  set()  |\n",
      "|  set()  |\n",
      "-----------------------------------------------\n",
      "|  set()  |\n",
      "-----------------------------------------------\n"
     ]
    }
   ],
   "source": [
    "addVertex(700)\n",
    "printBucketLevels(bucketLevels)"
   ]
  },
  {
   "cell_type": "code",
   "execution_count": 254,
   "id": "3cd0d863",
   "metadata": {},
   "outputs": [
    {
     "data": {
      "text/plain": [
       "{}"
      ]
     },
     "execution_count": 254,
     "metadata": {},
     "output_type": "execute_result"
    }
   ],
   "source": [
    "bucketLevels[2][0].coloring"
   ]
  },
  {
   "cell_type": "code",
   "execution_count": 255,
   "id": "c0ed8abc",
   "metadata": {},
   "outputs": [
    {
     "data": {
      "text/plain": [
       "{2: 0, 1: 1, 6: 1, 4: 0, 5: 0}"
      ]
     },
     "execution_count": 255,
     "metadata": {},
     "output_type": "execute_result"
    }
   ],
   "source": [
    "getColoring()"
   ]
  },
  {
   "cell_type": "code",
   "execution_count": 258,
   "id": "02f05042",
   "metadata": {},
   "outputs": [
    {
     "data": {
      "application/vnd.jupyter.widget-view+json": {
       "model_id": "0f2824d2cf0c42179ceb3c2cc34d4d99",
       "version_major": 2,
       "version_minor": 0
      },
      "image/png": "[encoded data removed]",
      "text/html": [
       "\n",
       "            <div style=\"display: inline-block;\">\n",
       "                <div class=\"jupyter-widgets widget-label\" style=\"text-align: center;\">\n",
       "                    Figure\n",
       "                </div>\n",
       "                <img src='data:image/png;base64,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' width=640.0/>\n",
       "            </div>\n",
       "        "
      ],
      "text/plain": [
       "Canvas(toolbar=Toolbar(toolitems=[('Home', 'Reset original view', 'home', 'home'), ('Back', 'Back to previous …"
      ]
     },
     "metadata": {},
     "output_type": "display_data"
    }
   ],
   "source": [
    "misc.draw(G, getColoring())"
   ]
  },
  {
   "cell_type": "code",
   "execution_count": null,
   "id": "520eff6d",
   "metadata": {},
   "outputs": [],
   "source": []
  },
  {
   "cell_type": "code",
   "execution_count": null,
   "id": "5d2390b7",
   "metadata": {},
   "outputs": [],
   "source": []
  },
  {
   "cell_type": "code",
   "execution_count": null,
   "id": "d826a06d",
   "metadata": {},
   "outputs": [],
   "source": []
  }
 ],
 "metadata": {
  "kernelspec": {
   "display_name": "Python 3 (ipykernel)",
   "language": "python",
   "name": "python3"
  },
  "language_info": {
   "codemirror_mode": {
    "name": "ipython",
    "version": 3
   },
   "file_extension": ".py",
   "mimetype": "text/x-python",
   "name": "python",
   "nbconvert_exporter": "python",
   "pygments_lexer": "ipython3",
   "version": "3.9.5"
  }
 },
 "nbformat": 4,
 "nbformat_minor": 5
}
