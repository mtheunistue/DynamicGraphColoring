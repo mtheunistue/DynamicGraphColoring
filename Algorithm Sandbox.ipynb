{
 "cells": [
  {
   "cell_type": "markdown",
   "id": "21b60a7a",
   "metadata": {},
   "source": [
    "# Imports"
   ]
  },
  {
   "cell_type": "code",
   "execution_count": 1,
   "id": "16646cac-517a-442e-b70e-353abe179b32",
   "metadata": {},
   "outputs": [],
   "source": [
    "#Imports\n",
    "%matplotlib widget\n",
    "import pandas as pd\n",
    "import numpy as np\n",
    "import csv\n",
    "import matplotlib\n",
    "import matplotlib.pyplot as plt\n",
    "import scipy\n",
    "import datetime\n",
    "import networkx as nx\n",
    "import misc\n",
    "import math\n",
    "import random\n",
    "import SmallBucket\n",
    "import BigBucket\n",
    "import RandomWarmUp1"
   ]
  },
  {
   "cell_type": "markdown",
   "id": "1f5c8374",
   "metadata": {},
   "source": [
    "# Data Generation"
   ]
  },
  {
   "cell_type": "code",
   "execution_count": 2,
   "id": "5196740d-36d2-4960-9fde-222208141229",
   "metadata": {},
   "outputs": [],
   "source": [
    "#Create empty graph\n",
    "G = nx.Graph()"
   ]
  },
  {
   "cell_type": "code",
   "execution_count": 3,
   "id": "240d5997",
   "metadata": {},
   "outputs": [],
   "source": [
    "G.add_nodes_from([0, 1, 2, 3, 4, 5, 6, 7, 8, 9])\n",
    "\n",
    "G.add_edges_from([\n",
    "    (0,1),\n",
    "    (1,2),\n",
    "    (2,3),\n",
    "    (3,4),\n",
    "    (4,5),\n",
    "    (5,6),\n",
    "    (6,7),\n",
    "    (7,8),\n",
    "    (8,9),\n",
    "    (9,0),\n",
    "\n",
    "    (0,2),\n",
    "    (0,3),\n",
    "    (0,4),\n",
    "    (1,3)\n",
    "])"
   ]
  },
  {
   "cell_type": "code",
   "execution_count": null,
   "id": "4becf55d",
   "metadata": {},
   "outputs": [],
   "source": []
  },
  {
   "cell_type": "code",
   "execution_count": null,
   "id": "28c5ea8a",
   "metadata": {},
   "outputs": [],
   "source": []
  },
  {
   "cell_type": "code",
   "execution_count": null,
   "id": "ccc59058",
   "metadata": {},
   "outputs": [],
   "source": []
  },
  {
   "cell_type": "code",
   "execution_count": null,
   "id": "3b4d138f",
   "metadata": {},
   "outputs": [],
   "source": []
  },
  {
   "cell_type": "markdown",
   "id": "c8846182",
   "metadata": {},
   "source": [
    "# Common items"
   ]
  },
  {
   "cell_type": "code",
   "execution_count": null,
   "id": "37fdf86c",
   "metadata": {},
   "outputs": [],
   "source": []
  },
  {
   "cell_type": "code",
   "execution_count": null,
   "id": "7c469f8d-51cc-4278-b75f-42004394d703",
   "metadata": {},
   "outputs": [],
   "source": []
  },
  {
   "cell_type": "code",
   "execution_count": 4,
   "id": "b57cf762",
   "metadata": {},
   "outputs": [],
   "source": [
    "# Returns a coloring dictionary from the nodes 'color' attributes\n",
    "def getColoring() -> dict:\n",
    "    coloring: dict = {}\n",
    "    for node in G.nodes():\n",
    "        coloring[node] = G.nodes[node]['color']\n",
    "    return coloring"
   ]
  },
  {
   "cell_type": "code",
   "execution_count": null,
   "id": "cfdbe6fa",
   "metadata": {},
   "outputs": [],
   "source": []
  },
  {
   "cell_type": "code",
   "execution_count": null,
   "id": "9b8c3809",
   "metadata": {},
   "outputs": [],
   "source": []
  },
  {
   "cell_type": "code",
   "execution_count": null,
   "id": "7a8b57bb",
   "metadata": {},
   "outputs": [],
   "source": []
  },
  {
   "cell_type": "code",
   "execution_count": null,
   "id": "6d2dc1b2",
   "metadata": {},
   "outputs": [],
   "source": []
  },
  {
   "cell_type": "markdown",
   "id": "b7c3f190",
   "metadata": {},
   "source": [
    "# Algorithm Specific Methods"
   ]
  },
  {
   "cell_type": "code",
   "execution_count": null,
   "id": "09cfbf8d",
   "metadata": {},
   "outputs": [],
   "source": []
  },
  {
   "cell_type": "code",
   "execution_count": null,
   "id": "fac93115-a3b3-44e5-8d0f-540e048cc496",
   "metadata": {},
   "outputs": [],
   "source": [
    "\n",
    "    "
   ]
  },
  {
   "cell_type": "code",
   "execution_count": null,
   "id": "a21e437a",
   "metadata": {},
   "outputs": [],
   "source": []
  },
  {
   "cell_type": "code",
   "execution_count": null,
   "id": "fdaa21e1",
   "metadata": {},
   "outputs": [],
   "source": []
  },
  {
   "cell_type": "code",
   "execution_count": null,
   "id": "73bd4730",
   "metadata": {},
   "outputs": [],
   "source": []
  },
  {
   "cell_type": "code",
   "execution_count": 5,
   "id": "ed1c4a83",
   "metadata": {},
   "outputs": [],
   "source": [
    "def removeEdge(s, t):\n",
    "    if not G.has_edge(s, t):    # Potentially redundant\n",
    "        print(\"Edge not present in graph\")\n",
    "        return\n",
    "    G.remove_edge(s, t)\n",
    "\n",
    "def removeVertex(v):\n",
    "\n",
    "    if not G.has_node(v):   # Potentially redundant\n",
    "        print(\"Node not present in graph\")\n",
    "        return\n",
    "    G.remove_node(v)\n",
    "\n",
    "def addEdge(s, t):\n",
    "\n",
    "    if G.has_edge(s, t):    # Potentially redundant, but could be extended to also check if the vertices are present yet\n",
    "        print(\"Edge already in the graph\")\n",
    "        return\n",
    "    if (not G.has_node(s) or not G.has_node(t)):\n",
    "        print(\"Not all nodes present in graph yet\")\n",
    "        return\n",
    "\n",
    "    G.add_edge(s, t)\n",
    "\n",
    "    # Check if colors of endpoints are the same, if so, choose a new color for one of the neighbours\n",
    "    # Recolor the neighbor that has most recently been recolored. If this value is the same (only possible on 'new' nodes) pick one at\n",
    "    if G.nodes[s]['color'] == G.nodes[t]['color']:\n",
    "        if G.nodes[s]['changed'] > G.nodes[t]['changed']:\n",
    "            recolor(s)\n",
    "        elif G.nodes[t]['changed'] > G.nodes[s]['changed']:\n",
    "            recolor(t)\n",
    "        elif bool(random.getrandbits(1)):\n",
    "            recolor(s)\n",
    "        else:\n",
    "            recolor(t)\n",
    "\n",
    "\n",
    "def addVertex(v):\n",
    "    if G.has_node(v):   # Potentially redundant, depending on the input used during the experiments\n",
    "        print(\"Node already present in graph\")\n",
    "        return\n",
    "    G.add_node(v)\n",
    "    G.nodes[v]['color'] = 0\n",
    "    G.nodes[v]['changed'] = 0"
   ]
  },
  {
   "cell_type": "code",
   "execution_count": null,
   "id": "6e0d14d7",
   "metadata": {},
   "outputs": [],
   "source": []
  },
  {
   "cell_type": "code",
   "execution_count": null,
   "id": "6b674062",
   "metadata": {},
   "outputs": [],
   "source": []
  },
  {
   "cell_type": "code",
   "execution_count": null,
   "id": "f8230da4",
   "metadata": {},
   "outputs": [],
   "source": []
  },
  {
   "cell_type": "code",
   "execution_count": null,
   "id": "611df655",
   "metadata": {},
   "outputs": [],
   "source": []
  },
  {
   "cell_type": "code",
   "execution_count": null,
   "id": "1ea0f55a",
   "metadata": {},
   "outputs": [],
   "source": []
  },
  {
   "cell_type": "code",
   "execution_count": null,
   "id": "3cd0d863",
   "metadata": {},
   "outputs": [],
   "source": []
  },
  {
   "cell_type": "code",
   "execution_count": 6,
   "id": "c0ed8abc",
   "metadata": {},
   "outputs": [],
   "source": [
    "coloring = nx.coloring.greedy_color(G)"
   ]
  },
  {
   "cell_type": "code",
   "execution_count": 7,
   "id": "02f05042",
   "metadata": {},
   "outputs": [],
   "source": [
    "coloring[0] = 0"
   ]
  },
  {
   "cell_type": "code",
   "execution_count": 8,
   "id": "b1b4066b",
   "metadata": {},
   "outputs": [
    {
     "data": {
      "text/plain": [
       "{0: 0, 3: 1, 1: 2, 2: 3, 4: 2, 5: 0, 6: 1, 7: 0, 8: 1, 9: 2}"
      ]
     },
     "execution_count": 8,
     "metadata": {},
     "output_type": "execute_result"
    }
   ],
   "source": [
    "coloring"
   ]
  },
  {
   "cell_type": "code",
   "execution_count": 9,
   "id": "a958a19b",
   "metadata": {},
   "outputs": [
    {
     "data": {
      "text/plain": [
       "{0: 'L2C0',\n",
       " 3: 'L2C1',\n",
       " 1: 'L2C2',\n",
       " 2: 'L2C3',\n",
       " 4: 'L2C2',\n",
       " 5: 'L2C0',\n",
       " 6: 'L2C1',\n",
       " 7: 'L2C0',\n",
       " 8: 'L2C1',\n",
       " 9: 'L2C2'}"
      ]
     },
     "execution_count": 9,
     "metadata": {},
     "output_type": "execute_result"
    }
   ],
   "source": [
    "misc.useUniquePalette(coloring, 2)"
   ]
  },
  {
   "cell_type": "code",
   "execution_count": 10,
   "id": "ee21c2d3",
   "metadata": {},
   "outputs": [
    {
     "data": {
      "text/plain": [
       "{0: 0, 3: 1, 1: 2, 2: 3, 4: 2, 5: 0, 6: 1, 7: 0, 8: 1, 9: 2}"
      ]
     },
     "execution_count": 10,
     "metadata": {},
     "output_type": "execute_result"
    }
   ],
   "source": [
    "misc.toDrawableColoring(misc.useUniquePalette(coloring, 1))"
   ]
  },
  {
   "cell_type": "code",
   "execution_count": 11,
   "id": "4c6e0a33",
   "metadata": {},
   "outputs": [],
   "source": [
    "layout = nx.spring_layout(G)"
   ]
  },
  {
   "cell_type": "code",
   "execution_count": 12,
   "id": "947de5b3",
   "metadata": {},
   "outputs": [
    {
     "data": {
      "application/vnd.jupyter.widget-view+json": {
       "model_id": "a821a798edbd479f9479afef9e3ff923",
       "version_major": 2,
       "version_minor": 0
      },
      "image/png": "[encoded data removed]",
      "text/html": [
       "\n",
       "            <div style=\"display: inline-block;\">\n",
       "                <div class=\"jupyter-widgets widget-label\" style=\"text-align: center;\">\n",
       "                    Figure\n",
       "                </div>\n",
       "                <img src='data:image/png;base64,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' width=640.0/>\n",
       "            </div>\n",
       "        "
      ],
      "text/plain": [
       "Canvas(toolbar=Toolbar(toolitems=[('Home', 'Reset original view', 'home', 'home'), ('Back', 'Back to previous …"
      ]
     },
     "metadata": {},
     "output_type": "display_data"
    }
   ],
   "source": [
    "misc.draw(G, coloring, layout)"
   ]
  },
  {
   "cell_type": "code",
   "execution_count": 13,
   "id": "f4d04804",
   "metadata": {},
   "outputs": [],
   "source": [
    "bba = SmallBucket.SmallBucketAlgo(3)"
   ]
  },
  {
   "cell_type": "code",
   "execution_count": 14,
   "id": "520eff6d",
   "metadata": {},
   "outputs": [
    {
     "name": "stdout",
     "output_type": "stream",
     "text": [
      "Not all nodes present in graph yet\n"
     ]
    },
    {
     "data": {
      "text/plain": [
       "0"
      ]
     },
     "execution_count": 14,
     "metadata": {},
     "output_type": "execute_result"
    }
   ],
   "source": [
    "c1 = bba.getColoring()\n",
    "\n",
    "bba.addEdge(3,5)\n",
    "\n",
    "c2 = bba.getColoring()\n",
    "misc.numberOfRecolors(c1, c2)"
   ]
  },
  {
   "cell_type": "code",
   "execution_count": 15,
   "id": "4c641652",
   "metadata": {},
   "outputs": [
    {
     "data": {
      "text/plain": [
       "{}"
      ]
     },
     "execution_count": 15,
     "metadata": {},
     "output_type": "execute_result"
    }
   ],
   "source": [
    "bba.getColoring()"
   ]
  },
  {
   "cell_type": "code",
   "execution_count": 16,
   "id": "965264b1",
   "metadata": {},
   "outputs": [
    {
     "name": "stdout",
     "output_type": "stream",
     "text": [
      "|  set()  |\n",
      "-----------------------------------------------\n",
      "|  set()  |\n",
      "-----------------------------------------------\n",
      "|  set()  |\n",
      "-----------------------------------------------\n",
      "|  set()  |\n",
      "-----------------------------------------------\n"
     ]
    }
   ],
   "source": [
    "bba.printBucketLevels()"
   ]
  },
  {
   "cell_type": "code",
   "execution_count": 17,
   "id": "5d2390b7",
   "metadata": {},
   "outputs": [
    {
     "data": {
      "application/vnd.jupyter.widget-view+json": {
       "model_id": "ef1a736edb214a398051949d853c793c",
       "version_major": 2,
       "version_minor": 0
      },
      "image/png": "[encoded data removed]",
      "text/html": [
       "\n",
       "            <div style=\"display: inline-block;\">\n",
       "                <div class=\"jupyter-widgets widget-label\" style=\"text-align: center;\">\n",
       "                    Figure\n",
       "                </div>\n",
       "                <img src='data:image/png;base64,iVBORw0KGgoAAAANSUhEUgAAAoAAAAHgCAYAAAA10dzkAAAAOXRFWHRTb2Z0d2FyZQBNYXRwbG90bGliIHZlcnNpb24zLjUuMSwgaHR0cHM6Ly9tYXRwbG90bGliLm9yZy/YYfK9AAAACXBIWXMAAA9hAAAPYQGoP6dpAAAIyUlEQVR4nO3WMQEAIAzAMMC/5+ECjiYKenbPzCwAADLO7wAAAN4ygAAAMQYQACDGAAIAxBhAAIAYAwgAEGMAAQBiDCAAQIwBBACIMYAAADEGEAAgxgACAMQYQACAGAMIABBjAAEAYgwgAECMAQQAiDGAAAAxBhAAIMYAAgDEGEAAgBgDCAAQYwABAGIMIABAjAEEAIgxgAAAMQYQACDGAAIAxBhAAIAYAwgAEGMAAQBiDCAAQIwBBACIMYAAADEGEAAgxgACAMQYQACAGAMIABBjAAEAYgwgAECMAQQAiDGAAAAxBhAAIMYAAgDEGEAAgBgDCAAQYwABAGIMIABAjAEEAIgxgAAAMQYQACDGAAIAxBhAAIAYAwgAEGMAAQBiDCAAQIwBBACIMYAAADEGEAAgxgACAMQYQACAGAMIABBjAAEAYgwgAECMAQQAiDGAAAAxBhAAIMYAAgDEGEAAgBgDCAAQYwABAGIMIABAjAEEAIgxgAAAMQYQACDGAAIAxBhAAIAYAwgAEGMAAQBiDCAAQIwBBACIMYAAADEGEAAgxgACAMQYQACAGAMIABBjAAEAYgwgAECMAQQAiDGAAAAxBhAAIMYAAgDEGEAAgBgDCAAQYwABAGIMIABAjAEEAIgxgAAAMQYQACDGAAIAxBhAAIAYAwgAEGMAAQBiDCAAQIwBBACIMYAAADEGEAAgxgACAMQYQACAGAMIABBjAAEAYgwgAECMAQQAiDGAAAAxBhAAIMYAAgDEGEAAgBgDCAAQYwABAGIMIABAjAEEAIgxgAAAMQYQACDGAAIAxBhAAIAYAwgAEGMAAQBiDCAAQIwBBACIMYAAADEGEAAgxgACAMQYQACAGAMIABBjAAEAYgwgAECMAQQAiDGAAAAxBhAAIMYAAgDEGEAAgBgDCAAQYwABAGIMIABAjAEEAIgxgAAAMQYQACDGAAIAxBhAAIAYAwgAEGMAAQBiDCAAQIwBBACIMYAAADEGEAAgxgACAMQYQACAGAMIABBjAAEAYgwgAECMAQQAiDGAAAAxBhAAIMYAAgDEGEAAgBgDCAAQYwABAGIMIABAjAEEAIgxgAAAMQYQACDGAAIAxBhAAIAYAwgAEGMAAQBiDCAAQIwBBACIMYAAADEGEAAgxgACAMQYQACAGAMIABBjAAEAYgwgAECMAQQAiDGAAAAxBhAAIMYAAgDEGEAAgBgDCAAQYwABAGIMIABAjAEEAIgxgAAAMQYQACDGAAIAxBhAAIAYAwgAEGMAAQBiDCAAQIwBBACIMYAAADEGEAAgxgACAMQYQACAGAMIABBjAAEAYgwgAECMAQQAiDGAAAAxBhAAIMYAAgDEGEAAgBgDCAAQYwABAGIMIABAjAEEAIgxgAAAMQYQACDGAAIAxBhAAIAYAwgAEGMAAQBiDCAAQIwBBACIMYAAADEGEAAgxgACAMQYQACAGAMIABBjAAEAYgwgAECMAQQAiDGAAAAxBhAAIMYAAgDEGEAAgBgDCAAQYwABAGIMIABAjAEEAIgxgAAAMQYQACDGAAIAxBhAAIAYAwgAEGMAAQBiDCAAQIwBBACIMYAAADEGEAAgxgACAMQYQACAGAMIABBjAAEAYgwgAECMAQQAiDGAAAAxBhAAIMYAAgDEGEAAgBgDCAAQYwABAGIMIABAjAEEAIgxgAAAMQYQACDGAAIAxBhAAIAYAwgAEGMAAQBiDCAAQIwBBACIMYAAADEGEAAgxgACAMQYQACAGAMIABBjAAEAYgwgAECMAQQAiDGAAAAxBhAAIMYAAgDEGEAAgBgDCAAQYwABAGIMIABAjAEEAIgxgAAAMQYQACDGAAIAxBhAAIAYAwgAEGMAAQBiDCAAQIwBBACIMYAAADEGEAAgxgACAMQYQACAGAMIABBjAAEAYgwgAECMAQQAiDGAAAAxBhAAIMYAAgDEGEAAgBgDCAAQYwABAGIMIABAjAEEAIgxgAAAMQYQACDGAAIAxBhAAIAYAwgAEGMAAQBiDCAAQIwBBACIMYAAADEGEAAgxgACAMQYQACAGAMIABBjAAEAYgwgAECMAQQAiDGAAAAxBhAAIMYAAgDEGEAAgBgDCAAQYwABAGIMIABAjAEEAIgxgAAAMQYQACDGAAIAxBhAAIAYAwgAEGMAAQBiDCAAQIwBBACIMYAAADEGEAAgxgACAMQYQACAGAMIABBjAAEAYgwgAECMAQQAiDGAAAAxBhAAIMYAAgDEGEAAgBgDCAAQYwABAGIMIABAjAEEAIgxgAAAMQYQACDGAAIAxBhAAIAYAwgAEGMAAQBiDCAAQIwBBACIMYAAADEGEAAgxgACAMQYQACAGAMIABBjAAEAYgwgAECMAQQAiDGAAAAxBhAAIMYAAgDEGEAAgBgDCAAQYwABAGIMIABAjAEEAIgxgAAAMQYQACDGAAIAxBhAAIAYAwgAEGMAAQBiDCAAQIwBBACIMYAAADEGEAAgxgACAMQYQACAGAMIABBjAAEAYgwgAECMAQQAiDGAAAAxBhAAIMYAAgDEGEAAgBgDCAAQYwABAGIMIABAjAEEAIgxgAAAMQYQACDGAAIAxBhAAIAYAwgAEGMAAQBiDCAAQIwBBACIMYAAADEGEAAgxgACAMQYQACAGAMIABBjAAEAYgwgAECMAQQAiDGAAAAxBhAAIMYAAgDEGEAAgBgDCAAQYwABAGIMIABAjAEEAIgxgAAAMQYQACDGAAIAxBhAAIAYAwgAEGMAAQBiDCAAQIwBBACIMYAAADEGEAAgxgACAMQYQACAGAMIABBjAAEAYgwgAECMAQQAiDGAAAAxBhAAIMYAAgDEGEAAgBgDCAAQYwABAGIMIABAjAEEAIgxgAAAMQYQACDGAAIAxBhAAIAYAwgAEGMAAQBiDCAAQIwBBACIMYAAADEGEAAgxgACAMQYQACAGAMIABBjAAEAYgwgAECMAQQAiDGAAAAxBhAAIMYAAgDEGEAAgBgDCAAQYwABAGIuJnkHvKensmIAAAAASUVORK5CYII=' width=640.0/>\n",
       "            </div>\n",
       "        "
      ],
      "text/plain": [
       "Canvas(toolbar=Toolbar(toolitems=[('Home', 'Reset original view', 'home', 'home'), ('Back', 'Back to previous …"
      ]
     },
     "metadata": {},
     "output_type": "display_data"
    }
   ],
   "source": [
    "misc.draw(bba.G, bba.getColoring())"
   ]
  },
  {
   "cell_type": "code",
   "execution_count": 18,
   "id": "d826a06d",
   "metadata": {},
   "outputs": [
    {
     "ename": "NameError",
     "evalue": "name 'rwu' is not defined",
     "output_type": "error",
     "traceback": [
      "\u001b[1;31m---------------------------------------------------------------------------\u001b[0m",
      "\u001b[1;31mNameError\u001b[0m                                 Traceback (most recent call last)",
      "Input \u001b[1;32mIn [18]\u001b[0m, in \u001b[0;36m<module>\u001b[1;34m\u001b[0m\n\u001b[1;32m----> 1\u001b[0m c1\u001b[39m=\u001b[39m rwu\u001b[39m.\u001b[39mgetColoring()\n",
      "\u001b[1;31mNameError\u001b[0m: name 'rwu' is not defined"
     ]
    }
   ],
   "source": [
    "c1= rwu.getColoring()"
   ]
  },
  {
   "cell_type": "code",
   "execution_count": 25,
   "id": "705fdcc9",
   "metadata": {},
   "outputs": [],
   "source": [
    "# Checks whether a coloring is indeed correct\n",
    "# by iterating over all edges and verifying no two neighbors have the same color\n",
    "def verifyColoring(G, coloring) -> bool:\n",
    "    for edge in G.edges():\n",
    "        n1 = edge[0]\n",
    "        n2 = edge[1]\n",
    "        if (not coloring.has_key(n1)) or (not coloring.has_key(n2)):\n",
    "            print(\"Graph includes nodes not present in the coloring\")\n",
    "            return False\n",
    "        if coloring.get(n1) == coloring.get(n2):\n",
    "            return False\n",
    "    return True"
   ]
  },
  {
   "cell_type": "code",
   "execution_count": 26,
   "id": "541a5255",
   "metadata": {},
   "outputs": [
    {
     "ename": "AttributeError",
     "evalue": "'dict' object has no attribute 'has_key'",
     "output_type": "error",
     "traceback": [
      "\u001b[1;31m---------------------------------------------------------------------------\u001b[0m",
      "\u001b[1;31mAttributeError\u001b[0m                            Traceback (most recent call last)",
      "Input \u001b[1;32mIn [26]\u001b[0m, in \u001b[0;36m<module>\u001b[1;34m\u001b[0m\n\u001b[1;32m----> 1\u001b[0m verifyColoring(G, coloring)\n",
      "Input \u001b[1;32mIn [25]\u001b[0m, in \u001b[0;36mverifyColoring\u001b[1;34m(G, coloring)\u001b[0m\n\u001b[0;32m      5\u001b[0m n1 \u001b[39m=\u001b[39m edge[\u001b[39m0\u001b[39m]\n\u001b[0;32m      6\u001b[0m n2 \u001b[39m=\u001b[39m edge[\u001b[39m1\u001b[39m]\n\u001b[1;32m----> 7\u001b[0m \u001b[39mif\u001b[39;00m (\u001b[39mnot\u001b[39;00m coloring\u001b[39m.\u001b[39;49mhas_key(n1)) \u001b[39mor\u001b[39;00m \u001b[39mnot\u001b[39;00m (coloring\u001b[39m.\u001b[39mhas_key(n2)):\n\u001b[0;32m      8\u001b[0m     \u001b[39mprint\u001b[39m(\u001b[39m\"\u001b[39m\u001b[39mGraph includes nodes not present in the coloring\u001b[39m\u001b[39m\"\u001b[39m)\n\u001b[0;32m      9\u001b[0m     \u001b[39mreturn\u001b[39;00m \u001b[39mFalse\u001b[39;00m\n",
      "\u001b[1;31mAttributeError\u001b[0m: 'dict' object has no attribute 'has_key'"
     ]
    }
   ],
   "source": [
    "verifyColoring(G, coloring)"
   ]
  },
  {
   "cell_type": "code",
   "execution_count": 20,
   "id": "9ce99543",
   "metadata": {},
   "outputs": [
    {
     "data": {
      "text/plain": [
       "EdgeView([(0, 1), (0, 9), (0, 2), (0, 3), (0, 4), (1, 2), (1, 3), (2, 3), (3, 4), (4, 5), (5, 6), (6, 7), (7, 8), (8, 9)])"
      ]
     },
     "execution_count": 20,
     "metadata": {},
     "output_type": "execute_result"
    }
   ],
   "source": [
    "G.edges()"
   ]
  }
 ],
 "metadata": {
  "kernelspec": {
   "display_name": "Python 3 (ipykernel)",
   "language": "python",
   "name": "python3"
  },
  "language_info": {
   "codemirror_mode": {
    "name": "ipython",
    "version": 3
   },
   "file_extension": ".py",
   "mimetype": "text/x-python",
   "name": "python",
   "nbconvert_exporter": "python",
   "pygments_lexer": "ipython3",
   "version": "3.9.5"
  }
 },
 "nbformat": 4,
 "nbformat_minor": 5
}
