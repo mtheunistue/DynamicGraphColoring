{
 "cells": [
  {
   "cell_type": "markdown",
   "id": "21b60a7a",
   "metadata": {},
   "source": [
    "# Imports"
   ]
  },
  {
   "cell_type": "code",
   "execution_count": 1,
   "id": "16646cac-517a-442e-b70e-353abe179b32",
   "metadata": {},
   "outputs": [],
   "source": [
    "#Imports\n",
    "%matplotlib widget\n",
    "import pandas as pd\n",
    "import numpy as np\n",
    "import csv\n",
    "import matplotlib\n",
    "import matplotlib.pyplot as plt\n",
    "import scipy\n",
    "import datetime\n",
    "import networkx as nx\n",
    "import misc\n",
    "import math\n",
    "import random\n",
    "import SmallBucket\n",
    "import BigBucket"
   ]
  },
  {
   "cell_type": "markdown",
   "id": "1f5c8374",
   "metadata": {},
   "source": [
    "# Data Generation"
   ]
  },
  {
   "cell_type": "code",
   "execution_count": 2,
   "id": "5196740d-36d2-4960-9fde-222208141229",
   "metadata": {},
   "outputs": [],
   "source": [
    "#Create empty graph\n",
    "G = nx.Graph()"
   ]
  },
  {
   "cell_type": "code",
   "execution_count": 3,
   "id": "240d5997",
   "metadata": {},
   "outputs": [],
   "source": [
    "G.add_nodes_from([0, 1, 2, 3, 4, 5, 6, 7, 8, 9])\n",
    "\n",
    "G.add_edges_from([\n",
    "    (0,1),\n",
    "    (1,2),\n",
    "    (2,3),\n",
    "    (3,4),\n",
    "    (4,5),\n",
    "    (5,6),\n",
    "    (6,7),\n",
    "    (7,8),\n",
    "    (8,9),\n",
    "    (9,0),\n",
    "\n",
    "    (0,2),\n",
    "    (0,3),\n",
    "    (0,4),\n",
    "    (1,3)\n",
    "])"
   ]
  },
  {
   "cell_type": "code",
   "execution_count": null,
   "id": "4becf55d",
   "metadata": {},
   "outputs": [],
   "source": []
  },
  {
   "cell_type": "code",
   "execution_count": null,
   "id": "3b4d138f",
   "metadata": {},
   "outputs": [],
   "source": []
  },
  {
   "cell_type": "markdown",
   "id": "c8846182",
   "metadata": {},
   "source": [
    "# Common items"
   ]
  },
  {
   "cell_type": "code",
   "execution_count": null,
   "id": "37fdf86c",
   "metadata": {},
   "outputs": [],
   "source": []
  },
  {
   "cell_type": "code",
   "execution_count": null,
   "id": "7c469f8d-51cc-4278-b75f-42004394d703",
   "metadata": {},
   "outputs": [],
   "source": [
    "\n"
   ]
  },
  {
   "cell_type": "code",
   "execution_count": null,
   "id": "b57cf762",
   "metadata": {},
   "outputs": [],
   "source": []
  },
  {
   "cell_type": "code",
   "execution_count": null,
   "id": "9b8c3809",
   "metadata": {},
   "outputs": [],
   "source": []
  },
  {
   "cell_type": "code",
   "execution_count": null,
   "id": "7a8b57bb",
   "metadata": {},
   "outputs": [],
   "source": []
  },
  {
   "cell_type": "code",
   "execution_count": null,
   "id": "6d2dc1b2",
   "metadata": {},
   "outputs": [],
   "source": []
  },
  {
   "cell_type": "markdown",
   "id": "b7c3f190",
   "metadata": {},
   "source": [
    "# Algorithm Specific Methods"
   ]
  },
  {
   "cell_type": "code",
   "execution_count": null,
   "id": "09cfbf8d",
   "metadata": {},
   "outputs": [],
   "source": []
  },
  {
   "cell_type": "code",
   "execution_count": null,
   "id": "fac93115-a3b3-44e5-8d0f-540e048cc496",
   "metadata": {},
   "outputs": [],
   "source": [
    "\n",
    "    "
   ]
  },
  {
   "cell_type": "code",
   "execution_count": null,
   "id": "a21e437a",
   "metadata": {},
   "outputs": [],
   "source": []
  },
  {
   "cell_type": "code",
   "execution_count": null,
   "id": "fdaa21e1",
   "metadata": {},
   "outputs": [],
   "source": []
  },
  {
   "cell_type": "code",
   "execution_count": null,
   "id": "73bd4730",
   "metadata": {},
   "outputs": [],
   "source": []
  },
  {
   "cell_type": "code",
   "execution_count": 4,
   "id": "ed1c4a83",
   "metadata": {},
   "outputs": [],
   "source": [
    "def removeEdge(s, t):\n",
    "    if not G.has_edge(s, t):    # Potentially redundant\n",
    "        print(\"Edge not present in graph\")\n",
    "        return\n",
    "    G.remove_edge(s, t)\n",
    "\n",
    "def removeVertex(v):\n",
    "\n",
    "    if not G.has_node(v):   # Potentially redundant\n",
    "        print(\"Node not present in graph\")\n",
    "        return\n",
    "\n",
    "    b = G.nodes[v]['bucket']\n",
    "    if b != None:\n",
    "        b.removeVertices([v])\n",
    "    G.remove_node(v)\n",
    "\n",
    "def addEdge(s, t):\n",
    "\n",
    "    if G.has_edge(s, t):    # Potentially redundant, but could be extended to also check if the vertices are present yet\n",
    "        print(\"Edge already in the graph\")\n",
    "        return\n",
    "    if (not G.has_node(s) or not G.has_node(t)):\n",
    "        print(\"Not all nodes present in graph yet\")\n",
    "        return\n",
    "\n",
    "\n",
    "    G.add_edge(s, t)\n",
    "    # Select one of the endpoints at random, remove it from a bucket and add it as usual\n",
    "    if bool(random.getrandbits(1)):\n",
    "        v = s\n",
    "    else:\n",
    "        v = t\n",
    "        \n",
    "    b = G.nodes[v]['bucket']\n",
    "    if b != None:\n",
    "        b.removeVertices([v])\n",
    "    \n",
    "    # Add vertex to an empty bucket\n",
    "    bucket = bucketLevels[0][isEmptyBucketOnLevel(0)[1]]\n",
    "    bucket.addVertices([v])\n",
    "    updateBuckets(bucket)\n",
    "\n",
    "def addVertex(v):\n",
    "    if G.has_node(v):   # Potentially redundant, depending on the input used during the experiments\n",
    "        print(\"Node already present in graph\")\n",
    "        return\n",
    "    G.add_node(v)\n",
    "    bucket = bucketLevels[0][isEmptyBucketOnLevel(0)[1]]\n",
    "    bucket.addVertices([v])\n",
    "    updateBuckets(bucket)"
   ]
  },
  {
   "cell_type": "code",
   "execution_count": 5,
   "id": "6e0d14d7",
   "metadata": {},
   "outputs": [],
   "source": [
    "def getColoring():\n",
    "    bucketColorings = [staticColoring]\n",
    "    for bucketLevel in bucketLevels:\n",
    "        for bucket in bucketLevel:\n",
    "            bucketColorings.append(bucket.coloring)\n",
    "    combinedColoring = misc.combineColorings(bucketColorings)   \n",
    "    return combinedColoring      "
   ]
  },
  {
   "cell_type": "code",
   "execution_count": 6,
   "id": "6b674062",
   "metadata": {},
   "outputs": [],
   "source": [
    "def printBucketLevels(bls):\n",
    "    for bl in bls:\n",
    "        for b in bl:\n",
    "            print(\"|  \" + str(b.vertices) + \"  |\")\n",
    "        print(\"-----------------------------------------------\")\n"
   ]
  },
  {
   "cell_type": "code",
   "execution_count": null,
   "id": "f8230da4",
   "metadata": {},
   "outputs": [],
   "source": []
  },
  {
   "cell_type": "code",
   "execution_count": null,
   "id": "611df655",
   "metadata": {},
   "outputs": [],
   "source": []
  },
  {
   "cell_type": "code",
   "execution_count": null,
   "id": "1ea0f55a",
   "metadata": {},
   "outputs": [],
   "source": []
  },
  {
   "cell_type": "code",
   "execution_count": null,
   "id": "3cd0d863",
   "metadata": {},
   "outputs": [],
   "source": []
  },
  {
   "cell_type": "code",
   "execution_count": null,
   "id": "c0ed8abc",
   "metadata": {},
   "outputs": [],
   "source": []
  },
  {
   "cell_type": "code",
   "execution_count": null,
   "id": "02f05042",
   "metadata": {},
   "outputs": [],
   "source": []
  },
  {
   "cell_type": "code",
   "execution_count": null,
   "id": "947de5b3",
   "metadata": {},
   "outputs": [],
   "source": []
  },
  {
   "cell_type": "code",
   "execution_count": 7,
   "id": "f4d04804",
   "metadata": {},
   "outputs": [],
   "source": [
    "bba = BigBucket.BigBucketAlgo(3)"
   ]
  },
  {
   "cell_type": "code",
   "execution_count": 11,
   "id": "520eff6d",
   "metadata": {},
   "outputs": [
    {
     "name": "stdout",
     "output_type": "stream",
     "text": [
      "|  set()  |\n",
      "-----------------------------------------------\n",
      "|  set()  |\n",
      "-----------------------------------------------\n",
      "|  set()  |\n",
      "-----------------------------------------------\n"
     ]
    }
   ],
   "source": [
    "bba.addVertex(0)\n",
    "bba.printBucketLevels()"
   ]
  },
  {
   "cell_type": "code",
   "execution_count": 12,
   "id": "4c641652",
   "metadata": {},
   "outputs": [
    {
     "data": {
      "text/plain": [
       "1"
      ]
     },
     "execution_count": 12,
     "metadata": {},
     "output_type": "execute_result"
    }
   ],
   "source": [
    "bba.bucketLevels[0][0].size"
   ]
  },
  {
   "cell_type": "code",
   "execution_count": 13,
   "id": "5d2390b7",
   "metadata": {},
   "outputs": [
    {
     "data": {
      "application/vnd.jupyter.widget-view+json": {
       "model_id": "46041df5bf9241a1b19b6a3d88454c2e",
       "version_major": 2,
       "version_minor": 0
      },
      "image/png": "[encoded data removed]",
      "text/html": [
       "\n",
       "            <div style=\"display: inline-block;\">\n",
       "                <div class=\"jupyter-widgets widget-label\" style=\"text-align: center;\">\n",
       "                    Figure\n",
       "                </div>\n",
       "                <img src='data:image/png;base64,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' width=640.0/>\n",
       "            </div>\n",
       "        "
      ],
      "text/plain": [
       "Canvas(toolbar=Toolbar(toolitems=[('Home', 'Reset original view', 'home', 'home'), ('Back', 'Back to previous …"
      ]
     },
     "metadata": {},
     "output_type": "display_data"
    }
   ],
   "source": [
    "misc.draw(bba.G, bba.getColoring())"
   ]
  },
  {
   "cell_type": "code",
   "execution_count": null,
   "id": "d826a06d",
   "metadata": {},
   "outputs": [],
   "source": []
  }
 ],
 "metadata": {
  "kernelspec": {
   "display_name": "Python 3 (ipykernel)",
   "language": "python",
   "name": "python3"
  },
  "language_info": {
   "codemirror_mode": {
    "name": "ipython",
    "version": 3
   },
   "file_extension": ".py",
   "mimetype": "text/x-python",
   "name": "python",
   "nbconvert_exporter": "python",
   "pygments_lexer": "ipython3",
   "version": "3.9.5"
  }
 },
 "nbformat": 4,
 "nbformat_minor": 5
}
