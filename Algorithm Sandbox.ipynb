{
 "cells": [
  {
   "cell_type": "markdown",
   "id": "21b60a7a",
   "metadata": {},
   "source": [
    "# Imports"
   ]
  },
  {
   "cell_type": "code",
   "execution_count": 1,
   "id": "16646cac-517a-442e-b70e-353abe179b32",
   "metadata": {},
   "outputs": [],
   "source": [
    "#Imports\n",
    "%matplotlib widget\n",
    "import pandas as pd\n",
    "import numpy as np\n",
    "import csv\n",
    "import matplotlib\n",
    "import matplotlib.pyplot as plt\n",
    "import scipy\n",
    "import datetime\n",
    "import networkx as nx\n",
    "import misc\n",
    "import math\n",
    "import random\n",
    "import SmallBucket\n",
    "import BigBucket\n",
    "import RandomWarmUp1"
   ]
  },
  {
   "cell_type": "markdown",
   "id": "1f5c8374",
   "metadata": {},
   "source": [
    "# Data Generation"
   ]
  },
  {
   "cell_type": "code",
   "execution_count": 2,
   "id": "5196740d-36d2-4960-9fde-222208141229",
   "metadata": {},
   "outputs": [],
   "source": [
    "#Create empty graph\n",
    "G = nx.Graph()"
   ]
  },
  {
   "cell_type": "code",
   "execution_count": 3,
   "id": "240d5997",
   "metadata": {},
   "outputs": [],
   "source": [
    "G.add_nodes_from([0, 1, 2, 3, 4, 5, 6, 7, 8, 9])\n",
    "\n",
    "G.add_edges_from([\n",
    "    (0,1),\n",
    "    (1,2),\n",
    "    (2,3),\n",
    "    (3,4),\n",
    "    (4,5),\n",
    "    (5,6),\n",
    "    (6,7),\n",
    "    (7,8),\n",
    "    (8,9),\n",
    "    (9,0),\n",
    "\n",
    "    (0,2),\n",
    "    (0,3),\n",
    "    (0,4),\n",
    "    (1,3)\n",
    "])"
   ]
  },
  {
   "cell_type": "code",
   "execution_count": null,
   "id": "4becf55d",
   "metadata": {},
   "outputs": [],
   "source": []
  },
  {
   "cell_type": "code",
   "execution_count": null,
   "id": "28c5ea8a",
   "metadata": {},
   "outputs": [],
   "source": []
  },
  {
   "cell_type": "code",
   "execution_count": null,
   "id": "ccc59058",
   "metadata": {},
   "outputs": [],
   "source": []
  },
  {
   "cell_type": "code",
   "execution_count": null,
   "id": "3b4d138f",
   "metadata": {},
   "outputs": [],
   "source": []
  },
  {
   "cell_type": "markdown",
   "id": "c8846182",
   "metadata": {},
   "source": [
    "# Common items"
   ]
  },
  {
   "cell_type": "code",
   "execution_count": 4,
   "id": "f5d16ca8",
   "metadata": {},
   "outputs": [],
   "source": [
    "# Runs the static black-box algorithm on subgraph G with color palette of 'level'\n",
    "# Automatically updates the staticColoring variable\n",
    "def staticBlackBox(g, level):\n",
    "    global staticColoring\n",
    "    newStaticColoring = misc.useUniquePalette(nx.coloring.greedy_color(g), level)\n",
    "    staticColoring.update(newStaticColoring)\n",
    "    nx.set_node_attributes(G, 0, 'recentDegree')       # Reset all recent degrees to 0\n",
    "\n",
    "    for node in g.nodes():                             # Remove all edges adjacent to nodes in g from G'\n",
    "        edges = DBB.G.edges(node)\n",
    "        for edge in edges:\n",
    "            DBB.removeEdge(edge[0], edge[1])\n",
    "    \n",
    "    levels[level] =  (set({}), levels[level][1])    # Remove all nodes from the current level node set"
   ]
  },
  {
   "cell_type": "code",
   "execution_count": 5,
   "id": "ccebfde4",
   "metadata": {},
   "outputs": [],
   "source": [
    "def dynamicBlackBox(s, t):\n",
    "    DBB.addEdge(s, t)"
   ]
  },
  {
   "cell_type": "code",
   "execution_count": 6,
   "id": "7c469f8d-51cc-4278-b75f-42004394d703",
   "metadata": {},
   "outputs": [],
   "source": [
    "# Resets all variables, only called during initialization and when the end of the segment at level 0 is reached\n",
    "def fullReset():\n",
    "    global c\n",
    "    c = 0\n",
    "\n",
    "    global maxLevel\n",
    "    maxLevel = int(math.log(G.number_of_nodes(), 2))  # Calculate number of levels required, assumes number of vertices is static\n",
    "\n",
    "    global levels\n",
    "    levels = []\n",
    "    for level in range(0, maxLevel+1):                \n",
    "        rLevel = set({})                            # Initialize vertex sets per level for vertices with highest recent degrees\n",
    "        levels.append((rLevel, True))               # Initialize all levels as active\n",
    "\n",
    "    staticBlackBox(G, 0)                            # Color full graph using static black box with level 0 color palette\n",
    "\n"
   ]
  },
  {
   "cell_type": "code",
   "execution_count": 7,
   "id": "37fdf86c",
   "metadata": {},
   "outputs": [],
   "source": [
    "l = 5       # Number of updates per segment, segment length\n",
    "G           # Graph to be used\n",
    "staticColoring = {}\n",
    "\n",
    "nx.set_node_attributes(G, 0, 'recentDegree')       # Reset all recent degrees to 0\n",
    "\n",
    "Gp = nx.Graph()                     # Sparse version of graph G\n",
    "Gp.add_nodes_from(G.nodes())        # Initialize with only nodes and no edges\n",
    "\n",
    "DBB = RandomWarmUp1.WarmUp1Algo(Gp)     # Dynamic black-box algorithm to be used\n",
    "\n",
    "fullReset()\n"
   ]
  },
  {
   "cell_type": "code",
   "execution_count": 8,
   "id": "b57cf762",
   "metadata": {},
   "outputs": [],
   "source": [
    "# Returns a coloring dictionary by combining the two available colorings\n",
    "def getColoring() -> dict:\n",
    "    coloring: dict = {}\n",
    "    sColoring = staticColoring\n",
    "    dColoring = DBB.getColoring()\n",
    "\n",
    "    for node in G.nodes():\n",
    "        coloring[node] = (sColoring[node], dColoring[node])\n",
    "    return coloring"
   ]
  },
  {
   "cell_type": "code",
   "execution_count": 9,
   "id": "cfdbe6fa",
   "metadata": {},
   "outputs": [],
   "source": [
    "# Print the current situation of the leveled segment data structure\n",
    "def printLevels():\n",
    "    print(\"l: \" + str(l))\n",
    "    print(\"c: \" + str(c))"
   ]
  },
  {
   "cell_type": "code",
   "execution_count": null,
   "id": "9b8c3809",
   "metadata": {},
   "outputs": [],
   "source": []
  },
  {
   "cell_type": "code",
   "execution_count": null,
   "id": "7a8b57bb",
   "metadata": {},
   "outputs": [],
   "source": []
  },
  {
   "cell_type": "code",
   "execution_count": null,
   "id": "6d2dc1b2",
   "metadata": {},
   "outputs": [],
   "source": []
  },
  {
   "cell_type": "markdown",
   "id": "b7c3f190",
   "metadata": {},
   "source": [
    "# Algorithm Specific Methods"
   ]
  },
  {
   "cell_type": "code",
   "execution_count": 10,
   "id": "09cfbf8d",
   "metadata": {},
   "outputs": [],
   "source": [
    "# General update step called in every update\n",
    "# Keeps track of the vertices with max recent degree and counter c\n",
    "def updateStep():\n",
    "    global c\n",
    "    c = (c+1) % l\n",
    "    if c == 0:\n",
    "\n",
    "        activeLevel = 0\n",
    "        for i in reversed(range(0, maxLevel+1)):    # Get active level\n",
    "            if levels[i][1]:\n",
    "                activeLevel = i\n",
    "                break\n",
    "    \n",
    "        if activeLevel == 0:\n",
    "            fullReset()\n",
    "            print('full reeset triggered')                                                          # Run static black box on everything and reset\n",
    "        else:\n",
    "            staticBlackBox(G.subgraph(levels[activeLevel][0]), activeLevel)      # Run static black box on selected subgraph\n",
    "            levels[activeLevel] = (levels[activeLevel][0], False)                # Deactivate this level\n",
    "            for i in range(activeLevel + 1, maxLevel + 1):                       # Reactivate all levels higher than current level\n",
    "                levels[i] = (levels[i][0], True)"
   ]
  },
  {
   "cell_type": "code",
   "execution_count": null,
   "id": "fac93115-a3b3-44e5-8d0f-540e048cc496",
   "metadata": {},
   "outputs": [],
   "source": []
  },
  {
   "cell_type": "code",
   "execution_count": 11,
   "id": "a21e437a",
   "metadata": {},
   "outputs": [
    {
     "data": {
      "text/plain": [
       "2"
      ]
     },
     "execution_count": 11,
     "metadata": {},
     "output_type": "execute_result"
    }
   ],
   "source": [
    "5 % 3"
   ]
  },
  {
   "cell_type": "code",
   "execution_count": null,
   "id": "fdaa21e1",
   "metadata": {},
   "outputs": [],
   "source": []
  },
  {
   "cell_type": "code",
   "execution_count": null,
   "id": "73bd4730",
   "metadata": {},
   "outputs": [],
   "source": []
  },
  {
   "cell_type": "code",
   "execution_count": 12,
   "id": "ed1c4a83",
   "metadata": {},
   "outputs": [],
   "source": [
    "def removeEdge(s, t):\n",
    "    if not G.has_edge(s, t):    # Potentially redundant\n",
    "        print(\"Edge not present in graph\")\n",
    "        return\n",
    "    G.remove_edge(s, t)\n",
    "    if DBB.G.has_edge(s, t):\n",
    "        DBB.removeEdge(s, t)\n",
    "    updateStep()\n",
    "\n",
    "def removeVertex(v):\n",
    "\n",
    "    if not G.has_node(v):   # Potentially redundant\n",
    "        print(\"Node not present in graph\")\n",
    "        return\n",
    "    G.remove_node(v)\n",
    "    DBB.removeVertex(v)\n",
    "    updateStep()\n",
    "\n",
    "def addEdge(s, t):\n",
    "\n",
    "    if G.has_edge(s, t):    # Potentially redundant, but could be extended to also check if the vertices are present yet\n",
    "        print(\"Edge already in the graph\")\n",
    "        return\n",
    "    if (not G.has_node(s) or not G.has_node(t)):\n",
    "        print(\"Not all nodes present in graph yet\")\n",
    "        return\n",
    "\n",
    "    G.add_edge(s, t)\n",
    "    DBB.G.add_edge(s, t)       # Add edge to G' directly, without running the dynamic algorithm\n",
    "\n",
    "    # Increase recent degree of endpoints\n",
    "    G.nodes[s]['recentDegree'] += 1\n",
    "    G.nodes[t]['recentDegree'] += 1\n",
    "\n",
    "    updateStep()               # Run update step in which the static algorithm is potentially ran\n",
    "\n",
    "    if DBB.G.has_edge(s, t):    # If edge still in G' after update step, run dynamic algorithm\n",
    "        DBB.removeEdge(s, t)\n",
    "        dynamicBlackBox(s, t) \n",
    "\n",
    "    # Add node with highest recent degree to active level node sets\n",
    "    if G.number_of_nodes() > 0:\n",
    "        rd = -1\n",
    "        n = None\n",
    "        for node in G.nodes():\n",
    "            if G.nodes[node]['recentDegree'] > rd:\n",
    "                rd = G.nodes[node]['recentDegree']\n",
    "                n = node\n",
    "        for level in levels:\n",
    "            if level[1]:\n",
    "                level[0].add(n)\n",
    "\n",
    "def addVertex(v):\n",
    "    if G.has_node(v):   # Potentially redundant, depending on the input used during the experiments\n",
    "        print(\"Node already present in graph\")\n",
    "        return\n",
    "    G.add_node(v)\n",
    "    staticColoring[v] = 'L0C0'\n",
    "    G.nodes[v]['recentDegree'] = 0\n",
    "    DBB.addVertex(v)\n",
    "    updateStep()"
   ]
  },
  {
   "cell_type": "code",
   "execution_count": null,
   "id": "20f5cc68",
   "metadata": {},
   "outputs": [],
   "source": []
  },
  {
   "cell_type": "code",
   "execution_count": 33,
   "id": "6e0d14d7",
   "metadata": {},
   "outputs": [
    {
     "data": {
      "text/plain": [
       "{0: ('L0C0', 0),\n",
       " 1: ('L0C2', 0),\n",
       " 2: ('L0C3', 0),\n",
       " 3: ('L0C1', 0),\n",
       " 4: ('L0C2', 0),\n",
       " 5: ('L0C0', 1),\n",
       " 6: ('L0C1', 1),\n",
       " 7: ('L0C0', 0),\n",
       " 8: ('L0C1', 0),\n",
       " 9: ('L0C2', 0),\n",
       " 13: ('L0C0', 0)}"
      ]
     },
     "execution_count": 33,
     "metadata": {},
     "output_type": "execute_result"
    }
   ],
   "source": [
    "getColoring()"
   ]
  },
  {
   "cell_type": "code",
   "execution_count": 35,
   "id": "6b674062",
   "metadata": {},
   "outputs": [
    {
     "ename": "RuntimeError",
     "evalue": "dictionary changed size during iteration",
     "output_type": "error",
     "traceback": [
      "\u001b[1;31m---------------------------------------------------------------------------\u001b[0m",
      "\u001b[1;31mRuntimeError\u001b[0m                              Traceback (most recent call last)",
      "Input \u001b[1;32mIn [35]\u001b[0m, in \u001b[0;36m<module>\u001b[1;34m\u001b[0m\n\u001b[1;32m----> 1\u001b[0m removeEdge(\u001b[39m1\u001b[39;49m, \u001b[39m3\u001b[39;49m)\n\u001b[0;32m      2\u001b[0m printLevels()\n\u001b[0;32m      3\u001b[0m misc\u001b[39m.\u001b[39mdraw(G, getColoring())\n",
      "\u001b[1;32md:\\my documents\\tue\\Thesis\\Coding\\DynamicGraphColoring\\Algorithm Sandbox.ipynb Cell 29'\u001b[0m in \u001b[0;36mremoveEdge\u001b[1;34m(s, t)\u001b[0m\n\u001b[0;32m      <a href='vscode-notebook-cell:/d%3A/my%20documents/tue/Thesis/Coding/DynamicGraphColoring/Algorithm%20Sandbox.ipynb#ch0000025?line=5'>6</a>\u001b[0m \u001b[39mif\u001b[39;00m DBB\u001b[39m.\u001b[39mG\u001b[39m.\u001b[39mhas_edge(s, t):\n\u001b[0;32m      <a href='vscode-notebook-cell:/d%3A/my%20documents/tue/Thesis/Coding/DynamicGraphColoring/Algorithm%20Sandbox.ipynb#ch0000025?line=6'>7</a>\u001b[0m     DBB\u001b[39m.\u001b[39mremoveEdge(s, t)\n\u001b[1;32m----> <a href='vscode-notebook-cell:/d%3A/my%20documents/tue/Thesis/Coding/DynamicGraphColoring/Algorithm%20Sandbox.ipynb#ch0000025?line=7'>8</a>\u001b[0m updateStep()\n",
      "\u001b[1;32md:\\my documents\\tue\\Thesis\\Coding\\DynamicGraphColoring\\Algorithm Sandbox.ipynb Cell 26'\u001b[0m in \u001b[0;36mupdateStep\u001b[1;34m()\u001b[0m\n\u001b[0;32m     <a href='vscode-notebook-cell:/d%3A/my%20documents/tue/Thesis/Coding/DynamicGraphColoring/Algorithm%20Sandbox.ipynb#ch0000023?line=15'>16</a>\u001b[0m     \u001b[39mprint\u001b[39m(\u001b[39m'\u001b[39m\u001b[39mfull reeset triggered\u001b[39m\u001b[39m'\u001b[39m)                                                          \u001b[39m# Run static black box on everything and reset\u001b[39;00m\n\u001b[0;32m     <a href='vscode-notebook-cell:/d%3A/my%20documents/tue/Thesis/Coding/DynamicGraphColoring/Algorithm%20Sandbox.ipynb#ch0000023?line=16'>17</a>\u001b[0m \u001b[39melse\u001b[39;00m:\n\u001b[1;32m---> <a href='vscode-notebook-cell:/d%3A/my%20documents/tue/Thesis/Coding/DynamicGraphColoring/Algorithm%20Sandbox.ipynb#ch0000023?line=17'>18</a>\u001b[0m     staticBlackBox(G\u001b[39m.\u001b[39;49msubgraph(levels[activeLevel][\u001b[39m0\u001b[39;49m]), activeLevel)      \u001b[39m# Run static black box on selected subgraph\u001b[39;00m\n\u001b[0;32m     <a href='vscode-notebook-cell:/d%3A/my%20documents/tue/Thesis/Coding/DynamicGraphColoring/Algorithm%20Sandbox.ipynb#ch0000023?line=18'>19</a>\u001b[0m     levels[activeLevel] \u001b[39m=\u001b[39m (levels[activeLevel][\u001b[39m0\u001b[39m], \u001b[39mFalse\u001b[39;00m)                \u001b[39m# Deactivate this level\u001b[39;00m\n\u001b[0;32m     <a href='vscode-notebook-cell:/d%3A/my%20documents/tue/Thesis/Coding/DynamicGraphColoring/Algorithm%20Sandbox.ipynb#ch0000023?line=19'>20</a>\u001b[0m     \u001b[39mfor\u001b[39;00m i \u001b[39min\u001b[39;00m \u001b[39mrange\u001b[39m(activeLevel \u001b[39m+\u001b[39m \u001b[39m1\u001b[39m, maxLevel \u001b[39m+\u001b[39m \u001b[39m1\u001b[39m):                       \u001b[39m# Reactivate all levels higher than current level\u001b[39;00m\n",
      "\u001b[1;32md:\\my documents\\tue\\Thesis\\Coding\\DynamicGraphColoring\\Algorithm Sandbox.ipynb Cell 13'\u001b[0m in \u001b[0;36mstaticBlackBox\u001b[1;34m(g, level)\u001b[0m\n\u001b[0;32m      <a href='vscode-notebook-cell:/d%3A/my%20documents/tue/Thesis/Coding/DynamicGraphColoring/Algorithm%20Sandbox.ipynb#ch0000011?line=6'>7</a>\u001b[0m nx\u001b[39m.\u001b[39mset_node_attributes(G, \u001b[39m0\u001b[39m, \u001b[39m'\u001b[39m\u001b[39mrecentDegree\u001b[39m\u001b[39m'\u001b[39m)       \u001b[39m# Reset all recent degrees to 0\u001b[39;00m\n\u001b[0;32m      <a href='vscode-notebook-cell:/d%3A/my%20documents/tue/Thesis/Coding/DynamicGraphColoring/Algorithm%20Sandbox.ipynb#ch0000011?line=8'>9</a>\u001b[0m \u001b[39mfor\u001b[39;00m node \u001b[39min\u001b[39;00m g\u001b[39m.\u001b[39mnodes():                             \u001b[39m# Remove all edges adjacent to nodes in g from G'\u001b[39;00m\n\u001b[1;32m---> <a href='vscode-notebook-cell:/d%3A/my%20documents/tue/Thesis/Coding/DynamicGraphColoring/Algorithm%20Sandbox.ipynb#ch0000011?line=9'>10</a>\u001b[0m     \u001b[39mfor\u001b[39;00m edge \u001b[39min\u001b[39;00m DBB\u001b[39m.\u001b[39mG\u001b[39m.\u001b[39medges(node):\n\u001b[0;32m     <a href='vscode-notebook-cell:/d%3A/my%20documents/tue/Thesis/Coding/DynamicGraphColoring/Algorithm%20Sandbox.ipynb#ch0000011?line=10'>11</a>\u001b[0m         DBB\u001b[39m.\u001b[39mremoveEdge(edge[\u001b[39m0\u001b[39m], edge[\u001b[39m1\u001b[39m])\n\u001b[0;32m     <a href='vscode-notebook-cell:/d%3A/my%20documents/tue/Thesis/Coding/DynamicGraphColoring/Algorithm%20Sandbox.ipynb#ch0000011?line=12'>13</a>\u001b[0m levels[level] \u001b[39m=\u001b[39m  (\u001b[39mset\u001b[39m({}), levels[level][\u001b[39m1\u001b[39m])\n",
      "File \u001b[1;32m~\\AppData\\Local\\Programs\\Python\\Python39\\lib\\site-packages\\networkx\\classes\\reportviews.py:786\u001b[0m, in \u001b[0;36mEdgeDataView.__iter__\u001b[1;34m(self)\u001b[0m\n\u001b[0;32m    <a href='file:///c%3A/Users/Gebruiker/AppData/Local/Programs/Python/Python39/lib/site-packages/networkx/classes/reportviews.py?line=783'>784</a>\u001b[0m seen \u001b[39m=\u001b[39m {}\n\u001b[0;32m    <a href='file:///c%3A/Users/Gebruiker/AppData/Local/Programs/Python/Python39/lib/site-packages/networkx/classes/reportviews.py?line=784'>785</a>\u001b[0m \u001b[39mfor\u001b[39;00m n, nbrs \u001b[39min\u001b[39;00m \u001b[39mself\u001b[39m\u001b[39m.\u001b[39m_nodes_nbrs():\n\u001b[1;32m--> <a href='file:///c%3A/Users/Gebruiker/AppData/Local/Programs/Python/Python39/lib/site-packages/networkx/classes/reportviews.py?line=785'>786</a>\u001b[0m     \u001b[39mfor\u001b[39;00m nbr, dd \u001b[39min\u001b[39;00m nbrs\u001b[39m.\u001b[39mitems():\n\u001b[0;32m    <a href='file:///c%3A/Users/Gebruiker/AppData/Local/Programs/Python/Python39/lib/site-packages/networkx/classes/reportviews.py?line=786'>787</a>\u001b[0m         \u001b[39mif\u001b[39;00m nbr \u001b[39mnot\u001b[39;00m \u001b[39min\u001b[39;00m seen:\n\u001b[0;32m    <a href='file:///c%3A/Users/Gebruiker/AppData/Local/Programs/Python/Python39/lib/site-packages/networkx/classes/reportviews.py?line=787'>788</a>\u001b[0m             \u001b[39myield\u001b[39;00m \u001b[39mself\u001b[39m\u001b[39m.\u001b[39m_report(n, nbr, dd)\n",
      "\u001b[1;31mRuntimeError\u001b[0m: dictionary changed size during iteration"
     ]
    }
   ],
   "source": [
    "removeEdge(1, 3)\n",
    "printLevels()\n",
    "misc.draw(G, getColoring())"
   ]
  },
  {
   "cell_type": "code",
   "execution_count": 15,
   "id": "f8230da4",
   "metadata": {},
   "outputs": [],
   "source": [
    "matplotlib.pyplot.close()"
   ]
  },
  {
   "cell_type": "code",
   "execution_count": 16,
   "id": "611df655",
   "metadata": {},
   "outputs": [],
   "source": [
    "for i in range (0,5):\n",
    "    addVertex(13+i)\n",
    "\n",
    "for i in range(0, 5):\n",
    "    removeVertex(13+i)"
   ]
  },
  {
   "cell_type": "code",
   "execution_count": null,
   "id": "1ea0f55a",
   "metadata": {},
   "outputs": [],
   "source": []
  },
  {
   "cell_type": "code",
   "execution_count": null,
   "id": "3cd0d863",
   "metadata": {},
   "outputs": [],
   "source": []
  },
  {
   "cell_type": "code",
   "execution_count": 17,
   "id": "c0ed8abc",
   "metadata": {},
   "outputs": [],
   "source": [
    "coloring = nx.coloring.greedy_color(G)"
   ]
  },
  {
   "cell_type": "code",
   "execution_count": 18,
   "id": "02f05042",
   "metadata": {},
   "outputs": [],
   "source": [
    "coloring[0] = 0"
   ]
  },
  {
   "cell_type": "code",
   "execution_count": 19,
   "id": "b1b4066b",
   "metadata": {},
   "outputs": [
    {
     "data": {
      "text/plain": [
       "{0: 0, 3: 1, 1: 2, 2: 3, 4: 2, 5: 0, 6: 1, 7: 0, 8: 1, 9: 2}"
      ]
     },
     "execution_count": 19,
     "metadata": {},
     "output_type": "execute_result"
    }
   ],
   "source": [
    "coloring"
   ]
  },
  {
   "cell_type": "code",
   "execution_count": 20,
   "id": "a958a19b",
   "metadata": {},
   "outputs": [
    {
     "data": {
      "text/plain": [
       "{0: 'L2C0',\n",
       " 3: 'L2C1',\n",
       " 1: 'L2C2',\n",
       " 2: 'L2C3',\n",
       " 4: 'L2C2',\n",
       " 5: 'L2C0',\n",
       " 6: 'L2C1',\n",
       " 7: 'L2C0',\n",
       " 8: 'L2C1',\n",
       " 9: 'L2C2'}"
      ]
     },
     "execution_count": 20,
     "metadata": {},
     "output_type": "execute_result"
    }
   ],
   "source": [
    "misc.useUniquePalette(coloring, 2)"
   ]
  },
  {
   "cell_type": "code",
   "execution_count": 21,
   "id": "ee21c2d3",
   "metadata": {},
   "outputs": [
    {
     "data": {
      "text/plain": [
       "{0: 0, 3: 1, 1: 2, 2: 3, 4: 2, 5: 0, 6: 1, 7: 0, 8: 1, 9: 2}"
      ]
     },
     "execution_count": 21,
     "metadata": {},
     "output_type": "execute_result"
    }
   ],
   "source": [
    "misc.toDrawableColoring(misc.useUniquePalette(coloring, 1))"
   ]
  },
  {
   "cell_type": "code",
   "execution_count": 22,
   "id": "4c6e0a33",
   "metadata": {},
   "outputs": [],
   "source": [
    "layout = nx.spring_layout(G)"
   ]
  },
  {
   "cell_type": "code",
   "execution_count": 23,
   "id": "947de5b3",
   "metadata": {},
   "outputs": [
    {
     "data": {
      "application/vnd.jupyter.widget-view+json": {
       "model_id": "0ac11bef59334bea81ae5fca51f500fa",
       "version_major": 2,
       "version_minor": 0
      },
      "image/png": "[encoded data removed]",
      "text/html": [
       "\n",
       "            <div style=\"display: inline-block;\">\n",
       "                <div class=\"jupyter-widgets widget-label\" style=\"text-align: center;\">\n",
       "                    Figure\n",
       "                </div>\n",
       "                <img src='data:image/png;base64,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' width=640.0/>\n",
       "            </div>\n",
       "        "
      ],
      "text/plain": [
       "Canvas(toolbar=Toolbar(toolitems=[('Home', 'Reset original view', 'home', 'home'), ('Back', 'Back to previous …"
      ]
     },
     "metadata": {},
     "output_type": "display_data"
    }
   ],
   "source": [
    "misc.draw(G, coloring, layout)"
   ]
  },
  {
   "cell_type": "code",
   "execution_count": 24,
   "id": "f4d04804",
   "metadata": {},
   "outputs": [],
   "source": [
    "bba = SmallBucket.SmallBucketAlgo(3)"
   ]
  },
  {
   "cell_type": "code",
   "execution_count": 25,
   "id": "520eff6d",
   "metadata": {},
   "outputs": [
    {
     "name": "stdout",
     "output_type": "stream",
     "text": [
      "Not all nodes present in graph yet\n"
     ]
    },
    {
     "data": {
      "text/plain": [
       "0"
      ]
     },
     "execution_count": 25,
     "metadata": {},
     "output_type": "execute_result"
    }
   ],
   "source": [
    "c1 = bba.getColoring()\n",
    "\n",
    "bba.addEdge(3,5)\n",
    "\n",
    "c2 = bba.getColoring()\n",
    "misc.numberOfRecolors(c1, c2)"
   ]
  },
  {
   "cell_type": "code",
   "execution_count": 26,
   "id": "4c641652",
   "metadata": {},
   "outputs": [
    {
     "data": {
      "text/plain": [
       "{}"
      ]
     },
     "execution_count": 26,
     "metadata": {},
     "output_type": "execute_result"
    }
   ],
   "source": [
    "bba.getColoring()"
   ]
  },
  {
   "cell_type": "code",
   "execution_count": 27,
   "id": "965264b1",
   "metadata": {},
   "outputs": [
    {
     "name": "stdout",
     "output_type": "stream",
     "text": [
      "|  set()  |\n",
      "-----------------------------------------------\n",
      "|  set()  |\n",
      "-----------------------------------------------\n",
      "|  set()  |\n",
      "-----------------------------------------------\n",
      "|  set()  |\n",
      "-----------------------------------------------\n"
     ]
    }
   ],
   "source": [
    "bba.printBucketLevels()"
   ]
  },
  {
   "cell_type": "code",
   "execution_count": 28,
   "id": "5d2390b7",
   "metadata": {},
   "outputs": [
    {
     "data": {
      "application/vnd.jupyter.widget-view+json": {
       "model_id": "a2d410ce8adb49b693ed52ed2910976e",
       "version_major": 2,
       "version_minor": 0
      },
      "image/png": "[encoded data removed]",
      "text/html": [
       "\n",
       "            <div style=\"display: inline-block;\">\n",
       "                <div class=\"jupyter-widgets widget-label\" style=\"text-align: center;\">\n",
       "                    Figure\n",
       "                </div>\n",
       "                <img src='data:image/png;base64,iVBORw0KGgoAAAANSUhEUgAAAoAAAAHgCAYAAAA10dzkAAAAOXRFWHRTb2Z0d2FyZQBNYXRwbG90bGliIHZlcnNpb24zLjUuMSwgaHR0cHM6Ly9tYXRwbG90bGliLm9yZy/YYfK9AAAACXBIWXMAAA9hAAAPYQGoP6dpAAAIyUlEQVR4nO3WMQEAIAzAMMC/5+ECjiYKenbPzCwAADLO7wAAAN4ygAAAMQYQACDGAAIAxBhAAIAYAwgAEGMAAQBiDCAAQIwBBACIMYAAADEGEAAgxgACAMQYQACAGAMIABBjAAEAYgwgAECMAQQAiDGAAAAxBhAAIMYAAgDEGEAAgBgDCAAQYwABAGIMIABAjAEEAIgxgAAAMQYQACDGAAIAxBhAAIAYAwgAEGMAAQBiDCAAQIwBBACIMYAAADEGEAAgxgACAMQYQACAGAMIABBjAAEAYgwgAECMAQQAiDGAAAAxBhAAIMYAAgDEGEAAgBgDCAAQYwABAGIMIABAjAEEAIgxgAAAMQYQACDGAAIAxBhAAIAYAwgAEGMAAQBiDCAAQIwBBACIMYAAADEGEAAgxgACAMQYQACAGAMIABBjAAEAYgwgAECMAQQAiDGAAAAxBhAAIMYAAgDEGEAAgBgDCAAQYwABAGIMIABAjAEEAIgxgAAAMQYQACDGAAIAxBhAAIAYAwgAEGMAAQBiDCAAQIwBBACIMYAAADEGEAAgxgACAMQYQACAGAMIABBjAAEAYgwgAECMAQQAiDGAAAAxBhAAIMYAAgDEGEAAgBgDCAAQYwABAGIMIABAjAEEAIgxgAAAMQYQACDGAAIAxBhAAIAYAwgAEGMAAQBiDCAAQIwBBACIMYAAADEGEAAgxgACAMQYQACAGAMIABBjAAEAYgwgAECMAQQAiDGAAAAxBhAAIMYAAgDEGEAAgBgDCAAQYwABAGIMIABAjAEEAIgxgAAAMQYQACDGAAIAxBhAAIAYAwgAEGMAAQBiDCAAQIwBBACIMYAAADEGEAAgxgACAMQYQACAGAMIABBjAAEAYgwgAECMAQQAiDGAAAAxBhAAIMYAAgDEGEAAgBgDCAAQYwABAGIMIABAjAEEAIgxgAAAMQYQACDGAAIAxBhAAIAYAwgAEGMAAQBiDCAAQIwBBACIMYAAADEGEAAgxgACAMQYQACAGAMIABBjAAEAYgwgAECMAQQAiDGAAAAxBhAAIMYAAgDEGEAAgBgDCAAQYwABAGIMIABAjAEEAIgxgAAAMQYQACDGAAIAxBhAAIAYAwgAEGMAAQBiDCAAQIwBBACIMYAAADEGEAAgxgACAMQYQACAGAMIABBjAAEAYgwgAECMAQQAiDGAAAAxBhAAIMYAAgDEGEAAgBgDCAAQYwABAGIMIABAjAEEAIgxgAAAMQYQACDGAAIAxBhAAIAYAwgAEGMAAQBiDCAAQIwBBACIMYAAADEGEAAgxgACAMQYQACAGAMIABBjAAEAYgwgAECMAQQAiDGAAAAxBhAAIMYAAgDEGEAAgBgDCAAQYwABAGIMIABAjAEEAIgxgAAAMQYQACDGAAIAxBhAAIAYAwgAEGMAAQBiDCAAQIwBBACIMYAAADEGEAAgxgACAMQYQACAGAMIABBjAAEAYgwgAECMAQQAiDGAAAAxBhAAIMYAAgDEGEAAgBgDCAAQYwABAGIMIABAjAEEAIgxgAAAMQYQACDGAAIAxBhAAIAYAwgAEGMAAQBiDCAAQIwBBACIMYAAADEGEAAgxgACAMQYQACAGAMIABBjAAEAYgwgAECMAQQAiDGAAAAxBhAAIMYAAgDEGEAAgBgDCAAQYwABAGIMIABAjAEEAIgxgAAAMQYQACDGAAIAxBhAAIAYAwgAEGMAAQBiDCAAQIwBBACIMYAAADEGEAAgxgACAMQYQACAGAMIABBjAAEAYgwgAECMAQQAiDGAAAAxBhAAIMYAAgDEGEAAgBgDCAAQYwABAGIMIABAjAEEAIgxgAAAMQYQACDGAAIAxBhAAIAYAwgAEGMAAQBiDCAAQIwBBACIMYAAADEGEAAgxgACAMQYQACAGAMIABBjAAEAYgwgAECMAQQAiDGAAAAxBhAAIMYAAgDEGEAAgBgDCAAQYwABAGIMIABAjAEEAIgxgAAAMQYQACDGAAIAxBhAAIAYAwgAEGMAAQBiDCAAQIwBBACIMYAAADEGEAAgxgACAMQYQACAGAMIABBjAAEAYgwgAECMAQQAiDGAAAAxBhAAIMYAAgDEGEAAgBgDCAAQYwABAGIMIABAjAEEAIgxgAAAMQYQACDGAAIAxBhAAIAYAwgAEGMAAQBiDCAAQIwBBACIMYAAADEGEAAgxgACAMQYQACAGAMIABBjAAEAYgwgAECMAQQAiDGAAAAxBhAAIMYAAgDEGEAAgBgDCAAQYwABAGIMIABAjAEEAIgxgAAAMQYQACDGAAIAxBhAAIAYAwgAEGMAAQBiDCAAQIwBBACIMYAAADEGEAAgxgACAMQYQACAGAMIABBjAAEAYgwgAECMAQQAiDGAAAAxBhAAIMYAAgDEGEAAgBgDCAAQYwABAGIMIABAjAEEAIgxgAAAMQYQACDGAAIAxBhAAIAYAwgAEGMAAQBiDCAAQIwBBACIMYAAADEGEAAgxgACAMQYQACAGAMIABBjAAEAYgwgAECMAQQAiDGAAAAxBhAAIMYAAgDEGEAAgBgDCAAQYwABAGIMIABAjAEEAIgxgAAAMQYQACDGAAIAxBhAAIAYAwgAEGMAAQBiDCAAQIwBBACIMYAAADEGEAAgxgACAMQYQACAGAMIABBjAAEAYgwgAECMAQQAiDGAAAAxBhAAIMYAAgDEGEAAgBgDCAAQYwABAGIMIABAjAEEAIgxgAAAMQYQACDGAAIAxBhAAIAYAwgAEGMAAQBiDCAAQIwBBACIMYAAADEGEAAgxgACAMQYQACAGAMIABBjAAEAYgwgAECMAQQAiDGAAAAxBhAAIMYAAgDEGEAAgBgDCAAQYwABAGIMIABAjAEEAIgxgAAAMQYQACDGAAIAxBhAAIAYAwgAEGMAAQBiDCAAQIwBBACIMYAAADEGEAAgxgACAMQYQACAGAMIABBjAAEAYgwgAECMAQQAiDGAAAAxBhAAIMYAAgDEGEAAgBgDCAAQYwABAGIuJnkHvKensmIAAAAASUVORK5CYII=' width=640.0/>\n",
       "            </div>\n",
       "        "
      ],
      "text/plain": [
       "Canvas(toolbar=Toolbar(toolitems=[('Home', 'Reset original view', 'home', 'home'), ('Back', 'Back to previous …"
      ]
     },
     "metadata": {},
     "output_type": "display_data"
    }
   ],
   "source": [
    "misc.draw(bba.G, bba.getColoring())"
   ]
  },
  {
   "cell_type": "code",
   "execution_count": null,
   "id": "d826a06d",
   "metadata": {},
   "outputs": [],
   "source": []
  },
  {
   "cell_type": "code",
   "execution_count": null,
   "id": "705fdcc9",
   "metadata": {},
   "outputs": [],
   "source": []
  },
  {
   "cell_type": "code",
   "execution_count": null,
   "id": "f89ac6a5",
   "metadata": {},
   "outputs": [],
   "source": []
  },
  {
   "cell_type": "code",
   "execution_count": null,
   "id": "541a5255",
   "metadata": {},
   "outputs": [],
   "source": []
  },
  {
   "cell_type": "code",
   "execution_count": null,
   "id": "9ce99543",
   "metadata": {},
   "outputs": [],
   "source": []
  }
 ],
 "metadata": {
  "kernelspec": {
   "display_name": "Python 3 (ipykernel)",
   "language": "python",
   "name": "python3"
  },
  "language_info": {
   "codemirror_mode": {
    "name": "ipython",
    "version": 3
   },
   "file_extension": ".py",
   "mimetype": "text/x-python",
   "name": "python",
   "nbconvert_exporter": "python",
   "pygments_lexer": "ipython3",
   "version": "3.9.5"
  }
 },
 "nbformat": 4,
 "nbformat_minor": 5
}
