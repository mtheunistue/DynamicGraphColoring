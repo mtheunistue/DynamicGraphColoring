{
 "cells": [
  {
   "cell_type": "markdown",
   "id": "21b60a7a",
   "metadata": {},
   "source": [
    "# Imports"
   ]
  },
  {
   "cell_type": "code",
   "execution_count": 1,
   "id": "16646cac-517a-442e-b70e-353abe179b32",
   "metadata": {},
   "outputs": [],
   "source": [
    "#Imports\n",
    "%matplotlib widget\n",
    "import pandas as pd\n",
    "import numpy as np\n",
    "import csv\n",
    "import matplotlib\n",
    "import matplotlib.pyplot as plt\n",
    "import scipy\n",
    "import datetime\n",
    "import networkx as nx\n",
    "import misc\n",
    "import math\n",
    "import random\n",
    "import SmallBucket\n",
    "import BigBucket\n",
    "import RandomWarmUp1\n",
    "import StaticDynamic"
   ]
  },
  {
   "cell_type": "markdown",
   "id": "1f5c8374",
   "metadata": {},
   "source": [
    "# Data Generation"
   ]
  },
  {
   "cell_type": "code",
   "execution_count": 2,
   "id": "5196740d-36d2-4960-9fde-222208141229",
   "metadata": {},
   "outputs": [],
   "source": [
    "#Create empty graph\n",
    "G = nx.Graph()"
   ]
  },
  {
   "cell_type": "code",
   "execution_count": 3,
   "id": "240d5997",
   "metadata": {},
   "outputs": [],
   "source": [
    "G.add_nodes_from([0, 1, 2, 3, 4, 5, 6, 7, 8, 9])\n",
    "\n",
    "G.add_edges_from([\n",
    "    (0,1),\n",
    "    (1,2),\n",
    "    (2,3),\n",
    "    (3,4),\n",
    "    (4,5),\n",
    "    (5,6),\n",
    "    (6,7),\n",
    "    (7,8),\n",
    "    (8,9),\n",
    "    (9,0),\n",
    "\n",
    "    (0,2),\n",
    "    (0,3),\n",
    "    (0,4),\n",
    "    (1,3)\n",
    "])"
   ]
  },
  {
   "cell_type": "code",
   "execution_count": null,
   "id": "4becf55d",
   "metadata": {},
   "outputs": [],
   "source": []
  },
  {
   "cell_type": "code",
   "execution_count": null,
   "id": "28c5ea8a",
   "metadata": {},
   "outputs": [],
   "source": []
  },
  {
   "cell_type": "code",
   "execution_count": null,
   "id": "ccc59058",
   "metadata": {},
   "outputs": [],
   "source": []
  },
  {
   "cell_type": "code",
   "execution_count": null,
   "id": "3b4d138f",
   "metadata": {},
   "outputs": [],
   "source": []
  },
  {
   "cell_type": "markdown",
   "id": "c8846182",
   "metadata": {},
   "source": [
    "# Common items"
   ]
  },
  {
   "cell_type": "code",
   "execution_count": null,
   "id": "f5d16ca8",
   "metadata": {},
   "outputs": [],
   "source": []
  },
  {
   "cell_type": "code",
   "execution_count": null,
   "id": "ccebfde4",
   "metadata": {},
   "outputs": [],
   "source": []
  },
  {
   "cell_type": "code",
   "execution_count": null,
   "id": "7c469f8d-51cc-4278-b75f-42004394d703",
   "metadata": {},
   "outputs": [],
   "source": [
    "\n",
    "\n"
   ]
  },
  {
   "cell_type": "code",
   "execution_count": null,
   "id": "37fdf86c",
   "metadata": {},
   "outputs": [],
   "source": [
    "\n"
   ]
  },
  {
   "cell_type": "code",
   "execution_count": 4,
   "id": "b57cf762",
   "metadata": {},
   "outputs": [],
   "source": [
    "# Returns a coloring dictionary by combining the two available colorings\n",
    "def getColoring() -> dict:\n",
    "    coloring: dict = {}\n",
    "    sColoring = staticColoring\n",
    "    dColoring = DBB.getColoring()\n",
    "\n",
    "    for node in G.nodes():\n",
    "        coloring[node] = (sColoring[node], dColoring[node])\n",
    "    return coloring"
   ]
  },
  {
   "cell_type": "code",
   "execution_count": 5,
   "id": "cfdbe6fa",
   "metadata": {},
   "outputs": [],
   "source": [
    "# Print the current situation of the leveled segment data structure\n",
    "def printLevels():\n",
    "    print(\"l: \" + str(l))\n",
    "    print(\"c: \" + str(c))"
   ]
  },
  {
   "cell_type": "code",
   "execution_count": null,
   "id": "9b8c3809",
   "metadata": {},
   "outputs": [],
   "source": []
  },
  {
   "cell_type": "code",
   "execution_count": null,
   "id": "7a8b57bb",
   "metadata": {},
   "outputs": [],
   "source": []
  },
  {
   "cell_type": "code",
   "execution_count": null,
   "id": "6d2dc1b2",
   "metadata": {},
   "outputs": [],
   "source": []
  },
  {
   "cell_type": "markdown",
   "id": "b7c3f190",
   "metadata": {},
   "source": [
    "# Algorithm Specific Methods"
   ]
  },
  {
   "cell_type": "code",
   "execution_count": null,
   "id": "09cfbf8d",
   "metadata": {},
   "outputs": [],
   "source": []
  },
  {
   "cell_type": "code",
   "execution_count": null,
   "id": "fac93115-a3b3-44e5-8d0f-540e048cc496",
   "metadata": {},
   "outputs": [],
   "source": []
  },
  {
   "cell_type": "code",
   "execution_count": null,
   "id": "a21e437a",
   "metadata": {},
   "outputs": [],
   "source": []
  },
  {
   "cell_type": "code",
   "execution_count": null,
   "id": "fdaa21e1",
   "metadata": {},
   "outputs": [],
   "source": []
  },
  {
   "cell_type": "code",
   "execution_count": null,
   "id": "73bd4730",
   "metadata": {},
   "outputs": [],
   "source": []
  },
  {
   "cell_type": "code",
   "execution_count": 6,
   "id": "ed1c4a83",
   "metadata": {},
   "outputs": [],
   "source": [
    "def removeEdge(s, t):\n",
    "    if not G.has_edge(s, t):    # Potentially redundant\n",
    "        print(\"Edge not present in graph\")\n",
    "        return\n",
    "    G.remove_edge(s, t)\n",
    "    if DBB.G.has_edge(s, t):\n",
    "        DBB.removeEdge(s, t)\n",
    "    updateStep()\n",
    "\n",
    "def removeVertex(v):\n",
    "\n",
    "    if not G.has_node(v):   # Potentially redundant\n",
    "        print(\"Node not present in graph\")\n",
    "        return\n",
    "    G.remove_node(v)\n",
    "    DBB.removeVertex(v)\n",
    "    updateStep()\n",
    "\n",
    "def addEdge(s, t):\n",
    "\n",
    "    if G.has_edge(s, t):    # Potentially redundant, but could be extended to also check if the vertices are present yet\n",
    "        print(\"Edge already in the graph\")\n",
    "        return\n",
    "    if (not G.has_node(s) or not G.has_node(t)):\n",
    "        print(\"Not all nodes present in graph yet\")\n",
    "        return\n",
    "\n",
    "    G.add_edge(s, t)\n",
    "    DBB.G.add_edge(s, t)       # Add edge to G' directly, without running the dynamic algorithm\n",
    "\n",
    "    # Increase recent degree of endpoints\n",
    "    G.nodes[s]['recentDegree'] += 1\n",
    "    G.nodes[t]['recentDegree'] += 1\n",
    "\n",
    "    updateStep()               # Run update step in which the static algorithm is potentially ran\n",
    "\n",
    "    if DBB.G.has_edge(s, t):    # If edge still in G' after update step, run dynamic algorithm\n",
    "        DBB.removeEdge(s, t)\n",
    "        dynamicBlackBox(s, t) \n",
    "\n",
    "    # Add node with highest recent degree to active level node sets\n",
    "    if G.number_of_nodes() > 0:\n",
    "        rd = -1\n",
    "        n = None\n",
    "        for node in G.nodes():\n",
    "            if G.nodes[node]['recentDegree'] > rd:\n",
    "                rd = G.nodes[node]['recentDegree']\n",
    "                n = node\n",
    "        for level in levels:\n",
    "            if level[1]:\n",
    "                level[0].add(n)\n",
    "\n",
    "def addVertex(v):\n",
    "    if G.has_node(v):   # Potentially redundant, depending on the input used during the experiments\n",
    "        print(\"Node already present in graph\")\n",
    "        return\n",
    "    G.add_node(v)\n",
    "    staticColoring[v] = 'L0C0'\n",
    "    G.nodes[v]['recentDegree'] = 0\n",
    "    DBB.addVertex(v)\n",
    "    updateStep()"
   ]
  },
  {
   "cell_type": "code",
   "execution_count": null,
   "id": "20f5cc68",
   "metadata": {},
   "outputs": [],
   "source": []
  },
  {
   "cell_type": "code",
   "execution_count": null,
   "id": "6e0d14d7",
   "metadata": {},
   "outputs": [],
   "source": []
  },
  {
   "cell_type": "code",
   "execution_count": null,
   "id": "6b674062",
   "metadata": {},
   "outputs": [],
   "source": []
  },
  {
   "cell_type": "code",
   "execution_count": null,
   "id": "f8230da4",
   "metadata": {},
   "outputs": [],
   "source": []
  },
  {
   "cell_type": "code",
   "execution_count": null,
   "id": "611df655",
   "metadata": {},
   "outputs": [],
   "source": []
  },
  {
   "cell_type": "code",
   "execution_count": null,
   "id": "1ea0f55a",
   "metadata": {},
   "outputs": [],
   "source": []
  },
  {
   "cell_type": "code",
   "execution_count": null,
   "id": "3cd0d863",
   "metadata": {},
   "outputs": [],
   "source": []
  },
  {
   "cell_type": "code",
   "execution_count": null,
   "id": "c0ed8abc",
   "metadata": {},
   "outputs": [],
   "source": []
  },
  {
   "cell_type": "code",
   "execution_count": null,
   "id": "02f05042",
   "metadata": {},
   "outputs": [],
   "source": []
  },
  {
   "cell_type": "code",
   "execution_count": null,
   "id": "b1b4066b",
   "metadata": {},
   "outputs": [],
   "source": []
  },
  {
   "cell_type": "code",
   "execution_count": null,
   "id": "a958a19b",
   "metadata": {},
   "outputs": [],
   "source": []
  },
  {
   "cell_type": "code",
   "execution_count": null,
   "id": "ee21c2d3",
   "metadata": {},
   "outputs": [],
   "source": []
  },
  {
   "cell_type": "code",
   "execution_count": null,
   "id": "4c6e0a33",
   "metadata": {},
   "outputs": [],
   "source": []
  },
  {
   "cell_type": "code",
   "execution_count": null,
   "id": "947de5b3",
   "metadata": {},
   "outputs": [],
   "source": []
  },
  {
   "cell_type": "code",
   "execution_count": 7,
   "id": "f4d04804",
   "metadata": {},
   "outputs": [],
   "source": [
    "sda = StaticDynamic.StaticDynamicAlgo(G)"
   ]
  },
  {
   "cell_type": "code",
   "execution_count": 15,
   "id": "520eff6d",
   "metadata": {},
   "outputs": [
    {
     "name": "stdout",
     "output_type": "stream",
     "text": [
      "running blackbox on nodes {4}\n"
     ]
    },
    {
     "data": {
      "text/plain": [
       "1"
      ]
     },
     "execution_count": 15,
     "metadata": {},
     "output_type": "execute_result"
    }
   ],
   "source": [
    "c1 = sda.getColoring()\n",
    "\n",
    "sda.addEdge(7,9)\n",
    "\n",
    "c2 = sda.getColoring()\n",
    "misc.numberOfRecolors(c1, c2)"
   ]
  },
  {
   "cell_type": "code",
   "execution_count": 16,
   "id": "4c641652",
   "metadata": {},
   "outputs": [
    {
     "data": {
      "text/plain": [
       "{0: ('L0C0', 0),\n",
       " 1: ('L0C2', 0),\n",
       " 2: ('L0C3', 0),\n",
       " 3: ('L0C1', 0),\n",
       " 4: ('L3C0', 2),\n",
       " 5: ('L0C0', 0),\n",
       " 6: ('L0C1', 0),\n",
       " 7: ('L0C0', 0),\n",
       " 8: ('L0C1', 0),\n",
       " 9: ('L0C2', 1)}"
      ]
     },
     "execution_count": 16,
     "metadata": {},
     "output_type": "execute_result"
    }
   ],
   "source": [
    "sda.getColoring()"
   ]
  },
  {
   "cell_type": "code",
   "execution_count": 10,
   "id": "965264b1",
   "metadata": {},
   "outputs": [
    {
     "name": "stdout",
     "output_type": "stream",
     "text": [
      "l: 5\n",
      "c: 1\n",
      "Last Updated Level: 0\n",
      "Max Level: 3\n"
     ]
    }
   ],
   "source": [
    "sda.printLevels()"
   ]
  },
  {
   "cell_type": "code",
   "execution_count": 17,
   "id": "5d2390b7",
   "metadata": {},
   "outputs": [
    {
     "data": {
      "application/vnd.jupyter.widget-view+json": {
       "model_id": "f34c9245f07e4a98bd04627cbfccf965",
       "version_major": 2,
       "version_minor": 0
      },
      "image/png": "[encoded data removed]",
      "text/html": [
       "\n",
       "            <div style=\"display: inline-block;\">\n",
       "                <div class=\"jupyter-widgets widget-label\" style=\"text-align: center;\">\n",
       "                    Figure\n",
       "                </div>\n",
       "                <img src='data:image/png;base64,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' width=640.0/>\n",
       "            </div>\n",
       "        "
      ],
      "text/plain": [
       "Canvas(toolbar=Toolbar(toolitems=[('Home', 'Reset original view', 'home', 'home'), ('Back', 'Back to previous …"
      ]
     },
     "metadata": {},
     "output_type": "display_data"
    }
   ],
   "source": [
    "misc.draw(sda.G, sda.getColoring())"
   ]
  },
  {
   "cell_type": "code",
   "execution_count": null,
   "id": "d826a06d",
   "metadata": {},
   "outputs": [],
   "source": []
  },
  {
   "cell_type": "code",
   "execution_count": null,
   "id": "705fdcc9",
   "metadata": {},
   "outputs": [],
   "source": []
  },
  {
   "cell_type": "code",
   "execution_count": null,
   "id": "f89ac6a5",
   "metadata": {},
   "outputs": [],
   "source": []
  },
  {
   "cell_type": "code",
   "execution_count": null,
   "id": "541a5255",
   "metadata": {},
   "outputs": [],
   "source": []
  },
  {
   "cell_type": "code",
   "execution_count": null,
   "id": "9ce99543",
   "metadata": {},
   "outputs": [],
   "source": []
  }
 ],
 "metadata": {
  "kernelspec": {
   "display_name": "Python 3 (ipykernel)",
   "language": "python",
   "name": "python3"
  },
  "language_info": {
   "codemirror_mode": {
    "name": "ipython",
    "version": 3
   },
   "file_extension": ".py",
   "mimetype": "text/x-python",
   "name": "python",
   "nbconvert_exporter": "python",
   "pygments_lexer": "ipython3",
   "version": "3.9.5"
  }
 },
 "nbformat": 4,
 "nbformat_minor": 5
}
