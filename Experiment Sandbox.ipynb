{
 "cells": [
  {
   "cell_type": "markdown",
   "id": "21b60a7a",
   "metadata": {},
   "source": [
    "# Imports"
   ]
  },
  {
   "cell_type": "code",
   "execution_count": 1,
   "id": "16646cac-517a-442e-b70e-353abe179b32",
   "metadata": {},
   "outputs": [],
   "source": [
    "#Imports\n",
    "%matplotlib widget\n",
    "import pandas as pd\n",
    "import numpy as np\n",
    "import csv\n",
    "import matplotlib\n",
    "import matplotlib.pyplot as plt\n",
    "import scipy\n",
    "import datetime\n",
    "import sys\n",
    "import networkx as nx\n",
    "import misc\n",
    "import math\n",
    "import random\n",
    "import time\n",
    "import SmallBucket\n",
    "import BigBucket\n",
    "import RandomWarmUp1\n",
    "import RandomWarmUp2\n",
    "import StaticDynamic\n",
    "import DcOrient\n",
    "import DcOrientRandomSimple\n",
    "import DcSimple\n",
    "import StaticSimple\n",
    "import BigBucketSimple\n",
    "import SmallBucketSimple\n",
    "import StaticGreedy\n",
    "import StaticRandom"
   ]
  },
  {
   "cell_type": "markdown",
   "id": "1f5c8374",
   "metadata": {},
   "source": [
    "# Data Generation"
   ]
  },
  {
   "cell_type": "code",
   "execution_count": 81,
   "id": "06df8fe9",
   "metadata": {},
   "outputs": [
    {
     "name": "stdout",
     "output_type": "stream",
     "text": [
      "Nodes: 200\n",
      "Edges: 10558\n",
      "Density: 0.5305527638190954\n",
      "Max Degree: 121\n",
      "Average Degree: 105.58\n",
      "Static Coloring uses 33 colors at the end\n"
     ]
    },
    {
     "data": {
      "text/plain": [
       "5.580000000000002"
      ]
     },
     "execution_count": 81,
     "metadata": {},
     "output_type": "execute_result"
    }
   ],
   "source": [
    "G = misc.createRandomGraph(size=200, variation=0, density=0.5306)\n",
    "misc.graphInfo(G)\n",
    "\n",
    "avg = misc.getAverageDegree(G)\n",
    "variance = 0\n",
    "degreeTuples = list(G.degree(list(G.nodes())))\n",
    "\n",
    "for tuple in degreeTuples:\n",
    "    variance += abs(avg - tuple[1])\n",
    "\n",
    "variance = float(variance) / G.number_of_nodes()\n",
    "\n",
    "variance"
   ]
  },
  {
   "cell_type": "code",
   "execution_count": 65,
   "id": "f4d04804",
   "metadata": {},
   "outputs": [],
   "source": [
    "# EITHER\n",
    "updates = misc.extractUpdates(G, 'random')\n",
    "\n",
    "Ge = nx.Graph()\n",
    "Ge.add_nodes_from(list(G.nodes()))"
   ]
  },
  {
   "cell_type": "code",
   "execution_count": 82,
   "id": "7ad00577",
   "metadata": {},
   "outputs": [],
   "source": [
    "# OR\n",
    "updates = misc.extractStream(G, 100000, addProb=0.5, ordering='random')\n",
    "\n",
    "Ge = G.copy()"
   ]
  },
  {
   "cell_type": "code",
   "execution_count": 4,
   "id": "c2e6e3dd",
   "metadata": {},
   "outputs": [],
   "source": [
    "# Ge = nx.Graph()\n",
    "# Ge.add_nodes_from(list(G.nodes()))"
   ]
  },
  {
   "cell_type": "markdown",
   "id": "10659672",
   "metadata": {},
   "source": [
    "# Saving and Loading Graph Data"
   ]
  },
  {
   "cell_type": "code",
   "execution_count": 83,
   "id": "d122b25e",
   "metadata": {},
   "outputs": [],
   "source": [
    "# Always define a name\n",
    "name = 'StreamRandom'"
   ]
  },
  {
   "cell_type": "code",
   "execution_count": 84,
   "id": "99babd56",
   "metadata": {},
   "outputs": [],
   "source": [
    "# Create graph data\n",
    "nodes = list(Ge.nodes())\n",
    "edges = list(Ge.edges())\n",
    "updateEdges = list(update[0] for update in updates)\n",
    "updateTypes = list(update[1] for update in updates)\n",
    "\n",
    "ge = Ge.copy()\n",
    "oldColoring = nx.coloring.greedy_color(ge)\n",
    "newColoring = dict({})\n",
    "staticColors = []\n",
    "staticRecolors = []\n",
    "for update in updates:\n",
    "    if update[1]:\n",
    "        ge.add_edge(update[0][0], update[0][1])\n",
    "    else:\n",
    "        ge.remove_edge(update[0][0], update[0][1])\n",
    "    newColoring = nx.coloring.greedy_color(ge)\n",
    "    staticColors.append(misc.numberOfColors(newColoring))\n",
    "    staticRecolors.append(misc.numberOfRecolors(oldColoring, newColoring))\n",
    "    oldColoring = newColoring\n",
    "\n",
    "gd = misc.GraphData(name, nodes, edges, updateEdges, updateTypes, staticColors, staticRecolors)\n",
    "totStaticColors = gd.colorSum\n",
    "totStaticRecolors = gd.recolorSum"
   ]
  },
  {
   "cell_type": "code",
   "execution_count": 85,
   "id": "bb5863e3",
   "metadata": {},
   "outputs": [],
   "source": [
    "# Save graph data\n",
    "misc.saveGraphData(gd)"
   ]
  },
  {
   "cell_type": "code",
   "execution_count": null,
   "id": "78579341",
   "metadata": {},
   "outputs": [],
   "source": [
    "# Load graph data\n",
    "gd = misc.loadGraphData(name)\n",
    "\n",
    "Ge = gd.G.copy()\n",
    "\n",
    "updates = gd.updates\n",
    "staticColors = gd.staticColors\n",
    "staticRecolors = gd.staticRecolors\n",
    "totStaticColors = gd.colorSum\n",
    "totStaticRecolors = gd.recolorSum\n",
    "\n",
    "# Get final state of graph in local memory as well\n",
    "G = gd.G.copy()\n",
    "for update in updates:\n",
    "    if update[1]:\n",
    "        G.add_edge(update[0][0], update[0][1])\n",
    "    else:\n",
    "        G.remove_edge(update[0][0], update[0][1])"
   ]
  },
  {
   "cell_type": "markdown",
   "id": "15b4b36d",
   "metadata": {},
   "source": [
    "# Algorithm Preparation"
   ]
  },
  {
   "cell_type": "code",
   "execution_count": 6,
   "id": "ee58b20b",
   "metadata": {},
   "outputs": [],
   "source": [
    "experimentList = []\n",
    "\n",
    "experimentList.append([RandomWarmUp1.WarmUp1Algo(Ge, maxDegreeBound=None), 'Random Warm-Up 1'])\n",
    "experimentList.append([RandomWarmUp2.WarmUp2Algo(Ge, maxDegreeBound=None), 'Random Warm-Up 2'])\n",
    "\n",
    "d = 10\n",
    "experimentList.append([SmallBucket.SmallBucketAlgo(d, Ge), 'Small-Bucket algorithm (d = '+str(d)+')', 10])\n",
    "\n",
    "d = 10\n",
    "experimentList.append([BigBucket.BigBucketAlgo(d, Ge), 'Big-Bucket algorithm (d = '+str(d)+')', 10])\n",
    "\n",
    "l = 10\n",
    "experimentList.append([StaticDynamic.StaticDynamicAlgo(Ge, l, dynamicReset=False), 'Static-Dynamic algorithm (l = '+str(l)+')'])\n",
    "\n",
    "l = 50\n",
    "experimentList.append([StaticDynamic.StaticDynamicAlgo(Ge, l, dynamicReset=False), 'Static-Dynamic algorithm (l = '+str(l)+')'])\n",
    "\n",
    "l = 5\n",
    "experimentList.append([StaticSimple.StaticSimpleAlgo(Ge, l=l), 'Static-Simple (l = '+str(l)+')'])\n",
    "\n",
    "l = 50\n",
    "experimentList.append([StaticSimple.StaticSimpleAlgo(Ge, l=l), 'Static-Simple (l = '+str(l)+')'])\n",
    "\n",
    "p=0.8\n",
    "experimentList.append([DcOrientRandomSimple.DcOrientRandomSimpleAlgo(Ge, p=p), 'DC-Orient-Random-Simple (p = '+str(p)+')'])\n",
    "\n",
    "p=0.8\n",
    "experimentList.append([DcSimple.DcSimpleAlgo(Ge, p=p), 'DC-Simple (p = '+str(p)+')'])\n",
    "\n",
    "experimentList.append([DcOrient.DcOrientAlgo(Ge), 'DC-Orient'])\n"
   ]
  },
  {
   "cell_type": "code",
   "execution_count": 8,
   "id": "0b4b2902",
   "metadata": {},
   "outputs": [],
   "source": [
    "experimentList = []\n",
    "\n",
    "experimentList.append([RandomWarmUp1.WarmUp1Algo(Ge, maxDegreeBound=None), 'Random Warm-Up 1'])\n",
    "d=10\n",
    "p=1\n",
    "experimentList.append([BigBucketSimple.BigBucketSimpleAlgo(d, p, Ge), 'Big-Bucket Simple algorithm (d = '+str(d)+', p = '+str(p)+')'])\n",
    "experimentList.append([BigBucket.BigBucketAlgo(d, Ge), 'Big-Bucket algorithm (d = '+str(d)+')', 10])\n",
    "\n",
    "\n",
    "experimentList.append([SmallBucketSimple.SmallBucketSimpleAlgo(d, p, Ge), 'Small-Bucket Simple algorithm (d = '+str(d)+', p = '+str(p)+')'])\n",
    "experimentList.append([SmallBucket.SmallBucketAlgo(d, Ge), 'Small-Bucket algorithm (d = '+str(d)+')', 10])\n"
   ]
  },
  {
   "cell_type": "code",
   "execution_count": 10,
   "id": "e12b7840",
   "metadata": {},
   "outputs": [],
   "source": [
    "experimentList = []\n",
    "\n",
    "p=0.8\n",
    "experimentList.append([StaticRandom.StaticRandomAlgo(Ge, p=p), 'Static Random (p = '+str(p)+')'])\n",
    "experimentList.append([DcSimple.DcSimpleAlgo(Ge, p=p), 'DC-Simple (p = '+str(p)+')'])\n",
    "\n",
    "l = 100\n",
    "experimentList.append([StaticSimple.StaticSimpleAlgo(Ge, l=l), 'Static-Simple (l = '+str(l)+')'])\n",
    "\n",
    "d=10\n",
    "experimentList.append([SmallBucket.SmallBucketAlgo(d, Ge), 'Small-Bucket algorithm (d = '+str(d)+')', 10])\n",
    "experimentList.append([DcOrient.DcOrientAlgo(Ge), 'DC-Orient'])\n",
    "experimentList.append([StaticGreedy.StaticGreedyAlgo(Ge), 'Static Greedy Coloring'])"
   ]
  },
  {
   "cell_type": "markdown",
   "id": "43993e83",
   "metadata": {},
   "source": [
    "# Experimenting"
   ]
  },
  {
   "cell_type": "code",
   "execution_count": 11,
   "id": "520eff6d",
   "metadata": {},
   "outputs": [
    {
     "name": "stdout",
     "output_type": "stream",
     "text": [
      "Graph used in the experiment:\n",
      "Nodes: 300\n",
      "Edges: 22425\n",
      "Density: 0.5\n",
      "Max Degree: 247\n",
      "Average Degree: 149.5\n",
      "Static Coloring uses 128 colors\n",
      "\n",
      "------------------------------------------------------------------\n",
      "Static Random (p = 0.8):\n",
      "\n",
      "Average number of recolors per update: 1.2792865105908584         \n",
      "Total number of colors used at the end: 128\n",
      "Time taken : 119.80042240000012 seconds\n",
      "Total time spent on accessing neighbors : 0.2528760999807673\n",
      "------------------------------------------------------------------\n",
      "\n",
      "------------------------------------------------------------------\n",
      "DC-Simple (p = 0.8):\n",
      "\n",
      "Average number of recolors per update: 1.0896767001114827         \n",
      "Total number of colors used at the end: 128\n",
      "Time taken : 156.04378510000015 seconds\n",
      "Total time spent on accessing neighbors : 0\n",
      "------------------------------------------------------------------\n",
      "\n",
      "------------------------------------------------------------------\n",
      "Static-Simple (l = 100):\n",
      "\n",
      "Average number of recolors per update: 0.09279821627647715        \n",
      "Total number of colors used at the end: 149\n",
      "Time taken : 110.15257710000014 seconds\n",
      "Total time spent on accessing neighbors : 0.09551549998604969\n",
      "------------------------------------------------------------------\n",
      "\n",
      "------------------------------------------------------------------\n",
      "Small-Bucket algorithm (d = 10):\n",
      "\n",
      "Average number of recolors per update: 2.9213377926421407         \n",
      "Total number of colors used at the end: 139\n",
      "Time taken : 126.24608519999992 seconds\n",
      "Total time spent on accessing neighbors : 0\n",
      "------------------------------------------------------------------\n",
      "\n",
      "------------------------------------------------------------------\n",
      "DC-Orient:\n",
      "\n",
      "Average number of recolors per update: 1.4379041248606466         \n",
      "Total number of colors used at the end: 128\n",
      "Time taken : 163.1066181000001 seconds\n",
      "Total time spent on accessing neighbors : 0\n",
      "------------------------------------------------------------------\n",
      "\n",
      "------------------------------------------------------------------\n",
      "Static Greedy Coloring:\n",
      "\n",
      "Average number of recolors per update: 1.4379041248606466         \n",
      "Total number of colors used at the end: 128\n",
      "Time taken : 141.0228357000001 seconds\n",
      "Total time spent on accessing neighbors : 0\n",
      "------------------------------------------------------------------\n",
      "End of experiment list reached\n"
     ]
    }
   ],
   "source": [
    "# CSV Writer\n",
    "loadingBar = True\n",
    "f = open('experiment_output.csv', 'w', newline='')\n",
    "writer = csv.writer(f)\n",
    "\n",
    "print('Graph used in the experiment:')\n",
    "misc.graphInfo(G)\n",
    "\n",
    "row = [str(G.number_of_nodes()) + ' Nodes; ' + str(G.number_of_edges()) + ' Edges; C = ' + str(misc.numberOfColors(nx.coloring.greedy_color(G))),'Average nr. of Recolors', 'Total nr. of Colors', 'Time Taken (s)']\n",
    "writer.writerow(row)\n",
    "\n",
    "for experiment in experimentList:\n",
    "\n",
    "    row = [str(experiment[1])]\n",
    "\n",
    "    if len(experiment) == 3:\n",
    "        random.seed(experiment[2])\n",
    "    else:\n",
    "        random.seed()\n",
    "\n",
    "    print(\"\")\n",
    "    print(\"------------------------------------------------------------------\")\n",
    "    print(str(experiment[1]) + \":\")\n",
    "    iterator = misc.UpdateIterator(experiment[0], updates)\n",
    "\n",
    "    recolors = 0\n",
    "    timer = time.perf_counter()\n",
    "\n",
    "    totalUpdates = len(updates)\n",
    "    done = 0\n",
    "    barLength = 64\n",
    "\n",
    "    if loadingBar:\n",
    "        #line to be overwritten\n",
    "        print(\"\")\n",
    "\n",
    "    while True:\n",
    "        \n",
    "        if loadingBar:\n",
    "            #overwrite previously printed line\n",
    "            percentageDone = int(done/totalUpdates*barLength)\n",
    "            b = (\"[\" + percentageDone * \"+\" + (barLength - percentageDone) * \"-\" + \"]\")\n",
    "            sys.stdout.write('\\r'+b)\n",
    "            sys.stdout.flush()\n",
    "\n",
    "        if not misc.verifyColoring(iterator.algo.G, iterator.algo.getColoring()):\n",
    "            raise ValueError('The coloring produced is incorrect')\n",
    "        c1 = iterator.algo.getColoring()\n",
    "        if iterator.runUpdate(1):\n",
    "            c2 = iterator.algo.getColoring()\n",
    "            recolors += misc.numberOfRecolors(c1, c2)\n",
    "            done += 1\n",
    "        else:\n",
    "            # Verify coloring one last time before ending this experiment\n",
    "            if not misc.verifyColoring(iterator.algo.G, iterator.algo.getColoring()):\n",
    "                raise ValueError('The coloring produced is incorrect')\n",
    "            #print(\"all updates finished\")\n",
    "            break\n",
    "\n",
    "    timer = time.perf_counter() - timer\n",
    "\n",
    "    if loadingBar:\n",
    "        #overwrite previously printed line\n",
    "        b = (\"\")\n",
    "        sys.stdout.write('\\r'+b)\n",
    "        sys.stdout.flush()\n",
    "\n",
    "    avgColors = float(recolors)/len(updates)\n",
    "    b = \"Average number of recolors per update: \" + str(avgColors)\n",
    "    b = b + (barLength + 2 - len(b)) * \" \"\n",
    "    print(b)\n",
    "    row.append(str(round(avgColors, 2)))\n",
    "    totColors = misc.numberOfColors(iterator.algo.getColoring())\n",
    "    print(\"Total number of colors used at the end: \" + str(totColors))\n",
    "    row.append(str(totColors))\n",
    "    print(\"Time taken : \" + str(timer) + \" seconds\")\n",
    "    row.append(str(round(timer, 3)))\n",
    "    print(\"Total time spent on accessing neighbors : \" + str(iterator.elemCounter))\n",
    "    #print(\"Average time spent on accessing neighbors : \" + str(iterator.avgElemCounter))\n",
    "    print(\"------------------------------------------------------------------\")\n",
    "    writer.writerow(row)\n",
    "\n",
    "print(\"End of experiment list reached\")\n",
    "f.close()\n"
   ]
  },
  {
   "cell_type": "markdown",
   "id": "7c23823e",
   "metadata": {},
   "source": [
    "# Results"
   ]
  },
  {
   "cell_type": "code",
   "execution_count": null,
   "id": "e65bc2c3",
   "metadata": {},
   "outputs": [],
   "source": []
  },
  {
   "cell_type": "code",
   "execution_count": null,
   "id": "521a295b",
   "metadata": {},
   "outputs": [],
   "source": []
  },
  {
   "cell_type": "code",
   "execution_count": null,
   "id": "0872a6f3",
   "metadata": {},
   "outputs": [],
   "source": []
  }
 ],
 "metadata": {
  "interpreter": {
   "hash": "adaaa5d75d60d6dfc06c9d60b6aa1559542457868c7276143088c4682ec1a4cf"
  },
  "kernelspec": {
   "display_name": "Python 3.9.5 64-bit",
   "language": "python",
   "name": "python3"
  },
  "language_info": {
   "codemirror_mode": {
    "name": "ipython",
    "version": 3
   },
   "file_extension": ".py",
   "mimetype": "text/x-python",
   "name": "python",
   "nbconvert_exporter": "python",
   "pygments_lexer": "ipython3",
   "version": "3.9.5"
  }
 },
 "nbformat": 4,
 "nbformat_minor": 5
}
