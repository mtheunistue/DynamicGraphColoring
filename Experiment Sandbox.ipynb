{
 "cells": [
  {
   "cell_type": "markdown",
   "id": "21b60a7a",
   "metadata": {},
   "source": [
    "# Imports"
   ]
  },
  {
   "cell_type": "code",
   "execution_count": 1,
   "id": "16646cac-517a-442e-b70e-353abe179b32",
   "metadata": {},
   "outputs": [],
   "source": [
    "#Imports\n",
    "%matplotlib widget\n",
    "import pandas as pd\n",
    "import numpy as np\n",
    "import csv\n",
    "import matplotlib\n",
    "import matplotlib.pyplot as plt\n",
    "import scipy\n",
    "import datetime\n",
    "import sys\n",
    "import networkx as nx\n",
    "import misc\n",
    "import math\n",
    "import random\n",
    "import time\n",
    "import SmallBucket\n",
    "import BigBucket\n",
    "import RandomWarmUp1\n",
    "import RandomWarmUp2\n",
    "import StaticDynamic\n",
    "import DcOrient\n",
    "import DcOrientRandomSimple\n",
    "import DcSimple\n",
    "import StaticSimple"
   ]
  },
  {
   "cell_type": "markdown",
   "id": "1f5c8374",
   "metadata": {},
   "source": [
    "# Data Generation"
   ]
  },
  {
   "cell_type": "code",
   "execution_count": 2,
   "id": "06df8fe9",
   "metadata": {},
   "outputs": [
    {
     "name": "stdout",
     "output_type": "stream",
     "text": [
      "Nodes: 100\n",
      "Edges: 2970\n",
      "Density: 0.6\n",
      "Max Degree: 70\n",
      "Average Degree: 59.4\n",
      "Static Coloring uses 25 colors\n"
     ]
    },
    {
     "data": {
      "text/plain": [
       "4.087999999999998"
      ]
     },
     "execution_count": 2,
     "metadata": {},
     "output_type": "execute_result"
    }
   ],
   "source": [
    "G = misc.createRandomGraph(size=100, variation=0, density=0.6)\n",
    "misc.graphInfo(G)\n",
    "\n",
    "avg = misc.getAverageDegree(G)\n",
    "variance = 0\n",
    "degreeTuples = list(G.degree(list(G.nodes())))\n",
    "\n",
    "for tuple in degreeTuples:\n",
    "    variance += abs(avg - tuple[1])\n",
    "\n",
    "variance = float(variance) / G.number_of_nodes()\n",
    "\n",
    "variance"
   ]
  },
  {
   "cell_type": "code",
   "execution_count": 3,
   "id": "f4d04804",
   "metadata": {},
   "outputs": [],
   "source": [
    "# EITHER\n",
    "updates = misc.extractUpdates(G, 'random')"
   ]
  },
  {
   "cell_type": "code",
   "execution_count": 3,
   "id": "7ad00577",
   "metadata": {},
   "outputs": [],
   "source": [
    "# OR\n",
    "updates = misc.extractStream(G, 10000, addProb=0.5, ordering='timeout')"
   ]
  },
  {
   "cell_type": "code",
   "execution_count": null,
   "id": "c2e6e3dd",
   "metadata": {},
   "outputs": [],
   "source": [
    "Ge = nx.Graph()\n",
    "Ge.add_nodes_from(list(G.nodes()))"
   ]
  },
  {
   "cell_type": "markdown",
   "id": "15b4b36d",
   "metadata": {},
   "source": [
    "# Algorithm Preparation"
   ]
  },
  {
   "cell_type": "code",
   "execution_count": 17,
   "id": "ee58b20b",
   "metadata": {},
   "outputs": [],
   "source": [
    "experimentList = []\n",
    "\n",
    "#experimentList.append([RandomWarmUp1.WarmUp1Algo(Ge, maxDegreeBound=None), 'Random Warm-Up 1'])\n",
    "# experimentList.append([RandomWarmUp2.WarmUp2Algo(Ge, maxDegreeBound=None), 'Random Warm-Up 2'])\n",
    "\n",
    "# d = 10\n",
    "# experimentList.append([SmallBucket.SmallBucketAlgo(d, Ge), 'Small-Bucket algorithm (d = '+str(d)+')', 10])\n",
    "\n",
    "# d = 10\n",
    "# experimentList.append([BigBucket.BigBucketAlgo(d, Ge), 'Big-Bucket algorithm (d = '+str(d)+')', 10])\n",
    "\n",
    "# l = 10\n",
    "# experimentList.append([StaticDynamic.StaticDynamicAlgo(Ge, l, dynamicReset=False), 'Static-Dynamic algorithm (l = '+str(l)+')'])\n",
    "\n",
    "l = 50\n",
    "experimentList.append([StaticDynamic.StaticDynamicAlgo(G, l, dynamicReset=False), 'Static-Dynamic algorithm (l = '+str(l)+')'])\n",
    "\n",
    "l = 50\n",
    "experimentList.append([StaticSimple.StaticSimpleAlgo(G, l=l), 'Static-Simple (l = '+str(l)+')'])\n",
    "\n",
    "experimentList.append([DcOrient.DcOrientAlgo(G), 'DC-Orient'])\n",
    "\n",
    "p=0.998\n",
    "experimentList.append([DcSimple.DcSimpleAlgo(G, p=p), 'DC-Simple (p = '+str(p)+')'])\n",
    "\n",
    "p=0.998\n",
    "experimentList.append([DcOrientRandomSimple.DcOrientRandomSimpleAlgo(G, p=p), 'DC-Orient Random Simple (p = '+str(p)+')'])\n",
    "\n"
   ]
  },
  {
   "cell_type": "markdown",
   "id": "43993e83",
   "metadata": {},
   "source": [
    "# Experimenting"
   ]
  },
  {
   "cell_type": "code",
   "execution_count": 18,
   "id": "520eff6d",
   "metadata": {},
   "outputs": [
    {
     "name": "stdout",
     "output_type": "stream",
     "text": [
      "Graph used in the experiment:\n",
      "Nodes: 100\n",
      "Edges: 2970\n",
      "Density: 0.6\n",
      "Max Degree: 70\n",
      "Average Degree: 59.4\n",
      "Static Coloring uses 25 colors\n",
      "\n",
      "------------------------------------------------------------------\n",
      "Static-Dynamic algorithm (l = 50):\n",
      "\n",
      "Average number of recolors per update: 0.1585                     \n",
      "Total number of colors used at the end: 85\n",
      "Time taken : 20.879311200000302 seconds\n",
      "------------------------------------------------------------------\n",
      "\n",
      "------------------------------------------------------------------\n",
      "Static-Simple (l = 50):\n",
      "\n",
      "Average number of recolors per update: 0.1164                     \n",
      "Total number of colors used at the end: 34\n",
      "Time taken : 23.01676240000006 seconds\n",
      "------------------------------------------------------------------\n",
      "\n",
      "------------------------------------------------------------------\n",
      "DC-Orient:\n",
      "\n",
      "Average number of recolors per update: 16.2455                    \n",
      "Total number of colors used at the end: 22\n",
      "Time taken : 57.52360230000022 seconds\n",
      "------------------------------------------------------------------\n",
      "\n",
      "------------------------------------------------------------------\n",
      "DC-Simple (p = 0.999):\n",
      "\n",
      "Average number of recolors per update: 0.0494                     \n",
      "Total number of colors used at the end: 43\n",
      "Time taken : 23.71040189999985 seconds\n",
      "------------------------------------------------------------------\n",
      "\n",
      "------------------------------------------------------------------\n",
      "DC-Orient Random Simple (p = 0.999):\n",
      "\n",
      "Average number of recolors per update: 0.0658                     \n",
      "Total number of colors used at the end: 57\n",
      "Time taken : 23.896858099999918 seconds\n",
      "------------------------------------------------------------------\n",
      "End of experiment list reached\n"
     ]
    }
   ],
   "source": [
    "# CSV Writer\n",
    "loadingBar = True\n",
    "f = open('experiment_output.csv', 'w', newline='')\n",
    "writer = csv.writer(f)\n",
    "\n",
    "print('Graph used in the experiment:')\n",
    "misc.graphInfo(G)\n",
    "\n",
    "row = [str(G.number_of_nodes()) + ' Nodes; ' + str(G.number_of_edges()) + ' Edges; C = ' + str(misc.numberOfColors(nx.coloring.greedy_color(G))),'Average nr. of Recolors', 'Total nr. of Colors', 'Time Taken (s)']\n",
    "writer.writerow(row)\n",
    "\n",
    "for experiment in experimentList:\n",
    "\n",
    "    row = [str(experiment[1])]\n",
    "\n",
    "    if len(experiment) == 3:\n",
    "        random.seed(experiment[2])\n",
    "    else:\n",
    "        random.seed()\n",
    "\n",
    "    print(\"\")\n",
    "    print(\"------------------------------------------------------------------\")\n",
    "    print(str(experiment[1]) + \":\")\n",
    "    iterator = misc.UpdateIterator(experiment[0], updates)\n",
    "\n",
    "    recolors = 0\n",
    "    timer = time.perf_counter()\n",
    "\n",
    "    totalUpdates = len(updates)\n",
    "    done = 0\n",
    "    barLength = 64\n",
    "\n",
    "    if loadingBar:\n",
    "        #line to be overwritten\n",
    "        print(\"\")\n",
    "\n",
    "    while True:\n",
    "        \n",
    "        if loadingBar:\n",
    "            #overwrite previously printed line\n",
    "            percentageDone = int(done/totalUpdates*barLength)\n",
    "            b = (\"[\" + percentageDone * \"+\" + (barLength - percentageDone) * \"-\" + \"]\")\n",
    "            sys.stdout.write('\\r'+b)\n",
    "            sys.stdout.flush()\n",
    "\n",
    "        if not misc.verifyColoring(iterator.algo.G, iterator.algo.getColoring()):\n",
    "            raise ValueError('The coloring produced is incorrect')\n",
    "        c1 = iterator.algo.getColoring()\n",
    "        if iterator.runUpdate(1):\n",
    "            c2 = iterator.algo.getColoring()\n",
    "            recolors += misc.numberOfRecolors(c1, c2)\n",
    "            done += 1\n",
    "        else:\n",
    "            #print(\"all updates finished\")\n",
    "            break\n",
    "\n",
    "    timer = time.perf_counter() - timer\n",
    "\n",
    "    if loadingBar:\n",
    "        #overwrite previously printed line\n",
    "        b = (\"\")\n",
    "        sys.stdout.write('\\r'+b)\n",
    "        sys.stdout.flush()\n",
    "\n",
    "    avgColors = float(recolors)/len(updates)\n",
    "    b = \"Average number of recolors per update: \" + str(avgColors)\n",
    "    b = b + (barLength + 2 - len(b)) * \" \"\n",
    "    print(b)\n",
    "    row.append(str(round(avgColors, 2)))\n",
    "    totColors = misc.numberOfColors(iterator.algo.getColoring())\n",
    "    print(\"Total number of colors used at the end: \" + str(totColors))\n",
    "    row.append(str(totColors))\n",
    "    print(\"Time taken : \" + str(timer) + \" seconds\")\n",
    "    row.append(str(round(timer, 3)))\n",
    "    #print(\"Average elementary operations : \" + str(iterator.avgElemCounter))\n",
    "    print(\"------------------------------------------------------------------\")\n",
    "    writer.writerow(row)\n",
    "\n",
    "print(\"End of experiment list reached\")\n",
    "f.close()\n"
   ]
  },
  {
   "cell_type": "markdown",
   "id": "7c23823e",
   "metadata": {},
   "source": [
    "# Results"
   ]
  },
  {
   "cell_type": "code",
   "execution_count": null,
   "id": "e65bc2c3",
   "metadata": {},
   "outputs": [],
   "source": []
  },
  {
   "cell_type": "code",
   "execution_count": null,
   "id": "521a295b",
   "metadata": {},
   "outputs": [],
   "source": []
  },
  {
   "cell_type": "code",
   "execution_count": null,
   "id": "0872a6f3",
   "metadata": {},
   "outputs": [],
   "source": []
  }
 ],
 "metadata": {
  "kernelspec": {
   "display_name": "Python 3 (ipykernel)",
   "language": "python",
   "name": "python3"
  },
  "language_info": {
   "codemirror_mode": {
    "name": "ipython",
    "version": 3
   },
   "file_extension": ".py",
   "mimetype": "text/x-python",
   "name": "python",
   "nbconvert_exporter": "python",
   "pygments_lexer": "ipython3",
   "version": "3.9.5"
  }
 },
 "nbformat": 4,
 "nbformat_minor": 5
}
