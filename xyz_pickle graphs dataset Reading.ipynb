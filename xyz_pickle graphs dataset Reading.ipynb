{
 "cells": [
  {
   "cell_type": "code",
   "execution_count": 1,
   "metadata": {
    "colab": {
     "base_uri": "https://localhost:8080/"
    },
    "executionInfo": {
     "elapsed": 1535,
     "status": "ok",
     "timestamp": 1645533292385,
     "user": {
      "displayName": "Menno T",
      "photoUrl": "https://lh3.googleusercontent.com/a/default-user=s64",
      "userId": "16243563737177359804"
     },
     "user_tz": -60
    },
    "id": "gzM_bv5DWn2k",
    "outputId": "3cc6ebc2-06a9-4f1f-cb1b-5588b10d8e44"
   },
   "outputs": [],
   "source": [
    "import pandas as pd\n",
    "import numpy as np\n",
    "\n",
    "import pickle\n",
    "import networkx as nx\n",
    "import matplotlib\n",
    "import scipy\n",
    "import datetime"
   ]
  },
  {
   "cell_type": "code",
   "execution_count": 2,
   "metadata": {
    "id": "fB06Ev8uWp-b"
   },
   "outputs": [],
   "source": [
    "# Read the file from drive\n",
    "# File can be downloaded here: https://github.com/moranbel/tdGraphEmbed\n",
    "\n",
    "import pickle\n",
    "\n",
    "with open('bigdata/facebook_graph_dynamic.pkl', 'rb') as f:\n",
    "  data = pickle.load(f)\n",
    "\n"
   ]
  },
  {
   "cell_type": "code",
   "execution_count": 3,
   "metadata": {
    "colab": {
     "base_uri": "https://localhost:8080/"
    },
    "executionInfo": {
     "elapsed": 2,
     "status": "ok",
     "timestamp": 1645534275917,
     "user": {
      "displayName": "Menno T",
      "photoUrl": "https://lh3.googleusercontent.com/a/default-user=s64",
      "userId": "16243563737177359804"
     },
     "user_tz": -60
    },
    "id": "1Bj7nytpa9mG",
    "outputId": "39c22ba5-ab06-4fa1-c6f2-a2e275ff202a"
   },
   "outputs": [
    {
     "data": {
      "text/plain": [
       "{datetime.datetime(2006, 8, 1, 0, 0): <networkx.classes.digraph.DiGraph at 0x1e67eafaca0>,\n",
       " datetime.datetime(2006, 9, 1, 0, 0): <networkx.classes.digraph.DiGraph at 0x1e60f8ac610>,\n",
       " datetime.datetime(2006, 10, 1, 0, 0): <networkx.classes.digraph.DiGraph at 0x1e60f8ac730>,\n",
       " datetime.datetime(2006, 11, 1, 0, 0): <networkx.classes.digraph.DiGraph at 0x1e60ec7c4c0>,\n",
       " datetime.datetime(2006, 12, 1, 0, 0): <networkx.classes.digraph.DiGraph at 0x1e67ebb4f40>,\n",
       " datetime.datetime(2007, 1, 1, 0, 0): <networkx.classes.digraph.DiGraph at 0x1e60f8c6a00>,\n",
       " datetime.datetime(2007, 2, 1, 0, 0): <networkx.classes.digraph.DiGraph at 0x1e60f8c6460>,\n",
       " datetime.datetime(2007, 3, 1, 0, 0): <networkx.classes.digraph.DiGraph at 0x1e60f8c6130>,\n",
       " datetime.datetime(2007, 4, 1, 0, 0): <networkx.classes.digraph.DiGraph at 0x1e60f8c6f10>,\n",
       " datetime.datetime(2007, 5, 1, 0, 0): <networkx.classes.digraph.DiGraph at 0x1e62038d0d0>,\n",
       " datetime.datetime(2007, 6, 1, 0, 0): <networkx.classes.digraph.DiGraph at 0x1e62038d2e0>,\n",
       " datetime.datetime(2007, 7, 1, 0, 0): <networkx.classes.digraph.DiGraph at 0x1e62038d580>,\n",
       " datetime.datetime(2007, 8, 1, 0, 0): <networkx.classes.digraph.DiGraph at 0x1e62038d820>,\n",
       " datetime.datetime(2007, 9, 1, 0, 0): <networkx.classes.digraph.DiGraph at 0x1e62038d9d0>,\n",
       " datetime.datetime(2007, 10, 1, 0, 0): <networkx.classes.digraph.DiGraph at 0x1e62038dbb0>,\n",
       " datetime.datetime(2007, 11, 1, 0, 0): <networkx.classes.digraph.DiGraph at 0x1e62038dd60>,\n",
       " datetime.datetime(2007, 12, 1, 0, 0): <networkx.classes.digraph.DiGraph at 0x1e62038df10>,\n",
       " datetime.datetime(2008, 1, 1, 0, 0): <networkx.classes.digraph.DiGraph at 0x1e6251080a0>,\n",
       " datetime.datetime(2008, 2, 1, 0, 0): <networkx.classes.digraph.DiGraph at 0x1e625108280>,\n",
       " datetime.datetime(2008, 3, 1, 0, 0): <networkx.classes.digraph.DiGraph at 0x1e6251083d0>,\n",
       " datetime.datetime(2008, 4, 1, 0, 0): <networkx.classes.digraph.DiGraph at 0x1e6251085e0>,\n",
       " datetime.datetime(2008, 5, 1, 0, 0): <networkx.classes.digraph.DiGraph at 0x1e625108790>,\n",
       " datetime.datetime(2008, 6, 1, 0, 0): <networkx.classes.digraph.DiGraph at 0x1e625108940>,\n",
       " datetime.datetime(2008, 7, 1, 0, 0): <networkx.classes.digraph.DiGraph at 0x1e625108b20>,\n",
       " datetime.datetime(2008, 8, 1, 0, 0): <networkx.classes.digraph.DiGraph at 0x1e625108c10>,\n",
       " datetime.datetime(2008, 9, 1, 0, 0): <networkx.classes.digraph.DiGraph at 0x1e625108d30>,\n",
       " datetime.datetime(2008, 10, 1, 0, 0): <networkx.classes.digraph.DiGraph at 0x1e625108eb0>,\n",
       " datetime.datetime(2008, 11, 1, 0, 0): <networkx.classes.digraph.DiGraph at 0x1e62bc1a100>,\n",
       " datetime.datetime(2008, 12, 1, 0, 0): <networkx.classes.digraph.DiGraph at 0x1e62bc1a250>,\n",
       " datetime.datetime(2009, 1, 1, 0, 0): <networkx.classes.digraph.DiGraph at 0x1e62bc1a460>}"
      ]
     },
     "execution_count": 3,
     "metadata": {},
     "output_type": "execute_result"
    }
   ],
   "source": [
    "data"
   ]
  },
  {
   "cell_type": "code",
   "execution_count": 4,
   "metadata": {
    "id": "9Bn_faLHbIS1"
   },
   "outputs": [],
   "source": [
    "graphs = []\n",
    "for key in data.keys():\n",
    "  graphs.append(data[key])"
   ]
  },
  {
   "cell_type": "code",
   "execution_count": null,
   "metadata": {
    "colab": {
     "base_uri": "https://localhost:8080/",
     "height": 319
    },
    "executionInfo": {
     "elapsed": 55715,
     "status": "ok",
     "timestamp": 1645534338710,
     "user": {
      "displayName": "Menno T",
      "photoUrl": "https://lh3.googleusercontent.com/a/default-user=s64",
      "userId": "16243563737177359804"
     },
     "user_tz": -60
    },
    "id": "Ftup9o8NbYo-",
    "outputId": "f47592bc-03cc-4918-def0-34cc65cd158d"
   },
   "outputs": [],
   "source": [
    "nx.draw(graphs[1])"
   ]
  },
  {
   "cell_type": "code",
   "execution_count": null,
   "metadata": {
    "id": "5joG7KjUaKK2"
   },
   "outputs": [],
   "source": []
  },
  {
   "cell_type": "code",
   "execution_count": null,
   "metadata": {
    "id": "KN1DVfwPV2Tg"
   },
   "outputs": [],
   "source": []
  }
 ],
 "metadata": {
  "colab": {
   "authorship_tag": "ABX9TyOdd79gAymNr/jYkEYLmCbx",
   "collapsed_sections": [],
   "name": "pickle graphs dataset Reading.ipynb",
   "provenance": []
  },
  "kernelspec": {
   "display_name": "Python 3 (ipykernel)",
   "language": "python",
   "name": "python3"
  },
  "language_info": {
   "codemirror_mode": {
    "name": "ipython",
    "version": 3
   },
   "file_extension": ".py",
   "mimetype": "text/x-python",
   "name": "python",
   "nbconvert_exporter": "python",
   "pygments_lexer": "ipython3",
   "version": "3.9.5"
  }
 },
 "nbformat": 4,
 "nbformat_minor": 4
}
