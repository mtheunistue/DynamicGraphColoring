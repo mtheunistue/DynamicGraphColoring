{
 "cells": [
  {
   "cell_type": "code",
   "execution_count": 1,
   "metadata": {
    "colab": {
     "base_uri": "https://localhost:8080/"
    },
    "executionInfo": {
     "elapsed": 1535,
     "status": "ok",
     "timestamp": 1645533292385,
     "user": {
      "displayName": "Menno T",
      "photoUrl": "https://lh3.googleusercontent.com/a/default-user=s64",
      "userId": "16243563737177359804"
     },
     "user_tz": -60
    },
    "id": "gzM_bv5DWn2k",
    "outputId": "3cc6ebc2-06a9-4f1f-cb1b-5588b10d8e44"
   },
   "outputs": [],
   "source": [
    "import pandas as pd\n",
    "import numpy as np\n",
    "\n",
    "import pickle\n",
    "import networkx as nx\n",
    "import matplotlib\n",
    "import scipy\n",
    "import datetime"
   ]
  },
  {
   "cell_type": "code",
   "execution_count": 2,
   "metadata": {
    "id": "fB06Ev8uWp-b"
   },
   "outputs": [],
   "source": [
    "# Read the file from drive\n",
    "# File can be downloaded here: https://github.com/moranbel/tdGraphEmbed\n",
    "\n",
    "import pickle\n",
    "\n",
    "with open('bigdata/facebook_graph_dynamic.pkl', 'rb') as f:\n",
    "  data = pickle.load(f)\n",
    "\n"
   ]
  },
  {
   "cell_type": "code",
   "execution_count": 3,
   "metadata": {
    "colab": {
     "base_uri": "https://localhost:8080/"
    },
    "executionInfo": {
     "elapsed": 2,
     "status": "ok",
     "timestamp": 1645534275917,
     "user": {
      "displayName": "Menno T",
      "photoUrl": "https://lh3.googleusercontent.com/a/default-user=s64",
      "userId": "16243563737177359804"
     },
     "user_tz": -60
    },
    "id": "1Bj7nytpa9mG",
    "outputId": "39c22ba5-ab06-4fa1-c6f2-a2e275ff202a"
   },
   "outputs": [
    {
     "data": {
      "text/plain": [
       "{datetime.datetime(2006, 8, 1, 0, 0): <networkx.classes.digraph.DiGraph at 0x1e67eafaca0>,\n",
       " datetime.datetime(2006, 9, 1, 0, 0): <networkx.classes.digraph.DiGraph at 0x1e60f8ac610>,\n",
       " datetime.datetime(2006, 10, 1, 0, 0): <networkx.classes.digraph.DiGraph at 0x1e60f8ac730>,\n",
       " datetime.datetime(2006, 11, 1, 0, 0): <networkx.classes.digraph.DiGraph at 0x1e60ec7c4c0>,\n",
       " datetime.datetime(2006, 12, 1, 0, 0): <networkx.classes.digraph.DiGraph at 0x1e67ebb4f40>,\n",
       " datetime.datetime(2007, 1, 1, 0, 0): <networkx.classes.digraph.DiGraph at 0x1e60f8c6a00>,\n",
       " datetime.datetime(2007, 2, 1, 0, 0): <networkx.classes.digraph.DiGraph at 0x1e60f8c6460>,\n",
       " datetime.datetime(2007, 3, 1, 0, 0): <networkx.classes.digraph.DiGraph at 0x1e60f8c6130>,\n",
       " datetime.datetime(2007, 4, 1, 0, 0): <networkx.classes.digraph.DiGraph at 0x1e60f8c6f10>,\n",
       " datetime.datetime(2007, 5, 1, 0, 0): <networkx.classes.digraph.DiGraph at 0x1e62038d0d0>,\n",
       " datetime.datetime(2007, 6, 1, 0, 0): <networkx.classes.digraph.DiGraph at 0x1e62038d2e0>,\n",
       " datetime.datetime(2007, 7, 1, 0, 0): <networkx.classes.digraph.DiGraph at 0x1e62038d580>,\n",
       " datetime.datetime(2007, 8, 1, 0, 0): <networkx.classes.digraph.DiGraph at 0x1e62038d820>,\n",
       " datetime.datetime(2007, 9, 1, 0, 0): <networkx.classes.digraph.DiGraph at 0x1e62038d9d0>,\n",
       " datetime.datetime(2007, 10, 1, 0, 0): <networkx.classes.digraph.DiGraph at 0x1e62038dbb0>,\n",
       " datetime.datetime(2007, 11, 1, 0, 0): <networkx.classes.digraph.DiGraph at 0x1e62038dd60>,\n",
       " datetime.datetime(2007, 12, 1, 0, 0): <networkx.classes.digraph.DiGraph at 0x1e62038df10>,\n",
       " datetime.datetime(2008, 1, 1, 0, 0): <networkx.classes.digraph.DiGraph at 0x1e6251080a0>,\n",
       " datetime.datetime(2008, 2, 1, 0, 0): <networkx.classes.digraph.DiGraph at 0x1e625108280>,\n",
       " datetime.datetime(2008, 3, 1, 0, 0): <networkx.classes.digraph.DiGraph at 0x1e6251083d0>,\n",
       " datetime.datetime(2008, 4, 1, 0, 0): <networkx.classes.digraph.DiGraph at 0x1e6251085e0>,\n",
       " datetime.datetime(2008, 5, 1, 0, 0): <networkx.classes.digraph.DiGraph at 0x1e625108790>,\n",
       " datetime.datetime(2008, 6, 1, 0, 0): <networkx.classes.digraph.DiGraph at 0x1e625108940>,\n",
       " datetime.datetime(2008, 7, 1, 0, 0): <networkx.classes.digraph.DiGraph at 0x1e625108b20>,\n",
       " datetime.datetime(2008, 8, 1, 0, 0): <networkx.classes.digraph.DiGraph at 0x1e625108c10>,\n",
       " datetime.datetime(2008, 9, 1, 0, 0): <networkx.classes.digraph.DiGraph at 0x1e625108d30>,\n",
       " datetime.datetime(2008, 10, 1, 0, 0): <networkx.classes.digraph.DiGraph at 0x1e625108eb0>,\n",
       " datetime.datetime(2008, 11, 1, 0, 0): <networkx.classes.digraph.DiGraph at 0x1e62bc1a100>,\n",
       " datetime.datetime(2008, 12, 1, 0, 0): <networkx.classes.digraph.DiGraph at 0x1e62bc1a250>,\n",
       " datetime.datetime(2009, 1, 1, 0, 0): <networkx.classes.digraph.DiGraph at 0x1e62bc1a460>}"
      ]
     },
     "execution_count": 3,
     "metadata": {},
     "output_type": "execute_result"
    }
   ],
   "source": [
    "data"
   ]
  },
  {
   "cell_type": "code",
   "execution_count": 4,
   "metadata": {
    "id": "9Bn_faLHbIS1"
   },
   "outputs": [],
   "source": [
    "graphs = []\n",
    "for key in data.keys():\n",
    "  graphs.append(data[key])"
   ]
  },
  {
   "cell_type": "code",
   "execution_count": 5,
   "metadata": {
    "colab": {
     "base_uri": "https://localhost:8080/",
     "height": 319
    },
    "executionInfo": {
     "elapsed": 55715,
     "status": "ok",
     "timestamp": 1645534338710,
     "user": {
      "displayName": "Menno T",
      "photoUrl": "https://lh3.googleusercontent.com/a/default-user=s64",
      "userId": "16243563737177359804"
     },
     "user_tz": -60
    },
    "id": "Ftup9o8NbYo-",
    "outputId": "f47592bc-03cc-4918-def0-34cc65cd158d"
   },
   "outputs": [
    {
     "ename": "KeyboardInterrupt",
     "evalue": "",
     "output_type": "error",
     "traceback": [
      "\u001b[1;31m---------------------------------------------------------------------------\u001b[0m",
      "\u001b[1;31mKeyboardInterrupt\u001b[0m                         Traceback (most recent call last)",
      "Input \u001b[1;32mIn [5]\u001b[0m, in \u001b[0;36m<module>\u001b[1;34m\u001b[0m\n\u001b[1;32m----> 1\u001b[0m \u001b[43mnx\u001b[49m\u001b[38;5;241;43m.\u001b[39;49m\u001b[43mdraw\u001b[49m\u001b[43m(\u001b[49m\u001b[43mgraphs\u001b[49m\u001b[43m[\u001b[49m\u001b[38;5;241;43m1\u001b[39;49m\u001b[43m]\u001b[49m\u001b[43m)\u001b[49m\n",
      "File \u001b[1;32mc:\\users\\gebruiker\\appdata\\local\\programs\\python\\python39\\lib\\site-packages\\networkx\\drawing\\nx_pylab.py:121\u001b[0m, in \u001b[0;36mdraw\u001b[1;34m(G, pos, ax, **kwds)\u001b[0m\n\u001b[0;32m    118\u001b[0m \u001b[38;5;28;01mif\u001b[39;00m \u001b[38;5;124m\"\u001b[39m\u001b[38;5;124mwith_labels\u001b[39m\u001b[38;5;124m\"\u001b[39m \u001b[38;5;129;01mnot\u001b[39;00m \u001b[38;5;129;01min\u001b[39;00m kwds:\n\u001b[0;32m    119\u001b[0m     kwds[\u001b[38;5;124m\"\u001b[39m\u001b[38;5;124mwith_labels\u001b[39m\u001b[38;5;124m\"\u001b[39m] \u001b[38;5;241m=\u001b[39m \u001b[38;5;124m\"\u001b[39m\u001b[38;5;124mlabels\u001b[39m\u001b[38;5;124m\"\u001b[39m \u001b[38;5;129;01min\u001b[39;00m kwds\n\u001b[1;32m--> 121\u001b[0m draw_networkx(G, pos\u001b[38;5;241m=\u001b[39mpos, ax\u001b[38;5;241m=\u001b[39max, \u001b[38;5;241m*\u001b[39m\u001b[38;5;241m*\u001b[39mkwds)\n\u001b[0;32m    122\u001b[0m ax\u001b[38;5;241m.\u001b[39mset_axis_off()\n\u001b[0;32m    123\u001b[0m plt\u001b[38;5;241m.\u001b[39mdraw_if_interactive()\n",
      "File \u001b[1;32mc:\\users\\gebruiker\\appdata\\local\\programs\\python\\python39\\lib\\site-packages\\networkx\\drawing\\nx_pylab.py:331\u001b[0m, in \u001b[0;36mdraw_networkx\u001b[1;34m(G, pos, arrows, with_labels, **kwds)\u001b[0m\n\u001b[0;32m    328\u001b[0m label_kwds \u001b[38;5;241m=\u001b[39m {k: v \u001b[38;5;28;01mfor\u001b[39;00m k, v \u001b[38;5;129;01min\u001b[39;00m kwds\u001b[38;5;241m.\u001b[39mitems() \u001b[38;5;28;01mif\u001b[39;00m k \u001b[38;5;129;01min\u001b[39;00m valid_label_kwds}\n\u001b[0;32m    330\u001b[0m \u001b[38;5;28;01mif\u001b[39;00m pos \u001b[38;5;129;01mis\u001b[39;00m \u001b[38;5;28;01mNone\u001b[39;00m:\n\u001b[1;32m--> 331\u001b[0m     pos \u001b[38;5;241m=\u001b[39m \u001b[43mnx\u001b[49m\u001b[38;5;241;43m.\u001b[39;49m\u001b[43mdrawing\u001b[49m\u001b[38;5;241;43m.\u001b[39;49m\u001b[43mspring_layout\u001b[49m\u001b[43m(\u001b[49m\u001b[43mG\u001b[49m\u001b[43m)\u001b[49m  \u001b[38;5;66;03m# default to spring layout\u001b[39;00m\n\u001b[0;32m    333\u001b[0m draw_networkx_nodes(G, pos, \u001b[38;5;241m*\u001b[39m\u001b[38;5;241m*\u001b[39mnode_kwds)\n\u001b[0;32m    334\u001b[0m draw_networkx_edges(G, pos, arrows\u001b[38;5;241m=\u001b[39marrows, \u001b[38;5;241m*\u001b[39m\u001b[38;5;241m*\u001b[39medge_kwds)\n",
      "File \u001b[1;32mc:\\users\\gebruiker\\appdata\\local\\programs\\python\\python39\\lib\\site-packages\\networkx\\utils\\decorators.py:795\u001b[0m, in \u001b[0;36margmap.__call__.<locals>.func\u001b[1;34m(_argmap__wrapper, *args, **kwargs)\u001b[0m\n\u001b[0;32m    794\u001b[0m \u001b[38;5;28;01mdef\u001b[39;00m \u001b[38;5;21mfunc\u001b[39m(\u001b[38;5;241m*\u001b[39margs, __wrapper\u001b[38;5;241m=\u001b[39m\u001b[38;5;28;01mNone\u001b[39;00m, \u001b[38;5;241m*\u001b[39m\u001b[38;5;241m*\u001b[39mkwargs):\n\u001b[1;32m--> 795\u001b[0m     \u001b[38;5;28;01mreturn\u001b[39;00m argmap\u001b[38;5;241m.\u001b[39m_lazy_compile(__wrapper)(\u001b[38;5;241m*\u001b[39margs, \u001b[38;5;241m*\u001b[39m\u001b[38;5;241m*\u001b[39mkwargs)\n",
      "File \u001b[1;32m<class 'networkx.utils.decorators.argmap'> compilation 4:4\u001b[0m, in \u001b[0;36margmap_spring_layout_1\u001b[1;34m(G, k, pos, fixed, iterations, threshold, weight, scale, center, dim, seed)\u001b[0m\n\u001b[0;32m      2\u001b[0m \u001b[38;5;28;01mfrom\u001b[39;00m \u001b[38;5;21;01mos\u001b[39;00m\u001b[38;5;21;01m.\u001b[39;00m\u001b[38;5;21;01mpath\u001b[39;00m \u001b[38;5;28;01mimport\u001b[39;00m splitext\n\u001b[0;32m      3\u001b[0m \u001b[38;5;28;01mfrom\u001b[39;00m \u001b[38;5;21;01mcontextlib\u001b[39;00m \u001b[38;5;28;01mimport\u001b[39;00m contextmanager\n\u001b[1;32m----> 4\u001b[0m \u001b[38;5;28;01mfrom\u001b[39;00m \u001b[38;5;21;01mpathlib\u001b[39;00m \u001b[38;5;28;01mimport\u001b[39;00m Path\n\u001b[0;32m      5\u001b[0m \u001b[38;5;28;01mimport\u001b[39;00m \u001b[38;5;21;01mwarnings\u001b[39;00m\n\u001b[0;32m      7\u001b[0m \u001b[38;5;28;01mimport\u001b[39;00m \u001b[38;5;21;01mnetworkx\u001b[39;00m \u001b[38;5;28;01mas\u001b[39;00m \u001b[38;5;21;01mnx\u001b[39;00m\n",
      "File \u001b[1;32mc:\\users\\gebruiker\\appdata\\local\\programs\\python\\python39\\lib\\site-packages\\networkx\\drawing\\layout.py:481\u001b[0m, in \u001b[0;36mspring_layout\u001b[1;34m(G, k, pos, fixed, iterations, threshold, weight, scale, center, dim, seed)\u001b[0m\n\u001b[0;32m    479\u001b[0m         nnodes, _ \u001b[38;5;241m=\u001b[39m A\u001b[38;5;241m.\u001b[39mshape\n\u001b[0;32m    480\u001b[0m         k \u001b[38;5;241m=\u001b[39m dom_size \u001b[38;5;241m/\u001b[39m np\u001b[38;5;241m.\u001b[39msqrt(nnodes)\n\u001b[1;32m--> 481\u001b[0m     pos \u001b[38;5;241m=\u001b[39m \u001b[43m_sparse_fruchterman_reingold\u001b[49m\u001b[43m(\u001b[49m\n\u001b[0;32m    482\u001b[0m \u001b[43m        \u001b[49m\u001b[43mA\u001b[49m\u001b[43m,\u001b[49m\u001b[43m \u001b[49m\u001b[43mk\u001b[49m\u001b[43m,\u001b[49m\u001b[43m \u001b[49m\u001b[43mpos_arr\u001b[49m\u001b[43m,\u001b[49m\u001b[43m \u001b[49m\u001b[43mfixed\u001b[49m\u001b[43m,\u001b[49m\u001b[43m \u001b[49m\u001b[43miterations\u001b[49m\u001b[43m,\u001b[49m\u001b[43m \u001b[49m\u001b[43mthreshold\u001b[49m\u001b[43m,\u001b[49m\u001b[43m \u001b[49m\u001b[43mdim\u001b[49m\u001b[43m,\u001b[49m\u001b[43m \u001b[49m\u001b[43mseed\u001b[49m\n\u001b[0;32m    483\u001b[0m \u001b[43m    \u001b[49m\u001b[43m)\u001b[49m\n\u001b[0;32m    484\u001b[0m \u001b[38;5;28;01mexcept\u001b[39;00m \u001b[38;5;167;01mValueError\u001b[39;00m:\n\u001b[0;32m    485\u001b[0m     A \u001b[38;5;241m=\u001b[39m nx\u001b[38;5;241m.\u001b[39mto_numpy_array(G, weight\u001b[38;5;241m=\u001b[39mweight)\n",
      "File \u001b[1;32mc:\\users\\gebruiker\\appdata\\local\\programs\\python\\python39\\lib\\site-packages\\networkx\\utils\\decorators.py:795\u001b[0m, in \u001b[0;36margmap.__call__.<locals>.func\u001b[1;34m(_argmap__wrapper, *args, **kwargs)\u001b[0m\n\u001b[0;32m    794\u001b[0m \u001b[38;5;28;01mdef\u001b[39;00m \u001b[38;5;21mfunc\u001b[39m(\u001b[38;5;241m*\u001b[39margs, __wrapper\u001b[38;5;241m=\u001b[39m\u001b[38;5;28;01mNone\u001b[39;00m, \u001b[38;5;241m*\u001b[39m\u001b[38;5;241m*\u001b[39mkwargs):\n\u001b[1;32m--> 795\u001b[0m     \u001b[38;5;28;01mreturn\u001b[39;00m argmap\u001b[38;5;241m.\u001b[39m_lazy_compile(__wrapper)(\u001b[38;5;241m*\u001b[39margs, \u001b[38;5;241m*\u001b[39m\u001b[38;5;241m*\u001b[39mkwargs)\n",
      "File \u001b[1;32m<class 'networkx.utils.decorators.argmap'> compilation 8:4\u001b[0m, in \u001b[0;36margmap__sparse_fruchterman_reingold_5\u001b[1;34m(A, k, pos, fixed, iterations, threshold, dim, seed)\u001b[0m\n\u001b[0;32m      2\u001b[0m \u001b[38;5;28;01mfrom\u001b[39;00m \u001b[38;5;21;01mos\u001b[39;00m\u001b[38;5;21;01m.\u001b[39;00m\u001b[38;5;21;01mpath\u001b[39;00m \u001b[38;5;28;01mimport\u001b[39;00m splitext\n\u001b[0;32m      3\u001b[0m \u001b[38;5;28;01mfrom\u001b[39;00m \u001b[38;5;21;01mcontextlib\u001b[39;00m \u001b[38;5;28;01mimport\u001b[39;00m contextmanager\n\u001b[1;32m----> 4\u001b[0m \u001b[38;5;28;01mfrom\u001b[39;00m \u001b[38;5;21;01mpathlib\u001b[39;00m \u001b[38;5;28;01mimport\u001b[39;00m Path\n\u001b[0;32m      5\u001b[0m \u001b[38;5;28;01mimport\u001b[39;00m \u001b[38;5;21;01mwarnings\u001b[39;00m\n\u001b[0;32m      7\u001b[0m \u001b[38;5;28;01mimport\u001b[39;00m \u001b[38;5;21;01mnetworkx\u001b[39;00m \u001b[38;5;28;01mas\u001b[39;00m \u001b[38;5;21;01mnx\u001b[39;00m\n",
      "File \u001b[1;32mc:\\users\\gebruiker\\appdata\\local\\programs\\python\\python39\\lib\\site-packages\\networkx\\drawing\\layout.py:624\u001b[0m, in \u001b[0;36m_sparse_fruchterman_reingold\u001b[1;34m(A, k, pos, fixed, iterations, threshold, dim, seed)\u001b[0m\n\u001b[0;32m    622\u001b[0m     Ai \u001b[38;5;241m=\u001b[39m np\u001b[38;5;241m.\u001b[39masarray(A\u001b[38;5;241m.\u001b[39mgetrowview(i)\u001b[38;5;241m.\u001b[39mtoarray())\n\u001b[0;32m    623\u001b[0m     \u001b[38;5;66;03m# displacement \"force\"\u001b[39;00m\n\u001b[1;32m--> 624\u001b[0m     displacement[:, i] \u001b[38;5;241m+\u001b[39m\u001b[38;5;241m=\u001b[39m \u001b[43m(\u001b[49m\n\u001b[0;32m    625\u001b[0m \u001b[43m        \u001b[49m\u001b[43mdelta\u001b[49m\u001b[43m \u001b[49m\u001b[38;5;241;43m*\u001b[39;49m\u001b[43m \u001b[49m\u001b[43m(\u001b[49m\u001b[43mk\u001b[49m\u001b[43m \u001b[49m\u001b[38;5;241;43m*\u001b[39;49m\u001b[43m \u001b[49m\u001b[43mk\u001b[49m\u001b[43m \u001b[49m\u001b[38;5;241;43m/\u001b[39;49m\u001b[43m \u001b[49m\u001b[43mdistance\u001b[49m\u001b[43m \u001b[49m\u001b[38;5;241;43m*\u001b[39;49m\u001b[38;5;241;43m*\u001b[39;49m\u001b[43m \u001b[49m\u001b[38;5;241;43m2\u001b[39;49m\u001b[43m \u001b[49m\u001b[38;5;241;43m-\u001b[39;49m\u001b[43m \u001b[49m\u001b[43mAi\u001b[49m\u001b[43m \u001b[49m\u001b[38;5;241;43m*\u001b[39;49m\u001b[43m \u001b[49m\u001b[43mdistance\u001b[49m\u001b[43m \u001b[49m\u001b[38;5;241;43m/\u001b[39;49m\u001b[43m \u001b[49m\u001b[43mk\u001b[49m\u001b[43m)\u001b[49m\n\u001b[0;32m    626\u001b[0m \u001b[43m    \u001b[49m\u001b[43m)\u001b[49m\u001b[38;5;241;43m.\u001b[39;49m\u001b[43msum\u001b[49m\u001b[43m(\u001b[49m\u001b[43maxis\u001b[49m\u001b[38;5;241;43m=\u001b[39;49m\u001b[38;5;241;43m1\u001b[39;49m\u001b[43m)\u001b[49m\n\u001b[0;32m    627\u001b[0m \u001b[38;5;66;03m# update positions\u001b[39;00m\n\u001b[0;32m    628\u001b[0m length \u001b[38;5;241m=\u001b[39m np\u001b[38;5;241m.\u001b[39msqrt((displacement \u001b[38;5;241m*\u001b[39m\u001b[38;5;241m*\u001b[39m \u001b[38;5;241m2\u001b[39m)\u001b[38;5;241m.\u001b[39msum(axis\u001b[38;5;241m=\u001b[39m\u001b[38;5;241m0\u001b[39m))\n",
      "File \u001b[1;32mc:\\users\\gebruiker\\appdata\\local\\programs\\python\\python39\\lib\\site-packages\\numpy\\core\\_methods.py:48\u001b[0m, in \u001b[0;36m_sum\u001b[1;34m(a, axis, dtype, out, keepdims, initial, where)\u001b[0m\n\u001b[0;32m     46\u001b[0m \u001b[38;5;28;01mdef\u001b[39;00m \u001b[38;5;21m_sum\u001b[39m(a, axis\u001b[38;5;241m=\u001b[39m\u001b[38;5;28;01mNone\u001b[39;00m, dtype\u001b[38;5;241m=\u001b[39m\u001b[38;5;28;01mNone\u001b[39;00m, out\u001b[38;5;241m=\u001b[39m\u001b[38;5;28;01mNone\u001b[39;00m, keepdims\u001b[38;5;241m=\u001b[39m\u001b[38;5;28;01mFalse\u001b[39;00m,\n\u001b[0;32m     47\u001b[0m          initial\u001b[38;5;241m=\u001b[39m_NoValue, where\u001b[38;5;241m=\u001b[39m\u001b[38;5;28;01mTrue\u001b[39;00m):\n\u001b[1;32m---> 48\u001b[0m     \u001b[38;5;28;01mreturn\u001b[39;00m \u001b[43mumr_sum\u001b[49m\u001b[43m(\u001b[49m\u001b[43ma\u001b[49m\u001b[43m,\u001b[49m\u001b[43m \u001b[49m\u001b[43maxis\u001b[49m\u001b[43m,\u001b[49m\u001b[43m \u001b[49m\u001b[43mdtype\u001b[49m\u001b[43m,\u001b[49m\u001b[43m \u001b[49m\u001b[43mout\u001b[49m\u001b[43m,\u001b[49m\u001b[43m \u001b[49m\u001b[43mkeepdims\u001b[49m\u001b[43m,\u001b[49m\u001b[43m \u001b[49m\u001b[43minitial\u001b[49m\u001b[43m,\u001b[49m\u001b[43m \u001b[49m\u001b[43mwhere\u001b[49m\u001b[43m)\u001b[49m\n",
      "\u001b[1;31mKeyboardInterrupt\u001b[0m: "
     ]
    },
    {
     "data": {
      "image/png": "[encoded data removed]",
      "text/plain": [
       "<Figure size 432x288 with 1 Axes>"
      ]
     },
     "metadata": {},
     "output_type": "display_data"
    }
   ],
   "source": [
    "nx.draw(graphs[1])"
   ]
  },
  {
   "cell_type": "code",
   "execution_count": null,
   "metadata": {
    "id": "5joG7KjUaKK2"
   },
   "outputs": [],
   "source": []
  },
  {
   "cell_type": "code",
   "execution_count": null,
   "metadata": {
    "id": "KN1DVfwPV2Tg"
   },
   "outputs": [],
   "source": []
  }
 ],
 "metadata": {
  "colab": {
   "authorship_tag": "ABX9TyOdd79gAymNr/jYkEYLmCbx",
   "collapsed_sections": [],
   "name": "pickle graphs dataset Reading.ipynb",
   "provenance": []
  },
  "kernelspec": {
   "display_name": "Python 3 (ipykernel)",
   "language": "python",
   "name": "python3"
  },
  "language_info": {
   "codemirror_mode": {
    "name": "ipython",
    "version": 3
   },
   "file_extension": ".py",
   "mimetype": "text/x-python",
   "name": "python",
   "nbconvert_exporter": "python",
   "pygments_lexer": "ipython3",
   "version": "3.9.5"
  }
 },
 "nbformat": 4,
 "nbformat_minor": 4
}
