{
 "cells": [
  {
   "cell_type": "markdown",
   "id": "21b60a7a",
   "metadata": {},
   "source": [
    "# Imports"
   ]
  },
  {
   "cell_type": "code",
   "execution_count": 132,
   "id": "16646cac-517a-442e-b70e-353abe179b32",
   "metadata": {},
   "outputs": [],
   "source": [
    "#Imports\n",
    "%matplotlib widget\n",
    "import pandas as pd\n",
    "import numpy as np\n",
    "import csv\n",
    "import matplotlib\n",
    "import matplotlib.pyplot as plt\n",
    "import scipy\n",
    "import datetime\n",
    "import networkx as nx\n",
    "import misc\n",
    "import math\n",
    "import random"
   ]
  },
  {
   "cell_type": "markdown",
   "id": "1f5c8374",
   "metadata": {},
   "source": [
    "# Data Generation"
   ]
  },
  {
   "cell_type": "code",
   "execution_count": 2,
   "id": "5196740d-36d2-4960-9fde-222208141229",
   "metadata": {},
   "outputs": [],
   "source": [
    "#Create empty graph\n",
    "G = nx.Graph()"
   ]
  },
  {
   "cell_type": "code",
   "execution_count": 3,
   "id": "240d5997",
   "metadata": {},
   "outputs": [],
   "source": [
    "G.add_nodes_from([0, 1, 2, 3, 4, 5, 6, 7, 8, 9])\n",
    "\n",
    "G.add_edges_from([\n",
    "    (0,1),\n",
    "    (1,2),\n",
    "    (2,3),\n",
    "    (3,4),\n",
    "    (4,5),\n",
    "    (5,6),\n",
    "    (6,7),\n",
    "    (7,8),\n",
    "    (8,9),\n",
    "    (9,0),\n",
    "\n",
    "    (0,2),\n",
    "    (0,3),\n",
    "    (0,4),\n",
    "    (1,3)\n",
    "])"
   ]
  },
  {
   "cell_type": "code",
   "execution_count": null,
   "id": "4becf55d",
   "metadata": {},
   "outputs": [],
   "source": []
  },
  {
   "cell_type": "code",
   "execution_count": null,
   "id": "3b4d138f",
   "metadata": {},
   "outputs": [],
   "source": []
  },
  {
   "cell_type": "markdown",
   "id": "c8846182",
   "metadata": {},
   "source": [
    "# Common items"
   ]
  },
  {
   "cell_type": "code",
   "execution_count": 106,
   "id": "37fdf86c",
   "metadata": {},
   "outputs": [],
   "source": [
    "G = nx.Graph()  # The complete graph\n",
    "d = 3   # Amount of levels\n",
    "staticColoring = {}   # Coloring at any moment\n",
    "bucketLevels = []"
   ]
  },
  {
   "cell_type": "code",
   "execution_count": 146,
   "id": "7c469f8d-51cc-4278-b75f-42004394d703",
   "metadata": {},
   "outputs": [],
   "source": [
    "class Bucket:\n",
    "\n",
    "  vertices: set = {}\n",
    "  coloring: dict = {}\n",
    "\n",
    "  def __init__(self, size, level):\n",
    "      self.size = size\n",
    "      self.level = level\n",
    "\n",
    "  def addVertices(self, newVertices):\n",
    "    self.vertices = self.vertices.union(newVertices)\n",
    "    for vertex in newVertices:\n",
    "        G.nodes[vertex]['bucket'] = self\n",
    "\n",
    "  def removeVertices(self, removeVertices):\n",
    "    self.vertices = self.vertices.difference(removeVertices)\n",
    "    for vertex in removeVertices:\n",
    "        G.nodes[vertex]['bucket'] = None\n"
   ]
  },
  {
   "cell_type": "code",
   "execution_count": 50,
   "id": "b57cf762",
   "metadata": {},
   "outputs": [],
   "source": [
    "# Returns whether there is still an empty bucket on the requested level\n",
    "# Also returns the index of this bucket, if applicable\n",
    "def isEmptyBucketOnLevel(level: int) -> tuple[bool, int]:\n",
    "    for j in range(0, len(bucketLevels[level])):\n",
    "        bucket = bucketLevels[level][j]\n",
    "        if len(bucket.level) == 0:\n",
    "                return (True, j)\n",
    "    return (False, -1)"
   ]
  },
  {
   "cell_type": "code",
   "execution_count": 145,
   "id": "9b8c3809",
   "metadata": {},
   "outputs": [],
   "source": [
    "# Empties all buckets on a level and returns the union of all vertices\n",
    "# Also ensures the colorings and vertex lists in the emptied buckets are reset\n",
    "def emptyLevel(level: int):\n",
    "    vertices: set = {}\n",
    "    for bucket in bucketLevels[level]:\n",
    "        vertices = vertices.union(bucket.vertices)\n",
    "        bucket.removeVertices(bucket.vertices)\n",
    "        bucket.coloring = {}\n",
    "    return vertices"
   ]
  },
  {
   "cell_type": "code",
   "execution_count": 148,
   "id": "7a8b57bb",
   "metadata": {},
   "outputs": [],
   "source": []
  },
  {
   "cell_type": "code",
   "execution_count": 143,
   "id": "6d2dc1b2",
   "metadata": {},
   "outputs": [
    {
     "data": {
      "text/plain": [
       "{1, 2, 3, 4}"
      ]
     },
     "execution_count": 143,
     "metadata": {},
     "output_type": "execute_result"
    }
   ],
   "source": []
  },
  {
   "cell_type": "markdown",
   "id": "b7c3f190",
   "metadata": {},
   "source": [
    "# Small Bucket Algorithm"
   ]
  },
  {
   "cell_type": "code",
   "execution_count": 71,
   "id": "09cfbf8d",
   "metadata": {},
   "outputs": [],
   "source": []
  },
  {
   "cell_type": "code",
   "execution_count": 147,
   "id": "fac93115-a3b3-44e5-8d0f-540e048cc496",
   "metadata": {},
   "outputs": [],
   "source": [
    "# Creates brand new buckets with the correct sizes\n",
    "def resetBuckets(G: nx.Graph):\n",
    "    nx.set_node_attributes(G, None, 'bucket')   # Reset all bucket references in G to None\n",
    "    nr = G.number_of_nodes()    # Number of vertices in G\n",
    "    s = math.ceil(pow(nr, 1/d)) # Amount of buckets per level\n",
    "\n",
    "    # Create d levels of s buckets each, with capacity s^i per bucket, where i the level of the bucket\n",
    "    global bucketLevels\n",
    "    bucketLevels = []\n",
    "    for level in range(0, d):\n",
    "        bucketLevel = []\n",
    "        for b in range(0, s):\n",
    "            bucketLevel.append(Bucket(pow(s, level), level))\n",
    "        bucketLevels.append(bucketLevel)\n",
    "    bucketLevels.append([Bucket(nr, d)])\n",
    "    \n",
    "    staticColoring = nx.coloring.greedy_color(G)\n",
    "    "
   ]
  },
  {
   "cell_type": "code",
   "execution_count": 128,
   "id": "a21e437a",
   "metadata": {},
   "outputs": [],
   "source": []
  },
  {
   "cell_type": "code",
   "execution_count": null,
   "id": "fdaa21e1",
   "metadata": {},
   "outputs": [],
   "source": []
  },
  {
   "cell_type": "code",
   "execution_count": 129,
   "id": "73bd4730",
   "metadata": {},
   "outputs": [],
   "source": [
    "# Update bucket contents and recolor subgraphs\n",
    "def updateBuckets(b: Bucket):\n",
    "    b = b\n",
    "    i = 0\n",
    "    while i < d:\n",
    "        # If there is still an empty bucket on a level, this level does not need updating\n",
    "        # Simply recompute the coloring of the most recent bucket and return\n",
    "        if isEmptyBucketOnLevel(i)[0]:\n",
    "            b.coloring = nx.coloring.greedy_color(G.subgraph(b.vertices))\n",
    "            return\n",
    "        else:\n",
    "            # Else, empty all level i buckets into a single level i+1 bucket, update b to point at new bucket\n",
    "            vertices = emptyLevel(i)\n",
    "            d = bucketLevels[i+1][isEmptyBucketOnLevel(i+1)[1]]\n",
    "            d.addVertices(vertices)\n",
    "    resetBuckets()\n",
    "    return"
   ]
  },
  {
   "cell_type": "code",
   "execution_count": 130,
   "id": "ed1c4a83",
   "metadata": {},
   "outputs": [],
   "source": [
    "def removeEdge(e):\n",
    "    G.remove_edge(e)\n",
    "\n",
    "def removeVertex(v):\n",
    "    G.nodes[v]['buckets'].removeVertices([v])\n",
    "    G.remove_node(v)\n",
    "\n",
    "def addEdge(e):\n",
    "    G.add_edge(e)\n",
    "    # Select one of the endpoints at random, remove it from a bucket and add it as usual\n",
    "    if bool(random.getrandbits(1)):\n",
    "        v = e[0]\n",
    "    else:\n",
    "        v = e[1]\n",
    "\n",
    "    G.nodes[v]['buckets'].removeVertices([v])\n",
    "    addVertex(v)\n",
    "\n",
    "def addVertex(v):\n",
    "    G.add_node(v)\n",
    "    bucket = bucketLevels[0][isEmptyBucketOnLevel(0)[1]]\n",
    "    bucket.addVertices([v])"
   ]
  },
  {
   "cell_type": "code",
   "execution_count": 151,
   "id": "6e0d14d7",
   "metadata": {},
   "outputs": [],
   "source": [
    "def getColoring():\n",
    "    bucketColorings = []\n",
    "    for bucketLevel in bucketLevels:\n",
    "        for bucket in bucketLevel:\n",
    "            bucketColorings.append(bucket.coloring)\n",
    "    combinedColoring = misc.combineColorings(bucketColorings)   \n",
    "    totalColoring = staticColoring.copy() \n",
    "    totalColoring.update(combinedColoring)\n",
    "    return totalColoring      "
   ]
  },
  {
   "cell_type": "code",
   "execution_count": 127,
   "id": "1ea0f55a",
   "metadata": {},
   "outputs": [],
   "source": []
  },
  {
   "cell_type": "code",
   "execution_count": 126,
   "id": "bec1c533",
   "metadata": {},
   "outputs": [
    {
     "data": {
      "text/plain": [
       "<__main__.Bucket at 0x1de40533af0>"
      ]
     },
     "execution_count": 126,
     "metadata": {},
     "output_type": "execute_result"
    }
   ],
   "source": []
  },
  {
   "cell_type": "code",
   "execution_count": null,
   "id": "02f05042",
   "metadata": {},
   "outputs": [],
   "source": []
  },
  {
   "cell_type": "markdown",
   "id": "623a69af",
   "metadata": {},
   "source": [
    "# Big Bucket Algorithm"
   ]
  },
  {
   "cell_type": "code",
   "execution_count": null,
   "id": "dd91e32b-add3-4ef3-b203-8163189cd322",
   "metadata": {},
   "outputs": [],
   "source": []
  },
  {
   "cell_type": "markdown",
   "id": "39424003",
   "metadata": {},
   "source": [
    "# Testing and Drawing"
   ]
  },
  {
   "cell_type": "code",
   "execution_count": 6,
   "id": "24c6b0ff",
   "metadata": {},
   "outputs": [],
   "source": [
    "coloring = nx.coloring.greedy_color(G, strategy=nx.coloring.strategy_largest_first)"
   ]
  },
  {
   "cell_type": "code",
   "execution_count": 7,
   "id": "c415c43d",
   "metadata": {},
   "outputs": [],
   "source": [
    "layout = nx.spring_layout(G)"
   ]
  },
  {
   "cell_type": "code",
   "execution_count": 10,
   "id": "89a77ee3",
   "metadata": {},
   "outputs": [],
   "source": [
    "c = misc.combineColorings([coloring, coloring2])"
   ]
  },
  {
   "cell_type": "code",
   "execution_count": 14,
   "id": "5ebc9390",
   "metadata": {},
   "outputs": [],
   "source": [
    "G2 = G.subgraph([0,1,2,3])\n",
    "G3 = G.subgraph([4,5,6,7,8,9])"
   ]
  },
  {
   "cell_type": "code",
   "execution_count": null,
   "metadata": {},
   "outputs": [],
   "source": []
  },
  {
   "cell_type": "code",
   "execution_count": null,
   "id": "ca406263",
   "metadata": {},
   "outputs": [],
   "source": []
  }
 ],
 "metadata": {
  "kernelspec": {
   "display_name": "Python 3 (ipykernel)",
   "language": "python",
   "name": "python3"
  },
  "language_info": {
   "codemirror_mode": {
    "name": "ipython",
    "version": 3
   },
   "file_extension": ".py",
   "mimetype": "text/x-python",
   "name": "python",
   "nbconvert_exporter": "python",
   "pygments_lexer": "ipython3",
   "version": "3.9.5"
  }
 },
 "nbformat": 4,
 "nbformat_minor": 5
}
