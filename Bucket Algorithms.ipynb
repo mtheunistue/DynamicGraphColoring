{
 "cells": [
  {
   "cell_type": "markdown",
   "id": "21b60a7a",
   "metadata": {},
   "source": [
    "# Imports"
   ]
  },
  {
   "cell_type": "code",
   "execution_count": 63,
   "id": "16646cac-517a-442e-b70e-353abe179b32",
   "metadata": {},
   "outputs": [],
   "source": [
    "#Imports\n",
    "%matplotlib widget\n",
    "import pandas as pd\n",
    "import numpy as np\n",
    "import csv\n",
    "import matplotlib\n",
    "import matplotlib.pyplot as plt\n",
    "import scipy\n",
    "import datetime\n",
    "import networkx as nx\n",
    "import misc\n",
    "import math\n",
    "import random"
   ]
  },
  {
   "cell_type": "markdown",
   "id": "1f5c8374",
   "metadata": {},
   "source": [
    "# Data Generation"
   ]
  },
  {
   "cell_type": "code",
   "execution_count": 64,
   "id": "5196740d-36d2-4960-9fde-222208141229",
   "metadata": {},
   "outputs": [],
   "source": [
    "#Create empty graph\n",
    "G = nx.Graph()"
   ]
  },
  {
   "cell_type": "code",
   "execution_count": 65,
   "id": "240d5997",
   "metadata": {},
   "outputs": [],
   "source": [
    "G.add_nodes_from([0, 1, 2, 3, 4, 5, 6, 7, 8, 9])\n",
    "\n",
    "G.add_edges_from([\n",
    "    (0,1),\n",
    "    (1,2),\n",
    "    (2,3),\n",
    "    (3,4),\n",
    "    (4,5),\n",
    "    (5,6),\n",
    "    (6,7),\n",
    "    (7,8),\n",
    "    (8,9),\n",
    "    (9,0),\n",
    "\n",
    "    (0,2),\n",
    "    (0,3),\n",
    "    (0,4),\n",
    "    (1,3)\n",
    "])"
   ]
  },
  {
   "cell_type": "code",
   "execution_count": null,
   "id": "4becf55d",
   "metadata": {},
   "outputs": [],
   "source": []
  },
  {
   "cell_type": "code",
   "execution_count": null,
   "id": "3b4d138f",
   "metadata": {},
   "outputs": [],
   "source": []
  },
  {
   "cell_type": "markdown",
   "id": "c8846182",
   "metadata": {},
   "source": [
    "# Common items"
   ]
  },
  {
   "cell_type": "code",
   "execution_count": 66,
   "id": "37fdf86c",
   "metadata": {},
   "outputs": [],
   "source": [
    "G = nx.Graph()  # The complete graph\n",
    "d = 3   # Amount of levels\n",
    "staticColoring = {}   # Coloring at any moment\n",
    "bucketLevels = []"
   ]
  },
  {
   "cell_type": "code",
   "execution_count": 220,
   "id": "7c469f8d-51cc-4278-b75f-42004394d703",
   "metadata": {},
   "outputs": [],
   "source": [
    "class Bucket:\n",
    "\n",
    "  vertices: set = set({})\n",
    "  coloring: dict = {}\n",
    "\n",
    "  def __init__(self, size, level):\n",
    "      self.size = size\n",
    "      self.level = level\n",
    "\n",
    "  def addVertices(self, newVertices):\n",
    "    self.vertices = self.vertices.union(newVertices)\n",
    "    for vertex in newVertices:\n",
    "        G.nodes[vertex]['bucket'] = self\n",
    "\n",
    "  def removeVertices(self, removeVertices):\n",
    "    self.vertices = self.vertices.difference(removeVertices)\n",
    "    for vertex in removeVertices:\n",
    "        G.nodes[vertex]['bucket'] = None\n",
    "        self.coloring.pop(vertex, None)\n"
   ]
  },
  {
   "cell_type": "code",
   "execution_count": 68,
   "id": "b57cf762",
   "metadata": {},
   "outputs": [],
   "source": [
    "# Returns whether there is still an empty bucket on the requested level\n",
    "# Also returns the index of this bucket, if applicable\n",
    "def isEmptyBucketOnLevel(level: int) -> tuple[bool, int]:\n",
    "    for j in range(0, len(bucketLevels[level])):\n",
    "        bucket = bucketLevels[level][j]\n",
    "        if len(bucket.vertices) == 0:\n",
    "                return (True, j)\n",
    "    return (False, -1)"
   ]
  },
  {
   "cell_type": "code",
   "execution_count": 212,
   "id": "9b8c3809",
   "metadata": {},
   "outputs": [],
   "source": [
    "# Empties all buckets on a level and returns the union of all vertices\n",
    "# Also ensures the colorings and vertex lists in the emptied buckets are reset\n",
    "def emptyLevel(level: int):\n",
    "    vertices: set = set({})\n",
    "    for bucket in bucketLevels[level]:\n",
    "        vertices = vertices.union(bucket.vertices)\n",
    "        bucket.removeVertices(bucket.vertices)\n",
    "    return vertices"
   ]
  },
  {
   "cell_type": "code",
   "execution_count": null,
   "id": "7a8b57bb",
   "metadata": {},
   "outputs": [],
   "source": []
  },
  {
   "cell_type": "code",
   "execution_count": null,
   "id": "6d2dc1b2",
   "metadata": {},
   "outputs": [],
   "source": []
  },
  {
   "cell_type": "markdown",
   "id": "b7c3f190",
   "metadata": {},
   "source": [
    "# Small Bucket Algorithm"
   ]
  },
  {
   "cell_type": "code",
   "execution_count": null,
   "id": "09cfbf8d",
   "metadata": {},
   "outputs": [],
   "source": []
  },
  {
   "cell_type": "code",
   "execution_count": 194,
   "id": "fac93115-a3b3-44e5-8d0f-540e048cc496",
   "metadata": {},
   "outputs": [],
   "source": [
    "# Creates brand new buckets with the correct sizes\n",
    "def resetBuckets(G: nx.Graph):\n",
    "    nx.set_node_attributes(G, None, 'bucket')   # Reset all bucket references in G to None\n",
    "    nr = G.number_of_nodes()    # Number of vertices in G\n",
    "    s = math.ceil(pow(nr, 1/d)) # Amount of buckets per level\n",
    "    s = max(1, s)               # To allow the algorithm to work with empty graphs as well\n",
    "\n",
    "    # Create d levels of s buckets each, with capacity s^i per bucket, where i the level of the bucket\n",
    "    global bucketLevels\n",
    "    bucketLevels = []\n",
    "    for level in range(0, d):\n",
    "        bucketLevel = []\n",
    "        for b in range(0, s):\n",
    "            bucketLevel.append(Bucket(pow(s, level), level))\n",
    "        bucketLevels.append(bucketLevel)\n",
    "    bucketLevels.append([Bucket(nr, d)])\n",
    "    \n",
    "    global staticColoring\n",
    "    staticColoring = nx.coloring.greedy_color(G)\n",
    "    "
   ]
  },
  {
   "cell_type": "code",
   "execution_count": null,
   "id": "a21e437a",
   "metadata": {},
   "outputs": [],
   "source": []
  },
  {
   "cell_type": "code",
   "execution_count": null,
   "id": "fdaa21e1",
   "metadata": {},
   "outputs": [],
   "source": []
  },
  {
   "cell_type": "code",
   "execution_count": 86,
   "id": "73bd4730",
   "metadata": {},
   "outputs": [],
   "source": [
    "# Update bucket contents and recolor subgraphs\n",
    "def updateBuckets(b: Bucket):\n",
    "    b = b\n",
    "    i = 0\n",
    "    while i < d:\n",
    "        # If there is still an empty bucket on a level, this level does not need updating\n",
    "        # Simply recompute the coloring of the most recent bucket and return\n",
    "        if isEmptyBucketOnLevel(i)[0]:\n",
    "            b.coloring = nx.coloring.greedy_color(G.subgraph(b.vertices))\n",
    "            return\n",
    "        else:\n",
    "            # Else, empty all level i buckets into a single level i+1 bucket, update b to point at new bucket\n",
    "            vertices = emptyLevel(i)\n",
    "            b = bucketLevels[i+1][isEmptyBucketOnLevel(i+1)[1]]\n",
    "            b.addVertices(vertices)\n",
    "            i += 1\n",
    "    resetBuckets(G)\n",
    "    return"
   ]
  },
  {
   "cell_type": "code",
   "execution_count": 244,
   "id": "ed1c4a83",
   "metadata": {},
   "outputs": [],
   "source": [
    "def removeEdge(s, t):\n",
    "    if not G.has_edge(s, t):    # Potentially redundant\n",
    "        print(\"Edge not present in graph\")\n",
    "        return\n",
    "    G.remove_edge(s, t)\n",
    "\n",
    "def removeVertex(v):\n",
    "\n",
    "    if not G.has_node(v):   # Potentially redundant\n",
    "        print(\"Node not present in graph\")\n",
    "        return\n",
    "\n",
    "    b = G.nodes[v]['bucket']\n",
    "    if b != None:\n",
    "        b.removeVertices([v])\n",
    "    G.remove_node(v)\n",
    "\n",
    "def addEdge(s, t):\n",
    "\n",
    "    if G.has_edge(s, t):    # Potentially redundant, but could be extended to also check if the vertices are present yet\n",
    "        print(\"Edge already in the graph\")\n",
    "        return\n",
    "    if (not G.has_node(s) or not G.has_node(t)):\n",
    "        print(\"Not all nodes present in graph yet\")\n",
    "        return\n",
    "\n",
    "\n",
    "    G.add_edge(s, t)\n",
    "    # Select one of the endpoints at random, remove it from a bucket and add it as usual\n",
    "    if bool(random.getrandbits(1)):\n",
    "        v = s\n",
    "    else:\n",
    "        v = t\n",
    "        \n",
    "    b = G.nodes[v]['bucket']\n",
    "    if b != None:\n",
    "        b.removeVertices([v])\n",
    "    \n",
    "    # Add vertex to an empty bucket\n",
    "    bucket = bucketLevels[0][isEmptyBucketOnLevel(0)[1]]\n",
    "    bucket.addVertices([v])\n",
    "    updateBuckets(bucket)\n",
    "\n",
    "def addVertex(v):\n",
    "    if G.has_node(v):   # Potentially redundant, depending on the input used during the experiments\n",
    "        print(\"Node already present in graph\")\n",
    "        return\n",
    "    G.add_node(v)\n",
    "    bucket = bucketLevels[0][isEmptyBucketOnLevel(0)[1]]\n",
    "    bucket.addVertices([v])\n",
    "    updateBuckets(bucket)"
   ]
  },
  {
   "cell_type": "code",
   "execution_count": 236,
   "id": "6e0d14d7",
   "metadata": {},
   "outputs": [],
   "source": [
    "def getColoring():\n",
    "    bucketColorings = [staticColoring]\n",
    "    for bucketLevel in bucketLevels:\n",
    "        for bucket in bucketLevel:\n",
    "            bucketColorings.append(bucket.coloring)\n",
    "    combinedColoring = misc.combineColorings(bucketColorings)   \n",
    "    return combinedColoring      "
   ]
  },
  {
   "cell_type": "code",
   "execution_count": 74,
   "id": "6b674062",
   "metadata": {},
   "outputs": [],
   "source": [
    "def printBucketLevels(bls):\n",
    "    for bl in bls:\n",
    "        for b in bl:\n",
    "            print(\"|  \" + str(b.vertices) + \"  |\")\n",
    "        print(\"-----------------------------------------------\")\n"
   ]
  },
  {
   "cell_type": "code",
   "execution_count": 223,
   "id": "f8230da4",
   "metadata": {},
   "outputs": [],
   "source": [
    "G = nx.Graph()"
   ]
  },
  {
   "cell_type": "code",
   "execution_count": 224,
   "id": "611df655",
   "metadata": {},
   "outputs": [],
   "source": [
    "resetBuckets(G)"
   ]
  },
  {
   "cell_type": "code",
   "execution_count": 253,
   "id": "1ea0f55a",
   "metadata": {},
   "outputs": [
    {
     "name": "stdout",
     "output_type": "stream",
     "text": [
      "Node already present in graph\n",
      "|  set()  |\n",
      "|  set()  |\n",
      "-----------------------------------------------\n",
      "|  set()  |\n",
      "|  set()  |\n",
      "-----------------------------------------------\n",
      "|  set()  |\n",
      "|  set()  |\n",
      "-----------------------------------------------\n",
      "|  set()  |\n",
      "-----------------------------------------------\n"
     ]
    }
   ],
   "source": [
    "addVertex(1)\n",
    "printBucketLevels(bucketLevels)"
   ]
  },
  {
   "cell_type": "code",
   "execution_count": 210,
   "id": "3cd0d863",
   "metadata": {},
   "outputs": [
    {
     "data": {
      "text/plain": [
       "{2: 0, 3: 0, 4: 0, 5: 0}"
      ]
     },
     "execution_count": 210,
     "metadata": {},
     "output_type": "execute_result"
    }
   ],
   "source": [
    "bucketLevels[2][0].coloring"
   ]
  },
  {
   "cell_type": "code",
   "execution_count": 208,
   "id": "c0ed8abc",
   "metadata": {},
   "outputs": [
    {
     "data": {
      "text/plain": [
       "{0: 0, 1: 0, 2: 1, 3: 1, 4: 1, 5: 1}"
      ]
     },
     "execution_count": 208,
     "metadata": {},
     "output_type": "execute_result"
    }
   ],
   "source": [
    "getColoring()"
   ]
  },
  {
   "cell_type": "code",
   "execution_count": 243,
   "id": "02f05042",
   "metadata": {},
   "outputs": [
    {
     "data": {
      "application/vnd.jupyter.widget-view+json": {
       "model_id": "8c79ca5497c543a5a15e34da39907c8f",
       "version_major": 2,
       "version_minor": 0
      },
      "image/png": "[encoded data removed]",
      "text/html": [
       "\n",
       "            <div style=\"display: inline-block;\">\n",
       "                <div class=\"jupyter-widgets widget-label\" style=\"text-align: center;\">\n",
       "                    Figure\n",
       "                </div>\n",
       "                <img src='data:image/png;base64,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' width=640.0/>\n",
       "            </div>\n",
       "        "
      ],
      "text/plain": [
       "Canvas(toolbar=Toolbar(toolitems=[('Home', 'Reset original view', 'home', 'home'), ('Back', 'Back to previous …"
      ]
     },
     "metadata": {},
     "output_type": "display_data"
    }
   ],
   "source": [
    "misc.draw(G, getColoring())"
   ]
  },
  {
   "cell_type": "markdown",
   "id": "623a69af",
   "metadata": {},
   "source": [
    "# Big Bucket Algorithm"
   ]
  },
  {
   "cell_type": "code",
   "execution_count": null,
   "id": "dd91e32b-add3-4ef3-b203-8163189cd322",
   "metadata": {},
   "outputs": [],
   "source": []
  },
  {
   "cell_type": "markdown",
   "id": "39424003",
   "metadata": {},
   "source": [
    "# Testing and Drawing"
   ]
  },
  {
   "cell_type": "code",
   "execution_count": null,
   "id": "24c6b0ff",
   "metadata": {},
   "outputs": [],
   "source": [
    "coloring = nx.coloring.greedy_color(G, strategy=nx.coloring.strategy_largest_first)"
   ]
  },
  {
   "cell_type": "code",
   "execution_count": null,
   "id": "c415c43d",
   "metadata": {},
   "outputs": [],
   "source": [
    "layout = nx.spring_layout(G)"
   ]
  },
  {
   "cell_type": "code",
   "execution_count": null,
   "id": "89a77ee3",
   "metadata": {},
   "outputs": [
    {
     "ename": "NameError",
     "evalue": "name 'coloring2' is not defined",
     "output_type": "error",
     "traceback": [
      "\u001b[1;31m---------------------------------------------------------------------------\u001b[0m",
      "\u001b[1;31mNameError\u001b[0m                                 Traceback (most recent call last)",
      "\u001b[1;32md:\\my documents\\tue\\Thesis\\Coding\\DynamicGraphColoring\\Bucket Algorithms.ipynb Cell 31'\u001b[0m in \u001b[0;36m<module>\u001b[1;34m\u001b[0m\n\u001b[1;32m----> <a href='vscode-notebook-cell:/d%3A/my%20documents/tue/Thesis/Coding/DynamicGraphColoring/Bucket%20Algorithms.ipynb#ch0000030?line=0'>1</a>\u001b[0m c \u001b[39m=\u001b[39m misc\u001b[39m.\u001b[39mcombineColorings([coloring, coloring2])\n",
      "\u001b[1;31mNameError\u001b[0m: name 'coloring2' is not defined"
     ]
    }
   ],
   "source": [
    "c = misc.combineColorings([coloring, coloring2])"
   ]
  },
  {
   "cell_type": "code",
   "execution_count": null,
   "id": "5ebc9390",
   "metadata": {},
   "outputs": [],
   "source": [
    "G2 = G.subgraph([0,1,2,3])\n",
    "G3 = G.subgraph([4,5,6,7,8,9])"
   ]
  },
  {
   "cell_type": "code",
   "execution_count": null,
   "metadata": {},
   "outputs": [],
   "source": []
  },
  {
   "cell_type": "code",
   "execution_count": null,
   "id": "ca406263",
   "metadata": {},
   "outputs": [],
   "source": []
  }
 ],
 "metadata": {
  "kernelspec": {
   "display_name": "Python 3 (ipykernel)",
   "language": "python",
   "name": "python3"
  },
  "language_info": {
   "codemirror_mode": {
    "name": "ipython",
    "version": 3
   },
   "file_extension": ".py",
   "mimetype": "text/x-python",
   "name": "python",
   "nbconvert_exporter": "python",
   "pygments_lexer": "ipython3",
   "version": "3.9.5"
  }
 },
 "nbformat": 4,
 "nbformat_minor": 5
}
